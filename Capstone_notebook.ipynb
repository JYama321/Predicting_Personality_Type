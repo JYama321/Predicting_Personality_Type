{
 "cells": [
  {
   "cell_type": "markdown",
   "metadata": {},
   "source": [
    "# GA DSI Capstone: \n",
    "# Predicting Myers-Briggs Personality Types from Social Media Posts\n",
    "\n",
    "### Name: Maria Yarolin\n",
    "\n",
    "### Due Date: December 18, 2017"
   ]
  },
  {
   "cell_type": "markdown",
   "metadata": {},
   "source": [
    "---"
   ]
  },
  {
   "cell_type": "markdown",
   "metadata": {},
   "source": [
    "## Executive Summary\n",
    "\n",
    "**Problem Statement**\n",
    "\n",
    "*Personality* refers to individual differences in characteristic patterns of thinking, feeling and behaving. *Personality typologies* classify different types of individuals to reveal and enhance the understanding of their behaviors.\n",
    "\n",
    "The Myers-Briggs Type Indicator (MBTI) is a psychological assessment tool to classify people into one of 16 different personality types. The classification system consists of a four-letter code based on four axes, where each letter in the code refers to the predominant trait in each axis. The four axes are:\n",
    "- Introversion (I) – Extroversion (E)\n",
    "- Intuition (N) – Sensing (S)\n",
    "- Thinking (T) – Feeling (F)\n",
    "- Judging (J) – Perceiving (P)\n",
    "\n",
    "For example, a person scoring higher on Introversion, Sensing, Thinking, and Judging would be classified with an ISTJ personality type.\n",
    "\n",
    "This capstone project uses natural language processing techniques to analyze text postings on a social forum, and predict the writers' personality type using a classification model. It also compares personality types based on other factors such as the length, polarity, and subjectivity of these posts.\n",
    "\n",
    "\n",
    "**Data source**\n",
    "\n",
    "The dataset was obtained on Kaggle (https://www.kaggle.com/datasnaek/mbti-type), and contains data from 8,675 subjects. \n",
    "\n",
    "The original dataset consists of 2 columns: \n",
    "- *type*: subjects’ known MBTI code (16 codes in total)\n",
    "- *posts*: subjects’ 50 most recent posts on PersonalityCafe, an online forum focusing on personality types (http://personalitycafe.com/forum/). The site is geared toward the general public (not psychology professionals) with an interest in the topic of personality types\n",
    "\n",
    "The dataset is skewed toward subjects from the Introverted-Intuitive personality types (INFJ, INFP, INTJ, and INTP).\n",
    "Also, personality types are self-reported by the users of this forum, and it is assumed that they are reported accurately. \n",
    "\n",
    "**Key findings**\n",
    "\n",
    "Three different classification models were tested: K-Neighbors Classifier, Random Forest Classifier, and One-Vs-The-Rest Classifier. The One-Vs-The-Rest Classifier, although having only the second-highest accuracy score of the three (0.265), cleared the 0.211 baseline and also predicted classes across the entire 16-class range -- unlike the top-scoring Random Forest Classifier. \n",
    "\n",
    "On average, subjects used 26.4 words per post, with a neutral polarity (0.125) and moderate subjectivity (0.535)."
   ]
  },
  {
   "cell_type": "markdown",
   "metadata": {},
   "source": [
    "---"
   ]
  },
  {
   "cell_type": "markdown",
   "metadata": {},
   "source": [
    "## Document Sections\n",
    "- [Exploratory Data Analysis (EDA)](#exploratory-data-analysis)\n",
    "    - [Data dictionary](#data-dictionary)\n",
    "- [Preprocessing](#preprocessing)\n",
    "- [Classification](#classification)\n",
    "    - [Model: Random Forest Classifier](#random-forest-classifier)\n",
    "    - [Model: KNeighbors Classifier](#k-neighbors-classifier)\n",
    "    - [Model: OneVsRest Classifier](#one-vs-rest-classifier)\n",
    "- [Sentiment Analysis and Word Count](#text-analysis)\n",
    "    - [Length of Post](#length-of-post)\n",
    "    - [Polarity](#polarity)\n",
    "    - [Subjectivity](#subjectivity)\n",
    "- [Conclusion](#conclusion)\n",
    "- [Next Steps](#next-steps) "
   ]
  },
  {
   "cell_type": "markdown",
   "metadata": {},
   "source": [
    "---"
   ]
  },
  {
   "cell_type": "markdown",
   "metadata": {},
   "source": [
    "<a id='exploratory-data-analysis'></a>\n",
    "## Exploratory Data Analysis (EDA)"
   ]
  },
  {
   "cell_type": "code",
   "execution_count": 1,
   "metadata": {
    "collapsed": true
   },
   "outputs": [],
   "source": [
    "# Import libraries\n",
    "from collections import Counter\n",
    "\n",
    "import numpy as np\n",
    "import pandas as pd\n",
    "import matplotlib.pyplot as plt\n",
    "%matplotlib inline\n",
    "import seaborn as sns\n",
    "sns.set_style(\"whitegrid\")\n",
    "import scipy.stats as stats\n",
    "\n",
    "import re\n",
    "import string\n",
    "\n",
    "from nltk.corpus import stopwords\n",
    "from nltk.stem import PorterStemmer\n",
    "\n",
    "from textblob import TextBlob\n",
    "\n",
    "from sklearn import metrics\n",
    "from sklearn.feature_extraction.text import CountVectorizer\n",
    "from sklearn.decomposition import TruncatedSVD\n",
    "from sklearn.ensemble import RandomForestClassifier\n",
    "from sklearn.multiclass import OneVsRestClassifier\n",
    "from sklearn.neighbors import KNeighborsClassifier\n",
    "from sklearn.metrics import confusion_matrix, classification_report\n",
    "from sklearn.model_selection import train_test_split, GridSearchCV\n",
    "from sklearn.pipeline import make_pipeline\n",
    "from sklearn.svm import LinearSVC"
   ]
  },
  {
   "cell_type": "code",
   "execution_count": 2,
   "metadata": {
    "collapsed": true
   },
   "outputs": [],
   "source": [
    "# Load dataset\n",
    "df = pd.read_csv('/Users/mariayarolin/GA/Projects/Capstone/capstone/Datasets/mbti_1.csv')"
   ]
  },
  {
   "cell_type": "markdown",
   "metadata": {},
   "source": [
    "<a id='data-dictionary'></a>\n",
    "**Data Dictionary** \n",
    "\n",
    "Variables in original dataframe:\n",
    "- *type*: (string) four-letter Myers-Briggs Type Index (MBTI) code\n",
    "- *posts*: (string) text of fifty most recent posts to the *PersonalityCafe* forum\n",
    "\n",
    "New variables added for analysis in the *df_working* datafile:\n",
    "- *I-E*: (string) code on Introversion-Extroversion axis, derived from *type*\n",
    "- *N-S*: (string) code on Intuition-Sensing axis, derived from *type*\n",
    "- *T-F*: (string) code on Thinking-Feeling axis, derived from *type*\n",
    "- *J-P*: (string) code on Judging-Perceiving axis, derived from *type*\n",
    "- *posts_r*: (string) cleaned post text, derived from *posts*\n",
    "- *total_words*: (integer) number of total words across 50 posts, derived from *posts*\n",
    "- *avg_words_per_post*: (float) average number of words per post, derived from *posts* and *total words*\n",
    "- *polarity*: (float) polarity score (range -1 to 1)\n",
    "- *subjectivity*: (float) subjectivity score (range 0 to 1)"
   ]
  },
  {
   "cell_type": "code",
   "execution_count": 19,
   "metadata": {},
   "outputs": [
    {
     "data": {
      "text/html": [
       "<div>\n",
       "<style>\n",
       "    .dataframe thead tr:only-child th {\n",
       "        text-align: right;\n",
       "    }\n",
       "\n",
       "    .dataframe thead th {\n",
       "        text-align: left;\n",
       "    }\n",
       "\n",
       "    .dataframe tbody tr th {\n",
       "        vertical-align: top;\n",
       "    }\n",
       "</style>\n",
       "<table border=\"1\" class=\"dataframe\">\n",
       "  <thead>\n",
       "    <tr style=\"text-align: right;\">\n",
       "      <th></th>\n",
       "      <th>type</th>\n",
       "      <th>posts</th>\n",
       "    </tr>\n",
       "  </thead>\n",
       "  <tbody>\n",
       "    <tr>\n",
       "      <th>0</th>\n",
       "      <td>INFJ</td>\n",
       "      <td>'http://www.youtube.com/watch?v=qsXHcwe3krw|||...</td>\n",
       "    </tr>\n",
       "    <tr>\n",
       "      <th>1</th>\n",
       "      <td>ENTP</td>\n",
       "      <td>'I'm finding the lack of me in these posts ver...</td>\n",
       "    </tr>\n",
       "    <tr>\n",
       "      <th>2</th>\n",
       "      <td>INTP</td>\n",
       "      <td>'Good one  _____   https://www.youtube.com/wat...</td>\n",
       "    </tr>\n",
       "    <tr>\n",
       "      <th>3</th>\n",
       "      <td>INTJ</td>\n",
       "      <td>'Dear INTP,   I enjoyed our conversation the o...</td>\n",
       "    </tr>\n",
       "    <tr>\n",
       "      <th>4</th>\n",
       "      <td>ENTJ</td>\n",
       "      <td>'You're fired.|||That's another silly misconce...</td>\n",
       "    </tr>\n",
       "  </tbody>\n",
       "</table>\n",
       "</div>"
      ],
      "text/plain": [
       "   type                                              posts\n",
       "0  INFJ  'http://www.youtube.com/watch?v=qsXHcwe3krw|||...\n",
       "1  ENTP  'I'm finding the lack of me in these posts ver...\n",
       "2  INTP  'Good one  _____   https://www.youtube.com/wat...\n",
       "3  INTJ  'Dear INTP,   I enjoyed our conversation the o...\n",
       "4  ENTJ  'You're fired.|||That's another silly misconce..."
      ]
     },
     "execution_count": 19,
     "metadata": {},
     "output_type": "execute_result"
    }
   ],
   "source": [
    "# View first five rows of dataset\n",
    "df.head()"
   ]
  },
  {
   "cell_type": "code",
   "execution_count": 4,
   "metadata": {
    "collapsed": true
   },
   "outputs": [
    {
     "name": "stdout",
     "output_type": "stream",
     "text": [
      "'http://www.youtube.com/watch?v=qsXHcwe3krw|||http://41.media.tumblr.com/tumblr_lfouy03PMA1qa1rooo1_500.jpg|||enfp and intj moments  https://www.youtube.com/watch?v=iz7lE1g4XM4  sportscenter not top ten plays  https://www.youtube.com/watch?v=uCdfze1etec  pranks|||What has been the most life-changing experience in your life?|||http://www.youtube.com/watch?v=vXZeYwwRDw8   http://www.youtube.com/watch?v=u8ejam5DP3E  On repeat for most of today.|||May the PerC Experience immerse you.|||The last thing my INFJ friend posted on his facebook before committing suicide the next day. Rest in peace~   http://vimeo.com/22842206|||Hello ENFJ7. Sorry to hear of your distress. It's only natural for a relationship to not be perfection all the time in every moment of existence. Try to figure the hard times as times of growth, as...|||84389  84390  http://wallpaperpassion.com/upload/23700/friendship-boy-and-girl-wallpaper.jpg  http://assets.dornob.com/wp-content/uploads/2010/04/round-home-design.jpg ...|||Welcome and stuff.|||http://playeressence.com/wp-content/uploads/2013/08/RED-red-the-pokemon-master-32560474-450-338.jpg  Game. Set. Match.|||Prozac, wellbrutin, at least thirty minutes of moving your legs (and I don't mean moving them while sitting in your same desk chair), weed in moderation (maybe try edibles as a healthier alternative...|||Basically come up with three items you've determined that each type (or whichever types you want to do) would more than likely use, given each types' cognitive functions and whatnot, when left by...|||All things in moderation.  Sims is indeed a video game, and a good one at that. Note: a good one at that is somewhat subjective in that I am not completely promoting the death of any given Sim...|||Dear ENFP:  What were your favorite video games growing up and what are your now, current favorite video games? :cool:|||https://www.youtube.com/watch?v=QyPqT8umzmY|||It appears to be too late. :sad:|||There's someone out there for everyone.|||Wait... I thought confidence was a good thing.|||I just cherish the time of solitude b/c i revel within my inner world more whereas most other time i'd be workin... just enjoy the me time while you can. Don't worry, people will always be around to...|||Yo entp ladies... if you're into a complimentary personality,well, hey.|||... when your main social outlet is xbox live conversations and even then you verbally fatigue quickly.|||http://www.youtube.com/watch?v=gDhy7rdfm14  I really dig the part from 1:46 to 2:50|||http://www.youtube.com/watch?v=msqXffgh7b8|||Banned because this thread requires it of me.|||Get high in backyard, roast and eat marshmellows in backyard while conversing over something intellectual, followed by massages and kisses.|||http://www.youtube.com/watch?v=Mw7eoU3BMbE|||http://www.youtube.com/watch?v=4V2uYORhQOk|||http://www.youtube.com/watch?v=SlVmgFQQ0TI|||Banned for too many b's in that sentence. How could you! Think of the B!|||Banned for watching movies in the corner with the dunces.|||Banned because Health class clearly taught you nothing about peer pressure.|||Banned for a whole host of reasons!|||http://www.youtube.com/watch?v=IRcrv41hgz4|||1) Two baby deer on left and right munching on a beetle in the middle.  2) Using their own blood, two cavemen diary today's latest happenings on their designated cave diary wall.  3) I see it as...|||a pokemon world  an infj society  everyone becomes an optimist|||49142|||http://www.youtube.com/watch?v=ZRCEq_JFeFM|||http://discovermagazine.com/2012/jul-aug/20-things-you-didnt-know-about-deserts/desert.jpg|||http://oyster.ignimgs.com/mediawiki/apis.ign.com/pokemon-silver-version/d/dd/Ditto.gif|||http://www.serebii.net/potw-dp/Scizor.jpg|||Not all artists are artists because they draw. It's the idea that counts in forming something of your own... like a signature.|||Welcome to the robot ranks, person who downed my self-esteem cuz I'm not an avid signature artist like herself. :proud:|||Banned for taking all the room under my bed. Ya gotta learn to share with the roaches.|||http://www.youtube.com/watch?v=w8IgImn57aQ|||Banned for being too much of a thundering, grumbling kind of storm... yep.|||Ahh... old high school music I haven't heard in ages.   http://www.youtube.com/watch?v=dcCRUPCdB1w|||I failed a public speaking class a few years ago and I've sort of learned what I could do better were I to be in that position again. A big part of my failure was just overloading myself with too...|||I like this person's mentality. He's a confirmed INTJ by the way. http://www.youtube.com/watch?v=hGKLI-GEc6M|||Move to the Denver area and start a new life for myself.'\n"
     ]
    }
   ],
   "source": [
    "# View full text of the first post\n",
    "print(df.iloc[0,1])"
   ]
  },
  {
   "cell_type": "markdown",
   "metadata": {},
   "source": [
    "Examining the raw text, it is noted that: \n",
    "- Each post is separated by 3 pipes ( ||| ). \n",
    "- Website links appear frequently in this post. \n",
    "- The 4-letter personality type codes are referenced frequently. These posts were obtained from a forum specifically dedicated to personality types, so the subjects were primed regarding their classification. The data transformation should add the codes for the 16 types to the list of stopwords, to avoid biasing the model. "
   ]
  },
  {
   "cell_type": "code",
   "execution_count": 5,
   "metadata": {
    "collapsed": true
   },
   "outputs": [
    {
     "data": {
      "text/plain": [
       "(8675, 2)"
      ]
     },
     "execution_count": 5,
     "metadata": {},
     "output_type": "execute_result"
    }
   ],
   "source": [
    "# View shape of dataset\n",
    "df.shape"
   ]
  },
  {
   "cell_type": "markdown",
   "metadata": {},
   "source": [
    "There are 8675 rows and 2 columns in the dataframe."
   ]
  },
  {
   "cell_type": "code",
   "execution_count": 6,
   "metadata": {
    "collapsed": true
   },
   "outputs": [
    {
     "name": "stdout",
     "output_type": "stream",
     "text": [
      "<class 'pandas.core.frame.DataFrame'>\n",
      "RangeIndex: 8675 entries, 0 to 8674\n",
      "Data columns (total 2 columns):\n",
      "type     8675 non-null object\n",
      "posts    8675 non-null object\n",
      "dtypes: object(2)\n",
      "memory usage: 135.6+ KB\n"
     ]
    }
   ],
   "source": [
    "# View information about the dataset\n",
    "df.info()"
   ]
  },
  {
   "cell_type": "markdown",
   "metadata": {},
   "source": [
    "The column names are 'type' and 'posts'. Both are datatype 'object'. There are no null values."
   ]
  },
  {
   "cell_type": "code",
   "execution_count": 7,
   "metadata": {},
   "outputs": [
    {
     "data": {
      "text/plain": [
       "array(['INFJ', 'ENTP', 'INTP', 'INTJ', 'ENTJ', 'ENFJ', 'INFP', 'ENFP',\n",
       "       'ISFP', 'ISTP', 'ISFJ', 'ISTJ', 'ESTP', 'ESFP', 'ESTJ', 'ESFJ'], dtype=object)"
      ]
     },
     "execution_count": 7,
     "metadata": {},
     "output_type": "execute_result"
    }
   ],
   "source": [
    "# Examine number of unique items are in the 'type' (classification) column\n",
    "df['type'].unique()"
   ]
  },
  {
   "cell_type": "markdown",
   "metadata": {},
   "source": [
    "The 'type' column contains 16 unique codes, representing the 16 different personality types."
   ]
  },
  {
   "cell_type": "code",
   "execution_count": 8,
   "metadata": {},
   "outputs": [
    {
     "data": {
      "text/plain": [
       "INFP    1832\n",
       "INFJ    1470\n",
       "INTP    1304\n",
       "INTJ    1091\n",
       "ENTP     685\n",
       "ENFP     675\n",
       "ISTP     337\n",
       "ISFP     271\n",
       "ENTJ     231\n",
       "ISTJ     205\n",
       "ENFJ     190\n",
       "ISFJ     166\n",
       "ESTP      89\n",
       "ESFP      48\n",
       "ESFJ      42\n",
       "ESTJ      39\n",
       "Name: type, dtype: int64"
      ]
     },
     "execution_count": 8,
     "metadata": {},
     "output_type": "execute_result"
    }
   ],
   "source": [
    "# Explore the counts for each of these types\n",
    "df['type'].value_counts()"
   ]
  },
  {
   "cell_type": "markdown",
   "metadata": {},
   "source": [
    "Observation: Of the 8675 records, INFP is the most frequently-appearing Myers-Briggs type in this dataset (n=1832), while ESTJ is the least frequent (n=39)."
   ]
  },
  {
   "cell_type": "code",
   "execution_count": 16,
   "metadata": {
    "scrolled": true
   },
   "outputs": [
    {
     "data": {
      "image/png": "[encoded data removed]",
      "text/plain": [
       "<matplotlib.figure.Figure at 0x1a18b49a20>"
      ]
     },
     "metadata": {},
     "output_type": "display_data"
    }
   ],
   "source": [
    "# Countplot of the 16 personality types in the dataset\n",
    "dims1 = (15.0, 4.0)\n",
    "fig, ax = plt.subplots(figsize=dims1)\n",
    "coolwarm = sns.color_palette(\"coolwarm\", 16)\n",
    "sns.set_palette(coolwarm)\n",
    "sns.countplot(x=\"type\", data=df, \\\n",
    "              order=[\"ENFJ\",\"ENFP\",\"ENTJ\",\"ENTP\",\"ESFJ\",\"ESFP\",\"ESTJ\",\"ESTP\",\\\n",
    "                     \"INFJ\",\"INFP\",\"INTJ\",\"INTP\",\"ISFJ\",\"ISFP\",\"ISTJ\",\"ISTP\"])\n",
    "plt.title(\"Distribution of Myers-Briggs Types in the Dataset\", fontsize=16)\n",
    "plt.xticks(fontsize=12)\n",
    "plt.yticks(fontsize=12);"
   ]
  },
  {
   "cell_type": "markdown",
   "metadata": {},
   "source": [
    "The bar chart above shows that INFP (Introversion - Intuition - Feeling - Perceiving) is the most frequently appearing type in the dataset, followed by INFJ (Introversion - Intuition - Feeling - Judging). Overall, the dataset contains many more Intuitive-Intuition (IN-) groupings than any other type. Conversely, the dataset contains very few Extroversion-Sensing (ES-) types.\n",
    "\n",
    "It is possible that the sample is highly self-selected, and people who display Introverted-Intuitive traits are more inclined to be interested in personality theory and/or users of the PersonalityCafe site."
   ]
  },
  {
   "cell_type": "code",
   "execution_count": 21,
   "metadata": {},
   "outputs": [
    {
     "name": "stdout",
     "output_type": "stream",
     "text": [
      "Introversion (I) – Extroversion (E) \n",
      " I    6676\n",
      "E    1999\n",
      "Name: type, dtype: int64 \n",
      "\n",
      "Intuition (N) – Sensing (S) \n",
      " N    7478\n",
      "S    1197\n",
      "Name: type, dtype: int64 \n",
      "\n",
      "Thinking (T) – Feeling (F) \n",
      " F    4694\n",
      "T    3981\n",
      "Name: type, dtype: int64 \n",
      "\n",
      "Judging (J) – Perceiving (P) \n",
      " P    5241\n",
      "J    3434\n",
      "Name: type, dtype: int64 \n",
      "\n"
     ]
    }
   ],
   "source": [
    "# Explore the counts for each axis of the types\n",
    "print('Introversion (I) – Extroversion (E)', '\\n', df['type'].map(lambda x: x[0]).value_counts(), '\\n')\n",
    "print('Intuition (N) – Sensing (S)', '\\n', df['type'].map(lambda x: x[1]).value_counts(), '\\n')\n",
    "print('Thinking (T) – Feeling (F)', '\\n', df['type'].map(lambda x: x[2]).value_counts(), '\\n')\n",
    "print('Judging (J) – Perceiving (P)', '\\n', df['type'].map(lambda x: x[3]).value_counts(), '\\n')"
   ]
  },
  {
   "cell_type": "markdown",
   "metadata": {},
   "source": [
    "Viewed by individual axes, we again see the dataset contains many more Introverts (I) than Extroverts (E), and more Intuitives (N) than Sensers (S). The distributions of Thinkers (T) vs. Feelers (F), and Judgers (J) vs. Perceivers (P) are more balanced."
   ]
  },
  {
   "cell_type": "markdown",
   "metadata": {
    "collapsed": true
   },
   "source": [
    "---"
   ]
  },
  {
   "cell_type": "markdown",
   "metadata": {},
   "source": [
    "<a id='preprocessing'></a>\n",
    "## Preprocessing"
   ]
  },
  {
   "cell_type": "code",
   "execution_count": 3,
   "metadata": {
    "collapsed": true
   },
   "outputs": [
    {
     "data": {
      "text/html": [
       "<div>\n",
       "<style>\n",
       "    .dataframe thead tr:only-child th {\n",
       "        text-align: right;\n",
       "    }\n",
       "\n",
       "    .dataframe thead th {\n",
       "        text-align: left;\n",
       "    }\n",
       "\n",
       "    .dataframe tbody tr th {\n",
       "        vertical-align: top;\n",
       "    }\n",
       "</style>\n",
       "<table border=\"1\" class=\"dataframe\">\n",
       "  <thead>\n",
       "    <tr style=\"text-align: right;\">\n",
       "      <th></th>\n",
       "      <th>type</th>\n",
       "      <th>posts</th>\n",
       "    </tr>\n",
       "  </thead>\n",
       "  <tbody>\n",
       "    <tr>\n",
       "      <th>0</th>\n",
       "      <td>INFJ</td>\n",
       "      <td>'http://www.youtube.com/watch?v=qsXHcwe3krw|||...</td>\n",
       "    </tr>\n",
       "    <tr>\n",
       "      <th>1</th>\n",
       "      <td>ENTP</td>\n",
       "      <td>'I'm finding the lack of me in these posts ver...</td>\n",
       "    </tr>\n",
       "    <tr>\n",
       "      <th>2</th>\n",
       "      <td>INTP</td>\n",
       "      <td>'Good one  _____   https://www.youtube.com/wat...</td>\n",
       "    </tr>\n",
       "    <tr>\n",
       "      <th>3</th>\n",
       "      <td>INTJ</td>\n",
       "      <td>'Dear INTP,   I enjoyed our conversation the o...</td>\n",
       "    </tr>\n",
       "    <tr>\n",
       "      <th>4</th>\n",
       "      <td>ENTJ</td>\n",
       "      <td>'You're fired.|||That's another silly misconce...</td>\n",
       "    </tr>\n",
       "  </tbody>\n",
       "</table>\n",
       "</div>"
      ],
      "text/plain": [
       "   type                                              posts\n",
       "0  INFJ  'http://www.youtube.com/watch?v=qsXHcwe3krw|||...\n",
       "1  ENTP  'I'm finding the lack of me in these posts ver...\n",
       "2  INTP  'Good one  _____   https://www.youtube.com/wat...\n",
       "3  INTJ  'Dear INTP,   I enjoyed our conversation the o...\n",
       "4  ENTJ  'You're fired.|||That's another silly misconce..."
      ]
     },
     "execution_count": 3,
     "metadata": {},
     "output_type": "execute_result"
    }
   ],
   "source": [
    "# Create a working copy of the dataframe\n",
    "df_working = df.copy()\n",
    "df_working.head()"
   ]
  },
  {
   "cell_type": "code",
   "execution_count": 4,
   "metadata": {
    "scrolled": true
   },
   "outputs": [
    {
     "data": {
      "text/html": [
       "<div>\n",
       "<style>\n",
       "    .dataframe thead tr:only-child th {\n",
       "        text-align: right;\n",
       "    }\n",
       "\n",
       "    .dataframe thead th {\n",
       "        text-align: left;\n",
       "    }\n",
       "\n",
       "    .dataframe tbody tr th {\n",
       "        vertical-align: top;\n",
       "    }\n",
       "</style>\n",
       "<table border=\"1\" class=\"dataframe\">\n",
       "  <thead>\n",
       "    <tr style=\"text-align: right;\">\n",
       "      <th></th>\n",
       "      <th>type</th>\n",
       "      <th>posts</th>\n",
       "      <th>I-E</th>\n",
       "      <th>N-S</th>\n",
       "      <th>T-F</th>\n",
       "      <th>J-P</th>\n",
       "    </tr>\n",
       "  </thead>\n",
       "  <tbody>\n",
       "    <tr>\n",
       "      <th>0</th>\n",
       "      <td>INFJ</td>\n",
       "      <td>'http://www.youtube.com/watch?v=qsXHcwe3krw|||...</td>\n",
       "      <td>Introversion</td>\n",
       "      <td>Intuition</td>\n",
       "      <td>Feeling</td>\n",
       "      <td>Judging</td>\n",
       "    </tr>\n",
       "    <tr>\n",
       "      <th>1</th>\n",
       "      <td>ENTP</td>\n",
       "      <td>'I'm finding the lack of me in these posts ver...</td>\n",
       "      <td>Extroversion</td>\n",
       "      <td>Intuition</td>\n",
       "      <td>Thinking</td>\n",
       "      <td>Perceiving</td>\n",
       "    </tr>\n",
       "    <tr>\n",
       "      <th>2</th>\n",
       "      <td>INTP</td>\n",
       "      <td>'Good one  _____   https://www.youtube.com/wat...</td>\n",
       "      <td>Introversion</td>\n",
       "      <td>Intuition</td>\n",
       "      <td>Thinking</td>\n",
       "      <td>Perceiving</td>\n",
       "    </tr>\n",
       "    <tr>\n",
       "      <th>3</th>\n",
       "      <td>INTJ</td>\n",
       "      <td>'Dear INTP,   I enjoyed our conversation the o...</td>\n",
       "      <td>Introversion</td>\n",
       "      <td>Intuition</td>\n",
       "      <td>Thinking</td>\n",
       "      <td>Judging</td>\n",
       "    </tr>\n",
       "    <tr>\n",
       "      <th>4</th>\n",
       "      <td>ENTJ</td>\n",
       "      <td>'You're fired.|||That's another silly misconce...</td>\n",
       "      <td>Extroversion</td>\n",
       "      <td>Intuition</td>\n",
       "      <td>Thinking</td>\n",
       "      <td>Judging</td>\n",
       "    </tr>\n",
       "  </tbody>\n",
       "</table>\n",
       "</div>"
      ],
      "text/plain": [
       "   type                                              posts           I-E  \\\n",
       "0  INFJ  'http://www.youtube.com/watch?v=qsXHcwe3krw|||...  Introversion   \n",
       "1  ENTP  'I'm finding the lack of me in these posts ver...  Extroversion   \n",
       "2  INTP  'Good one  _____   https://www.youtube.com/wat...  Introversion   \n",
       "3  INTJ  'Dear INTP,   I enjoyed our conversation the o...  Introversion   \n",
       "4  ENTJ  'You're fired.|||That's another silly misconce...  Extroversion   \n",
       "\n",
       "         N-S       T-F         J-P  \n",
       "0  Intuition   Feeling     Judging  \n",
       "1  Intuition  Thinking  Perceiving  \n",
       "2  Intuition  Thinking  Perceiving  \n",
       "3  Intuition  Thinking     Judging  \n",
       "4  Intuition  Thinking     Judging  "
      ]
     },
     "execution_count": 4,
     "metadata": {},
     "output_type": "execute_result"
    }
   ],
   "source": [
    "# Create a binary column for each of the 4 axis types for later analysis\n",
    "df_working['I-E'] = df_working['type'].map(lambda x: 'Introversion' if x[0] == 'I' else 'Extroversion')\n",
    "df_working['N-S'] = df_working['type'].map(lambda x: 'Intuition' if x[1] == 'N' else 'Sensing')\n",
    "df_working['T-F'] = df_working['type'].map(lambda x: 'Thinking' if x[2] == 'T' else 'Feeling')\n",
    "df_working['J-P'] = df_working['type'].map(lambda x: 'Judging' if x[3] == 'J' else 'Perceiving')\n",
    "\n",
    "df_working.head()"
   ]
  },
  {
   "cell_type": "markdown",
   "metadata": {},
   "source": [
    "Codes for the new columns:\n",
    "- I-E: Introversion - Extroversion\n",
    "- N-S: Intuition - Sensing\n",
    "- T-F: Thinking - Feeling\n",
    "- J-P: Judging - Perceiving"
   ]
  },
  {
   "cell_type": "code",
   "execution_count": 24,
   "metadata": {},
   "outputs": [
    {
     "data": {
      "image/png": "[encoded data removed]",
      "text/plain": [
       "<matplotlib.figure.Figure at 0x1a190f3ef0>"
      ]
     },
     "metadata": {},
     "output_type": "display_data"
    }
   ],
   "source": [
    "# Countplot of Introversion - Extroversion axis\n",
    "IEcolors = sns.xkcd_palette([\"red\", \"soft pink\"])\n",
    "sns.set_palette(IEcolors)\n",
    "sns.countplot(x=\"I-E\", data=df_working, order=[\"Introversion\", \"Extroversion\"])\n",
    "plt.title(\"Distribution of Introversion vs. Extroversion in the Dataset\", fontsize=16)\n",
    "plt.ylim(0, 8000)\n",
    "plt.xticks(fontsize=12)\n",
    "plt.yticks(fontsize=12);"
   ]
  },
  {
   "cell_type": "markdown",
   "metadata": {},
   "source": [
    "The bar chart above show that the dataset is heavily skewed toward Introversion over Extroversion."
   ]
  },
  {
   "cell_type": "code",
   "execution_count": 25,
   "metadata": {},
   "outputs": [
    {
     "data": {
      "image/png": "[encoded data removed]",
      "text/plain": [
       "<matplotlib.figure.Figure at 0x1a190fc6a0>"
      ]
     },
     "metadata": {},
     "output_type": "display_data"
    }
   ],
   "source": [
    "# Countplot of Intuition - Sensing axis\n",
    "NScolors = sns.xkcd_palette([\"blue\", \"light blue\"])\n",
    "sns.set_palette(NScolors)\n",
    "sns.countplot(x=\"N-S\", data=df_working, order=[\"Intuition\", \"Sensing\"])\n",
    "plt.title(\"Distribution of Intuition vs. Sensing in the Dataset\", fontsize=16)\n",
    "plt.ylim(0, 8000)\n",
    "plt.xticks(fontsize=12)\n",
    "plt.yticks(fontsize=12);"
   ]
  },
  {
   "cell_type": "markdown",
   "metadata": {},
   "source": [
    "The bar chart above shows that the dataset is heavily skewed toward Intuition over Sensing."
   ]
  },
  {
   "cell_type": "code",
   "execution_count": 26,
   "metadata": {},
   "outputs": [
    {
     "data": {
      "image/png": "[encoded data removed]",
      "text/plain": [
       "<matplotlib.figure.Figure at 0x1a18b5b7f0>"
      ]
     },
     "metadata": {},
     "output_type": "display_data"
    }
   ],
   "source": [
    "# Countplot of Thinking - Feeling axis\n",
    "TFcolors = sns.xkcd_palette([\"green\", \"pale green\"])\n",
    "sns.set_palette(TFcolors)\n",
    "sns.countplot(x=\"T-F\", data=df_working, order=[\"Thinking\", \"Feeling\"])\n",
    "plt.title(\"Distribution of Thinking vs. Feeling in the Dataset\", fontsize=16)\n",
    "plt.ylim(0, 8000)\n",
    "plt.xticks(fontsize=12)\n",
    "plt.yticks(fontsize=12);"
   ]
  },
  {
   "cell_type": "markdown",
   "metadata": {},
   "source": [
    "The bar chart above shows that the dataset is somewhat skewed toward Feeling over Thinking."
   ]
  },
  {
   "cell_type": "code",
   "execution_count": 27,
   "metadata": {
    "scrolled": false
   },
   "outputs": [
    {
     "data": {
      "image/png": "[encoded data removed]",
      "text/plain": [
       "<matplotlib.figure.Figure at 0x1a19139dd8>"
      ]
     },
     "metadata": {},
     "output_type": "display_data"
    }
   ],
   "source": [
    "# Countplot of Judging - Perceiving axis\n",
    "JPcolors = sns.xkcd_palette([\"purple\", \"lavender\"])\n",
    "sns.set_palette(JPcolors)\n",
    "sns.countplot(x=\"J-P\", data=df_working, order=[\"Judging\", \"Perceiving\"])\n",
    "plt.title(\"Distribution of Judging vs. Perceiving in the Dataset\", fontsize=16)\n",
    "plt.ylim(0, 8000)\n",
    "plt.xticks(fontsize=12)\n",
    "plt.yticks(fontsize=12);"
   ]
  },
  {
   "cell_type": "markdown",
   "metadata": {},
   "source": [
    "The bar chart above shows that the dataset is moderately skewed toward Perceiving over Judging."
   ]
  },
  {
   "cell_type": "code",
   "execution_count": 28,
   "metadata": {
    "collapsed": true
   },
   "outputs": [
    {
     "data": {
      "text/plain": [
       "0    'http://www.youtube.com/watch?v=qsXHcwe3krw ht...\n",
       "1    'I'm finding the lack of me in these posts ver...\n",
       "2    'Good one  _____   https://www.youtube.com/wat...\n",
       "3    'Dear INTP,   I enjoyed our conversation the o...\n",
       "4    'You're fired. That's another silly misconcept...\n",
       "Name: posts, dtype: object"
      ]
     },
     "execution_count": 28,
     "metadata": {},
     "output_type": "execute_result"
    }
   ],
   "source": [
    "# Subset the posts column for further exploration\n",
    "posts = df_working['posts'].copy()\n",
    "posts = posts.apply(lambda x: x.replace('|||', ' ')) # replaces post separators with empty space\n",
    "posts.head()"
   ]
  },
  {
   "cell_type": "markdown",
   "metadata": {},
   "source": [
    "**CountVectorizer**\n",
    "\n",
    "*CountVectorizer* encodes text by splitting a set of words into one column per word, with (by default) the count of the word for that row in that column."
   ]
  },
  {
   "cell_type": "code",
   "execution_count": 13,
   "metadata": {
    "collapsed": true
   },
   "outputs": [
    {
     "data": {
      "text/plain": [
       "<8675x145412 sparse matrix of type '<class 'numpy.int64'>'\n",
       "\twith 4516646 stored elements in Compressed Sparse Row format>"
      ]
     },
     "execution_count": 13,
     "metadata": {},
     "output_type": "execute_result"
    }
   ],
   "source": [
    "# Run an initial CountVectorizer with default settings on the posts column to see what's there\n",
    "cv = CountVectorizer()\n",
    "cv.fit_transform(posts)"
   ]
  },
  {
   "cell_type": "code",
   "execution_count": 14,
   "metadata": {
    "collapsed": true
   },
   "outputs": [
    {
     "data": {
      "text/plain": [
       "matrix([[0, 0, 0, ..., 0, 0, 0],\n",
       "        [0, 1, 0, ..., 0, 0, 0],\n",
       "        [0, 0, 0, ..., 0, 0, 0],\n",
       "        ..., \n",
       "        [0, 0, 0, ..., 0, 0, 0],\n",
       "        [0, 0, 0, ..., 0, 0, 0],\n",
       "        [0, 0, 0, ..., 0, 0, 0]])"
      ]
     },
     "execution_count": 14,
     "metadata": {},
     "output_type": "execute_result"
    }
   ],
   "source": [
    "# Convert the output of the transformation to a dense matrix\n",
    "cv.transform(posts).todense()"
   ]
  },
  {
   "cell_type": "code",
   "execution_count": 15,
   "metadata": {
    "collapsed": true
   },
   "outputs": [
    {
     "data": {
      "text/html": [
       "<div>\n",
       "<style>\n",
       "    .dataframe thead tr:only-child th {\n",
       "        text-align: right;\n",
       "    }\n",
       "\n",
       "    .dataframe thead th {\n",
       "        text-align: left;\n",
       "    }\n",
       "\n",
       "    .dataframe tbody tr th {\n",
       "        vertical-align: top;\n",
       "    }\n",
       "</style>\n",
       "<table border=\"1\" class=\"dataframe\">\n",
       "  <thead>\n",
       "    <tr style=\"text-align: right;\">\n",
       "      <th></th>\n",
       "      <th>00</th>\n",
       "      <th>000</th>\n",
       "      <th>0000</th>\n",
       "      <th>000000</th>\n",
       "      <th>0000000000</th>\n",
       "      <th>000000000000000</th>\n",
       "      <th>00000000000000000000000000000000027</th>\n",
       "      <th>00000011</th>\n",
       "      <th>000000111</th>\n",
       "      <th>0000001111</th>\n",
       "      <th>...</th>\n",
       "      <th>ｓｏ</th>\n",
       "      <th>ｔｒｕｍｐu3000ｉｓu3000ａｎu3000ｅｓｔｐ</th>\n",
       "      <th>ｖａｐｏｒｗａｖｅ</th>\n",
       "      <th>ｗｈｙu3000ｉｓu3000ａｎｙｏｎｅu3000ｓｔｉｌｌu3000ｄｉｓｃｕｓｓｉｎｇu3000ｔｈｉｓ</th>\n",
       "      <th>ﾉωﾉ</th>\n",
       "      <th>ﾉｼ</th>\n",
       "      <th>ﾉﾞ</th>\n",
       "      <th>ﾉﾟ</th>\n",
       "      <th>ﾟдﾟщ</th>\n",
       "      <th>ﾟﾟ</th>\n",
       "    </tr>\n",
       "  </thead>\n",
       "  <tbody>\n",
       "    <tr>\n",
       "      <th>0</th>\n",
       "      <td>0</td>\n",
       "      <td>0</td>\n",
       "      <td>0</td>\n",
       "      <td>0</td>\n",
       "      <td>0</td>\n",
       "      <td>0</td>\n",
       "      <td>0</td>\n",
       "      <td>0</td>\n",
       "      <td>0</td>\n",
       "      <td>0</td>\n",
       "      <td>...</td>\n",
       "      <td>0</td>\n",
       "      <td>0</td>\n",
       "      <td>0</td>\n",
       "      <td>0</td>\n",
       "      <td>0</td>\n",
       "      <td>0</td>\n",
       "      <td>0</td>\n",
       "      <td>0</td>\n",
       "      <td>0</td>\n",
       "      <td>0</td>\n",
       "    </tr>\n",
       "    <tr>\n",
       "      <th>1</th>\n",
       "      <td>0</td>\n",
       "      <td>1</td>\n",
       "      <td>0</td>\n",
       "      <td>0</td>\n",
       "      <td>0</td>\n",
       "      <td>0</td>\n",
       "      <td>0</td>\n",
       "      <td>0</td>\n",
       "      <td>0</td>\n",
       "      <td>0</td>\n",
       "      <td>...</td>\n",
       "      <td>0</td>\n",
       "      <td>0</td>\n",
       "      <td>0</td>\n",
       "      <td>0</td>\n",
       "      <td>0</td>\n",
       "      <td>0</td>\n",
       "      <td>0</td>\n",
       "      <td>0</td>\n",
       "      <td>0</td>\n",
       "      <td>0</td>\n",
       "    </tr>\n",
       "    <tr>\n",
       "      <th>2</th>\n",
       "      <td>0</td>\n",
       "      <td>0</td>\n",
       "      <td>0</td>\n",
       "      <td>0</td>\n",
       "      <td>0</td>\n",
       "      <td>0</td>\n",
       "      <td>0</td>\n",
       "      <td>0</td>\n",
       "      <td>0</td>\n",
       "      <td>0</td>\n",
       "      <td>...</td>\n",
       "      <td>0</td>\n",
       "      <td>0</td>\n",
       "      <td>0</td>\n",
       "      <td>0</td>\n",
       "      <td>0</td>\n",
       "      <td>0</td>\n",
       "      <td>0</td>\n",
       "      <td>0</td>\n",
       "      <td>0</td>\n",
       "      <td>0</td>\n",
       "    </tr>\n",
       "    <tr>\n",
       "      <th>3</th>\n",
       "      <td>0</td>\n",
       "      <td>0</td>\n",
       "      <td>0</td>\n",
       "      <td>0</td>\n",
       "      <td>0</td>\n",
       "      <td>0</td>\n",
       "      <td>0</td>\n",
       "      <td>0</td>\n",
       "      <td>0</td>\n",
       "      <td>0</td>\n",
       "      <td>...</td>\n",
       "      <td>0</td>\n",
       "      <td>0</td>\n",
       "      <td>0</td>\n",
       "      <td>0</td>\n",
       "      <td>0</td>\n",
       "      <td>0</td>\n",
       "      <td>0</td>\n",
       "      <td>0</td>\n",
       "      <td>0</td>\n",
       "      <td>0</td>\n",
       "    </tr>\n",
       "    <tr>\n",
       "      <th>4</th>\n",
       "      <td>0</td>\n",
       "      <td>0</td>\n",
       "      <td>0</td>\n",
       "      <td>0</td>\n",
       "      <td>0</td>\n",
       "      <td>0</td>\n",
       "      <td>0</td>\n",
       "      <td>0</td>\n",
       "      <td>0</td>\n",
       "      <td>0</td>\n",
       "      <td>...</td>\n",
       "      <td>0</td>\n",
       "      <td>0</td>\n",
       "      <td>0</td>\n",
       "      <td>0</td>\n",
       "      <td>0</td>\n",
       "      <td>0</td>\n",
       "      <td>0</td>\n",
       "      <td>0</td>\n",
       "      <td>0</td>\n",
       "      <td>0</td>\n",
       "    </tr>\n",
       "  </tbody>\n",
       "</table>\n",
       "<p>5 rows × 145412 columns</p>\n",
       "</div>"
      ],
      "text/plain": [
       "   00  000  0000  000000  0000000000  000000000000000  \\\n",
       "0   0    0     0       0           0                0   \n",
       "1   0    1     0       0           0                0   \n",
       "2   0    0     0       0           0                0   \n",
       "3   0    0     0       0           0                0   \n",
       "4   0    0     0       0           0                0   \n",
       "\n",
       "   00000000000000000000000000000000027  00000011  000000111  0000001111 ...  \\\n",
       "0                                    0         0          0           0 ...   \n",
       "1                                    0         0          0           0 ...   \n",
       "2                                    0         0          0           0 ...   \n",
       "3                                    0         0          0           0 ...   \n",
       "4                                    0         0          0           0 ...   \n",
       "\n",
       "   ｓｏ  ｔｒｕｍｐu3000ｉｓu3000ａｎu3000ｅｓｔｐ  ｖａｐｏｒｗａｖｅ  \\\n",
       "0   0                             0          0   \n",
       "1   0                             0          0   \n",
       "2   0                             0          0   \n",
       "3   0                             0          0   \n",
       "4   0                             0          0   \n",
       "\n",
       "   ｗｈｙu3000ｉｓu3000ａｎｙｏｎｅu3000ｓｔｉｌｌu3000ｄｉｓｃｕｓｓｉｎｇu3000ｔｈｉｓ  ﾉωﾉ  ﾉｼ  ﾉﾞ  ﾉﾟ  \\\n",
       "0                                                  0          0   0   0   0   \n",
       "1                                                  0          0   0   0   0   \n",
       "2                                                  0          0   0   0   0   \n",
       "3                                                  0          0   0   0   0   \n",
       "4                                                  0          0   0   0   0   \n",
       "\n",
       "   ﾟдﾟщ  ﾟﾟ  \n",
       "0     0   0  \n",
       "1     0   0  \n",
       "2     0   0  \n",
       "3     0   0  \n",
       "4     0   0  \n",
       "\n",
       "[5 rows x 145412 columns]"
      ]
     },
     "execution_count": 15,
     "metadata": {},
     "output_type": "execute_result"
    }
   ],
   "source": [
    "# Convert to a dataframe to get feature names and see the distribution of words\n",
    "df_posts = pd.DataFrame(cv.transform(posts).todense(), columns=cv.get_feature_names())\n",
    "df_posts.head()"
   ]
  },
  {
   "cell_type": "code",
   "execution_count": 16,
   "metadata": {
    "collapsed": true
   },
   "outputs": [
    {
     "data": {
      "text/plain": [
       "(8675, 145412)"
      ]
     },
     "execution_count": 16,
     "metadata": {},
     "output_type": "execute_result"
    }
   ],
   "source": [
    "# Examine shape after creation of columns\n",
    "df_posts.shape"
   ]
  },
  {
   "cell_type": "markdown",
   "metadata": {},
   "source": [
    "CountVectorizer created 145,412 columns from the single *posts* column."
   ]
  },
  {
   "cell_type": "code",
   "execution_count": 17,
   "metadata": {
    "scrolled": true
   },
   "outputs": [
    {
     "name": "stdout",
     "output_type": "stream",
     "text": [
      "the     309589\n",
      "to      305454\n",
      "and     244200\n",
      "you     187937\n",
      "it      186462\n",
      "of      185941\n",
      "that    163696\n",
      "is      140673\n",
      "in      131749\n",
      "my      126883\n",
      "dtype: int64\n"
     ]
    }
   ],
   "source": [
    "# Examine the top 10 occurring words\n",
    "print(df_posts.sum().sort_values(ascending=False).head(10))"
   ]
  },
  {
   "cell_type": "markdown",
   "metadata": {},
   "source": [
    "Initial observations on the data in the *posts* column, after the first CountVectorizer pass:\n",
    "\n",
    "The top 10 words are common and non-subject-specific words which appear in the stopwords list. There are also \n",
    "145,412 columns. We need to rerun CountVectorizer and add some arguments to whittle down the list."
   ]
  },
  {
   "cell_type": "markdown",
   "metadata": {},
   "source": [
    "#### Add Words to the Stopwords List\n",
    "\n",
    "*stopwords* eliminates common words that add no information to the text content, or can bias a model.\n",
    "\n",
    "Since the posts were obtained from a site specifically geared toward the topic of personality type, it is possible that the subjects have been primed to behave in a way that conforms to the characteristics of their defined personality type. It is noted that some subjects reference their (or others') personality type code within some of the posts. Thus, these codes are excluded to avoid biasing the model (e.g. specific references to the 4-letter code)."
   ]
  },
  {
   "cell_type": "code",
   "execution_count": 7,
   "metadata": {
    "collapsed": true
   },
   "outputs": [
    {
     "name": "stdout",
     "output_type": "stream",
     "text": [
      "['i', 'me', 'my', 'myself', 'we', 'our', 'ours', 'ourselves', 'you', 'your', 'yours', 'yourself', 'yourselves', 'he', 'him', 'his', 'himself', 'she', 'her', 'hers', 'herself', 'it', 'its', 'itself', 'they', 'them', 'their', 'theirs', 'themselves', 'what', 'which', 'who', 'whom', 'this', 'that', 'these', 'those', 'am', 'is', 'are', 'was', 'were', 'be', 'been', 'being', 'have', 'has', 'had', 'having', 'do', 'does', 'did', 'doing', 'a', 'an', 'the', 'and', 'but', 'if', 'or', 'because', 'as', 'until', 'while', 'of', 'at', 'by', 'for', 'with', 'about', 'against', 'between', 'into', 'through', 'during', 'before', 'after', 'above', 'below', 'to', 'from', 'up', 'down', 'in', 'out', 'on', 'off', 'over', 'under', 'again', 'further', 'then', 'once', 'here', 'there', 'when', 'where', 'why', 'how', 'all', 'any', 'both', 'each', 'few', 'more', 'most', 'other', 'some', 'such', 'no', 'nor', 'not', 'only', 'own', 'same', 'so', 'than', 'too', 'very', 's', 't', 'can', 'will', 'just', 'don', 'should', 'now', 'd', 'll', 'm', 'o', 're', 've', 'y', 'ain', 'aren', 'couldn', 'didn', 'doesn', 'hadn', 'hasn', 'haven', 'isn', 'ma', 'mightn', 'mustn', 'needn', 'shan', 'shouldn', 'wasn', 'weren', 'won', 'wouldn', 'infj', 'entp', 'intp', 'intj', 'entj', 'enfj', 'infp', 'enfp', 'isfp', 'istp', 'isfj', 'istj', 'estp', 'esfp', 'estj', 'esfj']\n"
     ]
    }
   ],
   "source": [
    "# Add to the stopwords list each of the 16 codes\n",
    "types = ['infj', 'entp', 'intp', 'intj', 'entj', 'enfj', 'infp', 'enfp', 'isfp', \\\n",
    "         'istp', 'isfj', 'istj', 'estp', 'esfp', 'estj', 'esfj']\n",
    "stop = stopwords.words('english')\n",
    "\n",
    "for type in types:\n",
    "    stop.append(type)\n",
    "\n",
    "stop_rev = stop    \n",
    "print(stop_rev)"
   ]
  },
  {
   "cell_type": "code",
   "execution_count": 19,
   "metadata": {
    "collapsed": true
   },
   "outputs": [
    {
     "data": {
      "text/html": [
       "<div>\n",
       "<style>\n",
       "    .dataframe thead tr:only-child th {\n",
       "        text-align: right;\n",
       "    }\n",
       "\n",
       "    .dataframe thead th {\n",
       "        text-align: left;\n",
       "    }\n",
       "\n",
       "    .dataframe tbody tr th {\n",
       "        vertical-align: top;\n",
       "    }\n",
       "</style>\n",
       "<table border=\"1\" class=\"dataframe\">\n",
       "  <thead>\n",
       "    <tr style=\"text-align: right;\">\n",
       "      <th></th>\n",
       "      <th>10</th>\n",
       "      <th>100</th>\n",
       "      <th>12</th>\n",
       "      <th>15</th>\n",
       "      <th>20</th>\n",
       "      <th>30</th>\n",
       "      <th>50</th>\n",
       "      <th>ability</th>\n",
       "      <th>able</th>\n",
       "      <th>absolutely</th>\n",
       "      <th>...</th>\n",
       "      <th>years ago</th>\n",
       "      <th>yep</th>\n",
       "      <th>yes</th>\n",
       "      <th>yesterday</th>\n",
       "      <th>yet</th>\n",
       "      <th>young</th>\n",
       "      <th>younger</th>\n",
       "      <th>youtu</th>\n",
       "      <th>youtube</th>\n",
       "      <th>youtube com</th>\n",
       "    </tr>\n",
       "  </thead>\n",
       "  <tbody>\n",
       "    <tr>\n",
       "      <th>0</th>\n",
       "      <td>0</td>\n",
       "      <td>0</td>\n",
       "      <td>0</td>\n",
       "      <td>0</td>\n",
       "      <td>1</td>\n",
       "      <td>0</td>\n",
       "      <td>1</td>\n",
       "      <td>0</td>\n",
       "      <td>0</td>\n",
       "      <td>0</td>\n",
       "      <td>...</td>\n",
       "      <td>1</td>\n",
       "      <td>1</td>\n",
       "      <td>0</td>\n",
       "      <td>0</td>\n",
       "      <td>0</td>\n",
       "      <td>0</td>\n",
       "      <td>0</td>\n",
       "      <td>0</td>\n",
       "      <td>16</td>\n",
       "      <td>16</td>\n",
       "    </tr>\n",
       "    <tr>\n",
       "      <th>1</th>\n",
       "      <td>1</td>\n",
       "      <td>0</td>\n",
       "      <td>0</td>\n",
       "      <td>0</td>\n",
       "      <td>0</td>\n",
       "      <td>0</td>\n",
       "      <td>0</td>\n",
       "      <td>0</td>\n",
       "      <td>1</td>\n",
       "      <td>0</td>\n",
       "      <td>...</td>\n",
       "      <td>0</td>\n",
       "      <td>0</td>\n",
       "      <td>0</td>\n",
       "      <td>0</td>\n",
       "      <td>0</td>\n",
       "      <td>0</td>\n",
       "      <td>0</td>\n",
       "      <td>0</td>\n",
       "      <td>1</td>\n",
       "      <td>1</td>\n",
       "    </tr>\n",
       "    <tr>\n",
       "      <th>2</th>\n",
       "      <td>1</td>\n",
       "      <td>0</td>\n",
       "      <td>0</td>\n",
       "      <td>0</td>\n",
       "      <td>0</td>\n",
       "      <td>1</td>\n",
       "      <td>0</td>\n",
       "      <td>2</td>\n",
       "      <td>1</td>\n",
       "      <td>2</td>\n",
       "      <td>...</td>\n",
       "      <td>0</td>\n",
       "      <td>0</td>\n",
       "      <td>1</td>\n",
       "      <td>0</td>\n",
       "      <td>0</td>\n",
       "      <td>0</td>\n",
       "      <td>0</td>\n",
       "      <td>0</td>\n",
       "      <td>3</td>\n",
       "      <td>3</td>\n",
       "    </tr>\n",
       "    <tr>\n",
       "      <th>3</th>\n",
       "      <td>0</td>\n",
       "      <td>0</td>\n",
       "      <td>0</td>\n",
       "      <td>0</td>\n",
       "      <td>0</td>\n",
       "      <td>0</td>\n",
       "      <td>1</td>\n",
       "      <td>0</td>\n",
       "      <td>2</td>\n",
       "      <td>0</td>\n",
       "      <td>...</td>\n",
       "      <td>0</td>\n",
       "      <td>0</td>\n",
       "      <td>0</td>\n",
       "      <td>0</td>\n",
       "      <td>0</td>\n",
       "      <td>0</td>\n",
       "      <td>0</td>\n",
       "      <td>0</td>\n",
       "      <td>2</td>\n",
       "      <td>2</td>\n",
       "    </tr>\n",
       "    <tr>\n",
       "      <th>4</th>\n",
       "      <td>0</td>\n",
       "      <td>0</td>\n",
       "      <td>0</td>\n",
       "      <td>0</td>\n",
       "      <td>0</td>\n",
       "      <td>0</td>\n",
       "      <td>0</td>\n",
       "      <td>0</td>\n",
       "      <td>0</td>\n",
       "      <td>0</td>\n",
       "      <td>...</td>\n",
       "      <td>0</td>\n",
       "      <td>0</td>\n",
       "      <td>2</td>\n",
       "      <td>0</td>\n",
       "      <td>0</td>\n",
       "      <td>0</td>\n",
       "      <td>0</td>\n",
       "      <td>2</td>\n",
       "      <td>1</td>\n",
       "      <td>1</td>\n",
       "    </tr>\n",
       "  </tbody>\n",
       "</table>\n",
       "<p>5 rows × 1000 columns</p>\n",
       "</div>"
      ],
      "text/plain": [
       "   10  100  12  15  20  30  50  ability  able  absolutely     ...       \\\n",
       "0   0    0   0   0   1   0   1        0     0           0     ...        \n",
       "1   1    0   0   0   0   0   0        0     1           0     ...        \n",
       "2   1    0   0   0   0   1   0        2     1           2     ...        \n",
       "3   0    0   0   0   0   0   1        0     2           0     ...        \n",
       "4   0    0   0   0   0   0   0        0     0           0     ...        \n",
       "\n",
       "   years ago  yep  yes  yesterday  yet  young  younger  youtu  youtube  \\\n",
       "0          1    1    0          0    0      0        0      0       16   \n",
       "1          0    0    0          0    0      0        0      0        1   \n",
       "2          0    0    1          0    0      0        0      0        3   \n",
       "3          0    0    0          0    0      0        0      0        2   \n",
       "4          0    0    2          0    0      0        0      2        1   \n",
       "\n",
       "   youtube com  \n",
       "0           16  \n",
       "1            1  \n",
       "2            3  \n",
       "3            2  \n",
       "4            1  \n",
       "\n",
       "[5 rows x 1000 columns]"
      ]
     },
     "execution_count": 19,
     "metadata": {},
     "output_type": "execute_result"
    }
   ],
   "source": [
    "# Rerun CountVectorizer to exclude stopwords, allow 2-word pairs, and limit the number of columns to 1000\n",
    "cv = CountVectorizer(stop_words=stop_rev, ngram_range=(1,2), max_features=1000)\n",
    "cv.fit(posts)\n",
    "cv.transform(posts)\n",
    "\n",
    "cv.transform(posts).todense()\n",
    "df_posts = pd.DataFrame(cv.transform(posts).todense(), \n",
    "             columns=cv.get_feature_names())\n",
    "df_posts.head()"
   ]
  },
  {
   "cell_type": "code",
   "execution_count": 20,
   "metadata": {
    "collapsed": true
   },
   "outputs": [
    {
     "data": {
      "text/plain": [
       "(8675, 1000)"
      ]
     },
     "execution_count": 20,
     "metadata": {},
     "output_type": "execute_result"
    }
   ],
   "source": [
    "df_posts.shape"
   ]
  },
  {
   "cell_type": "code",
   "execution_count": 21,
   "metadata": {},
   "outputs": [
    {
     "name": "stdout",
     "output_type": "stream",
     "text": [
      "like      69706\n",
      "think     49847\n",
      "people    47908\n",
      "one       37232\n",
      "know      36950\n",
      "really    35305\n",
      "would     35035\n",
      "get       30822\n",
      "time      27628\n",
      "com       25869\n",
      "dtype: int64\n"
     ]
    }
   ],
   "source": [
    "# Examine the top 10 occuring words in this round of CountVectorizer\n",
    "print(df_posts.sum().sort_values(ascending=False).head(10))"
   ]
  },
  {
   "cell_type": "code",
   "execution_count": 8,
   "metadata": {
    "collapsed": true
   },
   "outputs": [],
   "source": [
    "# Define a preprocessor function to clean the text by grouping into stems, removing separators, \n",
    "# replacing hyperlinks, removing punctuation, removing digits, and convert letters to lower case\n",
    "\n",
    "def cleaner(text):\n",
    "    stemmer = PorterStemmer()                                        # groups words having the same stems\n",
    "    text = text.replace('|||', ' ')                                  # replaces post separators with empty space\n",
    "    text = re.sub(r'\\bhttps?:\\/\\/.*?[\\r\\n]*? ', 'URL ', text, flags=re.MULTILINE)  # replace hyperlink with 'URL'\n",
    "    text = text.translate(str.maketrans('', '', string.punctuation)) # removes punctuation\n",
    "    text = text.translate(str.maketrans('', '', string.digits))      # removes digits\n",
    "    text = text.lower().strip()                                      # convert to lower case\n",
    "    final_text = []\n",
    "    for w in text.split():\n",
    "        if w not in stop:\n",
    "            final_text.append(stemmer.stem(w.strip()))\n",
    "    return ' '.join(final_text)"
   ]
  },
  {
   "cell_type": "code",
   "execution_count": 31,
   "metadata": {
    "collapsed": true
   },
   "outputs": [
    {
     "data": {
      "text/plain": [
       "\"'http://www.youtube.com/watch?v=qsXHcwe3krw|||http://41.media.tumblr.com/tumblr_lfouy03PMA1qa1rooo1_500.jpg|||enfp and intj moments  https://www.youtube.com/watch?v=iz7lE1g4XM4  sportscenter not top ten plays  https://www.youtube.com/watch?v=uCdfze1etec  pranks|||What has been the most life-changing experience in your life?|||http://www.youtube.com/watch?v=vXZeYwwRDw8   http://www.youtube.com/watch?v=u8ejam5DP3E  On repeat for most of today.|||May the PerC Experience immerse you.|||The last thing my INFJ friend posted on his facebook before committing suicide the next day. Rest in peace~   http://vimeo.com/22842206|||Hello ENFJ7. Sorry to hear of your distress. It's only natural for a relationship to not be perfection all the time in every moment of existence. Try to figure the hard times as times of growth, as...|||84389  84390  http://wallpaperpassion.com/upload/23700/friendship-boy-and-girl-wallpaper.jpg  http://assets.dornob.com/wp-content/uploads/2010/04/round-home-design.jpg ...|||Welcome and stuff.|||http://playeressence.com/wp-content/uploads/2013/08/RED-red-the-pokemon-master-32560474-450-338.jpg  Game. Set. Match.|||Prozac, wellbrutin, at least thirty minutes of moving your legs (and I don't mean moving them while sitting in your same desk chair), weed in moderation (maybe try edibles as a healthier alternative...|||Basically come up with three items you've determined that each type (or whichever types you want to do) would more than likely use, given each types' cognitive functions and whatnot, when left by...|||All things in moderation.  Sims is indeed a video game, and a good one at that. Note: a good one at that is somewhat subjective in that I am not completely promoting the death of any given Sim...|||Dear ENFP:  What were your favorite video games growing up and what are your now, current favorite video games? :cool:|||https://www.youtube.com/watch?v=QyPqT8umzmY|||It appears to be too late. :sad:|||There's someone out there for everyone.|||Wait... I thought confidence was a good thing.|||I just cherish the time of solitude b/c i revel within my inner world more whereas most other time i'd be workin... just enjoy the me time while you can. Don't worry, people will always be around to...|||Yo entp ladies... if you're into a complimentary personality,well, hey.|||... when your main social outlet is xbox live conversations and even then you verbally fatigue quickly.|||http://www.youtube.com/watch?v=gDhy7rdfm14  I really dig the part from 1:46 to 2:50|||http://www.youtube.com/watch?v=msqXffgh7b8|||Banned because this thread requires it of me.|||Get high in backyard, roast and eat marshmellows in backyard while conversing over something intellectual, followed by massages and kisses.|||http://www.youtube.com/watch?v=Mw7eoU3BMbE|||http://www.youtube.com/watch?v=4V2uYORhQOk|||http://www.youtube.com/watch?v=SlVmgFQQ0TI|||Banned for too many b's in that sentence. How could you! Think of the B!|||Banned for watching movies in the corner with the dunces.|||Banned because Health class clearly taught you nothing about peer pressure.|||Banned for a whole host of reasons!|||http://www.youtube.com/watch?v=IRcrv41hgz4|||1) Two baby deer on left and right munching on a beetle in the middle.  2) Using their own blood, two cavemen diary today's latest happenings on their designated cave diary wall.  3) I see it as...|||a pokemon world  an infj society  everyone becomes an optimist|||49142|||http://www.youtube.com/watch?v=ZRCEq_JFeFM|||http://discovermagazine.com/2012/jul-aug/20-things-you-didnt-know-about-deserts/desert.jpg|||http://oyster.ignimgs.com/mediawiki/apis.ign.com/pokemon-silver-version/d/dd/Ditto.gif|||http://www.serebii.net/potw-dp/Scizor.jpg|||Not all artists are artists because they draw. It's the idea that counts in forming something of your own... like a signature.|||Welcome to the robot ranks, person who downed my self-esteem cuz I'm not an avid signature artist like herself. :proud:|||Banned for taking all the room under my bed. Ya gotta learn to share with the roaches.|||http://www.youtube.com/watch?v=w8IgImn57aQ|||Banned for being too much of a thundering, grumbling kind of storm... yep.|||Ahh... old high school music I haven't heard in ages.   http://www.youtube.com/watch?v=dcCRUPCdB1w|||I failed a public speaking class a few years ago and I've sort of learned what I could do better were I to be in that position again. A big part of my failure was just overloading myself with too...|||I like this person's mentality. He's a confirmed INTJ by the way. http://www.youtube.com/watch?v=hGKLI-GEc6M|||Move to the Denver area and start a new life for myself.'\""
      ]
     },
     "execution_count": 31,
     "metadata": {},
     "output_type": "execute_result"
    }
   ],
   "source": [
    "# View original text to confirm the cleaner is working properly\n",
    "df.posts.iloc[0]"
   ]
  },
  {
   "cell_type": "code",
   "execution_count": 32,
   "metadata": {
    "collapsed": true
   },
   "outputs": [
    {
     "data": {
      "text/plain": [
       "'url url moment url sportscent top ten play url prank lifechang experi life url url repeat today may perc experi immers last thing friend post facebook commit suicid next day rest peac url hello sorri hear distress natur relationship perfect time everi moment exist tri figur hard time time growth url url welcom stuff url game set match prozac wellbrutin least thirti minut move leg dont mean move sit desk chair weed moder mayb tri edibl healthier altern basic come three item youv determin type whichev type want would like use given type cognit function whatnot left thing moder sim inde video game good one note good one somewhat subject complet promot death given sim dear favorit video game grow current favorit video game cool url appear late sad there someon everyon wait thought confid good thing cherish time solitud bc revel within inner world wherea time id workin enjoy time dont worri peopl alway around yo ladi your complimentari personalitywel hey main social outlet xbox live convers even verbal fatigu quickli url realli dig part url ban thread requir get high backyard roast eat marshmellow backyard convers someth intellectu follow massag kiss url url url ban mani bs sentenc could think b ban watch movi corner dunc ban health class clearli taught noth peer pressur ban whole host reason url two babi deer left right munch beetl middl use blood two cavemen diari today latest happen design cave diari wall see pokemon world societi everyon becom optimist url url url url artist artist draw idea count form someth like signatur welcom robot rank person down selfesteem cuz im avid signatur artist like proud ban take room bed ya gotta learn share roach url ban much thunder grumbl kind storm yep ahh old high school music havent heard age url fail public speak class year ago ive sort learn could better posit big part failur overload like person mental he confirm way url move denver area start new life'"
      ]
     },
     "execution_count": 32,
     "metadata": {},
     "output_type": "execute_result"
    }
   ],
   "source": [
    "# view cleaned text\n",
    "cleaner(df.posts.iloc[0])"
   ]
  },
  {
   "cell_type": "markdown",
   "metadata": {},
   "source": [
    "Viewing the cleaned text confirms that text was grouped into stems, ||| separators removed, hyperlinks replaced, punctuation removed, digits removed, and letters converted to lower case"
   ]
  },
  {
   "cell_type": "code",
   "execution_count": 26,
   "metadata": {
    "collapsed": true
   },
   "outputs": [
    {
     "data": {
      "text/plain": [
       "{'http': 397,\n",
       " 'www': 983,\n",
       " 'youtube': 998,\n",
       " 'com': 130,\n",
       " 'watch': 936,\n",
       " 'media': 539,\n",
       " 'tumblr': 899,\n",
       " 'jpg': 445,\n",
       " 'https': 399,\n",
       " 'top': 885,\n",
       " 'life': 481,\n",
       " 'experience': 255,\n",
       " 'today': 880,\n",
       " 'may': 532,\n",
       " 'perc': 634,\n",
       " 'last': 463,\n",
       " 'thing': 862,\n",
       " 'friend': 308,\n",
       " 'posted': 663,\n",
       " 'facebook': 264,\n",
       " 'next': 582,\n",
       " 'day': 173,\n",
       " 'rest': 717,\n",
       " 'hello': 374,\n",
       " 'sorry': 794,\n",
       " 'hear': 370,\n",
       " 'natural': 570,\n",
       " 'relationship': 707,\n",
       " 'time': 876,\n",
       " 'every': 244,\n",
       " 'moment': 554,\n",
       " 'try': 897,\n",
       " 'figure': 288,\n",
       " 'hard': 366,\n",
       " 'times': 877,\n",
       " 'friendship': 310,\n",
       " 'girl': 331,\n",
       " 'content': 149,\n",
       " 'home': 388,\n",
       " 'welcome': 946,\n",
       " 'stuff': 827,\n",
       " 'red': 704,\n",
       " 'game': 320,\n",
       " 'set': 752,\n",
       " 'least': 474,\n",
       " 'minutes': 551,\n",
       " 'moving': 565,\n",
       " 'mean': 535,\n",
       " 'maybe': 533,\n",
       " 'basically': 70,\n",
       " 'come': 132,\n",
       " 'three': 874,\n",
       " 'type': 903,\n",
       " 'types': 905,\n",
       " 'want': 932,\n",
       " 'would': 974,\n",
       " 'likely': 485,\n",
       " 'use': 916,\n",
       " 'given': 335,\n",
       " 'cognitive': 126,\n",
       " 'functions': 317,\n",
       " 'left': 476,\n",
       " 'things': 863,\n",
       " 'indeed': 419,\n",
       " 'video': 924,\n",
       " 'good': 345,\n",
       " 'one': 606,\n",
       " 'note': 592,\n",
       " 'somewhat': 789,\n",
       " 'completely': 140,\n",
       " 'death': 178,\n",
       " 'dear': 177,\n",
       " 'favorite': 274,\n",
       " 'games': 321,\n",
       " 'current': 164,\n",
       " 'cool': 153,\n",
       " 'late': 464,\n",
       " 'sad': 727,\n",
       " 'someone': 784,\n",
       " 'everyone': 245,\n",
       " 'wait': 928,\n",
       " 'thought': 870,\n",
       " 'within': 956,\n",
       " 'world': 969,\n",
       " 'enjoy': 233,\n",
       " 'worry': 970,\n",
       " 'people': 630,\n",
       " 'always': 31,\n",
       " 'around': 50,\n",
       " 'personality': 639,\n",
       " 'well': 947,\n",
       " 'hey': 379,\n",
       " 'main': 519,\n",
       " 'social': 780,\n",
       " 'live': 494,\n",
       " 'conversations': 152,\n",
       " 'even': 240,\n",
       " 'quickly': 683,\n",
       " 'really': 698,\n",
       " 'part': 623,\n",
       " '50': 6,\n",
       " 'thread': 872,\n",
       " 'get': 326,\n",
       " 'high': 381,\n",
       " 'eat': 218,\n",
       " 'something': 786,\n",
       " 'many': 527,\n",
       " 'could': 155,\n",
       " 'think': 865,\n",
       " 'watching': 938,\n",
       " 'movies': 564,\n",
       " 'class': 121,\n",
       " 'clearly': 123,\n",
       " 'nothing': 593,\n",
       " 'whole': 953,\n",
       " 'reasons': 702,\n",
       " 'two': 902,\n",
       " 'right': 720,\n",
       " 'middle': 547,\n",
       " 'using': 919,\n",
       " 'see': 738,\n",
       " 'society': 781,\n",
       " '20': 4,\n",
       " 'know': 455,\n",
       " 'gif': 330,\n",
       " 'net': 579,\n",
       " 'idea': 408,\n",
       " 'like': 483,\n",
       " 'person': 637,\n",
       " 'self': 745,\n",
       " 'proud': 675,\n",
       " 'taking': 843,\n",
       " 'room': 723,\n",
       " 'bed': 73,\n",
       " 'ya': 986,\n",
       " 'learn': 471,\n",
       " 'share': 755,\n",
       " 'much': 566,\n",
       " 'kind': 451,\n",
       " 'yep': 991,\n",
       " 'old': 604,\n",
       " 'school': 733,\n",
       " 'music': 567,\n",
       " 'heard': 371,\n",
       " 'public': 677,\n",
       " 'speaking': 804,\n",
       " 'years': 989,\n",
       " 'ago': 22,\n",
       " 'sort': 795,\n",
       " 'learned': 472,\n",
       " 'better': 79,\n",
       " 'big': 80,\n",
       " 'way': 940,\n",
       " 'move': 562,\n",
       " 'start': 810,\n",
       " 'new': 581,\n",
       " 'http www': 398,\n",
       " 'www youtube': 984,\n",
       " 'youtube com': 999,\n",
       " 'com watch': 131,\n",
       " 'https www': 400,\n",
       " 'jpg http': 446,\n",
       " 'cognitive functions': 127,\n",
       " 'something like': 787,\n",
       " 'high school': 382,\n",
       " 'years ago': 990,\n",
       " 'finding': 291,\n",
       " 'lack': 460,\n",
       " 'posts': 665,\n",
       " 'sex': 754,\n",
       " 'boring': 88,\n",
       " 'often': 600,\n",
       " 'example': 251,\n",
       " 'girlfriend': 332,\n",
       " 'currently': 165,\n",
       " 'enough': 235,\n",
       " 'giving': 337,\n",
       " 'meaning': 536,\n",
       " 'theory': 861,\n",
       " 'takes': 842,\n",
       " 'words': 964,\n",
       " 'hand': 358,\n",
       " 'eye': 261,\n",
       " 'real': 693,\n",
       " 'test': 855,\n",
       " 'score': 735,\n",
       " 'internet': 433,\n",
       " 'tests': 856,\n",
       " 'funny': 318,\n",
       " 'mention': 543,\n",
       " 'believe': 76,\n",
       " 'site': 772,\n",
       " 'year': 988,\n",
       " 'half': 357,\n",
       " 'find': 290,\n",
       " 'still': 816,\n",
       " 'ideas': 409,\n",
       " 'thoughts': 871,\n",
       " 'us': 915,\n",
       " 'sometimes': 788,\n",
       " 'go': 339,\n",
       " 'quote': 686,\n",
       " 'perhaps': 636,\n",
       " 'man': 526,\n",
       " 'special': 805,\n",
       " 'knowledge': 457,\n",
       " 'rather': 690,\n",
       " 'post': 662,\n",
       " 'never': 580,\n",
       " 'ne': 573,\n",
       " 'ti': 875,\n",
       " 'fe': 275,\n",
       " 'emotions': 227,\n",
       " 'rarely': 689,\n",
       " 'si': 762,\n",
       " 'also': 29,\n",
       " 'ni': 584,\n",
       " 'due': 212,\n",
       " 'though': 869,\n",
       " 'saying': 731,\n",
       " 'happens': 364,\n",
       " 'playing': 653,\n",
       " 'first': 293,\n",
       " 'back': 67,\n",
       " 'drive': 210,\n",
       " 'look': 503,\n",
       " 'rock': 721,\n",
       " 'best': 77,\n",
       " 'makes': 522,\n",
       " 'lol': 499,\n",
       " 'guys': 352,\n",
       " 'system': 839,\n",
       " 'hell': 373,\n",
       " 'sound': 797,\n",
       " 'put': 679,\n",
       " 'couple': 157,\n",
       " 'aware': 63,\n",
       " 'se': 736,\n",
       " 'entps': 237,\n",
       " 'admit': 18,\n",
       " 'heart': 372,\n",
       " 'noticed': 595,\n",
       " 'known': 458,\n",
       " 'away': 64,\n",
       " 'anything': 44,\n",
       " 'style': 829,\n",
       " 'great': 348,\n",
       " 'song': 791,\n",
       " 'long': 500,\n",
       " 'mental': 542,\n",
       " 'love': 515,\n",
       " 'close': 124,\n",
       " 'movie': 563,\n",
       " 'normally': 591,\n",
       " 'played': 652,\n",
       " 'books': 86,\n",
       " 'said': 728,\n",
       " 'looked': 505,\n",
       " 'except': 252,\n",
       " 'called': 100,\n",
       " 'png': 656,\n",
       " 'oh': 601,\n",
       " 'fear': 276,\n",
       " 'guy': 351,\n",
       " 'personal': 638,\n",
       " 'sounds': 799,\n",
       " 'pretty': 668,\n",
       " 'going': 342,\n",
       " 'trying': 898,\n",
       " 'take': 840,\n",
       " 'problem': 672,\n",
       " 'female': 285,\n",
       " 'okay': 603,\n",
       " 'help': 375,\n",
       " 'friends': 309,\n",
       " 'developed': 193,\n",
       " 'little': 493,\n",
       " 'described': 189,\n",
       " 'living': 496,\n",
       " 'worst': 972,\n",
       " 'place': 648,\n",
       " 'perfect': 635,\n",
       " 'hurt': 406,\n",
       " 'tell': 849,\n",
       " 'traits': 890,\n",
       " 'list': 489,\n",
       " 'seems': 742,\n",
       " 'came': 101,\n",
       " 'bad': 68,\n",
       " 'already': 28,\n",
       " 'infjs': 422,\n",
       " 'however': 396,\n",
       " 'make': 521,\n",
       " 'deal': 176,\n",
       " 'easy': 217,\n",
       " 'intps': 435,\n",
       " 'identify': 410,\n",
       " 'imagine': 414,\n",
       " 'bit': 81,\n",
       " 'car': 103,\n",
       " 'trust': 895,\n",
       " 'weird': 945,\n",
       " 'ones': 608,\n",
       " 'laughing': 468,\n",
       " 'running': 726,\n",
       " 'leave': 475,\n",
       " 'work': 965,\n",
       " 'mine': 550,\n",
       " 'meet': 540,\n",
       " 'damn': 169,\n",
       " 'need': 575,\n",
       " 'say': 730,\n",
       " 'advice': 19,\n",
       " 'able': 8,\n",
       " 'knew': 454,\n",
       " 'give': 334,\n",
       " 'awesome': 65,\n",
       " 'correct': 154,\n",
       " 'stupid': 828,\n",
       " 'play': 651,\n",
       " 'laugh': 467,\n",
       " 'stay': 814,\n",
       " '10': 0,\n",
       " 'opinion': 612,\n",
       " 'difficult': 197,\n",
       " 'intjs': 434,\n",
       " 'situations': 774,\n",
       " 'random': 687,\n",
       " 'open': 611,\n",
       " 'glad': 338,\n",
       " 'thanks': 859,\n",
       " 'made': 518,\n",
       " 'several': 753,\n",
       " 'hours': 394,\n",
       " 'line': 487,\n",
       " 'avatar': 60,\n",
       " 'later': 466,\n",
       " 'fellow': 283,\n",
       " 'keep': 447,\n",
       " 'pretty much': 669,\n",
       " 'sounds like': 800,\n",
       " 'course': 158,\n",
       " 'absolutely': 9,\n",
       " 'positive': 659,\n",
       " 'amazing': 32,\n",
       " 'yes': 992,\n",
       " 'case': 106,\n",
       " 'feelings': 281,\n",
       " 'thank': 858,\n",
       " 'link': 488,\n",
       " 'topic': 886,\n",
       " 'stuck': 824,\n",
       " 'mind': 549,\n",
       " 'feels': 282,\n",
       " 'truly': 894,\n",
       " 'terrible': 854,\n",
       " 'different': 196,\n",
       " 'ever': 243,\n",
       " 'incredibly': 418,\n",
       " 'accurate': 11,\n",
       " 'beautiful': 71,\n",
       " 'description': 190,\n",
       " 'highly': 383,\n",
       " 'doubt': 206,\n",
       " 'hi': 380,\n",
       " 'sit': 771,\n",
       " '30': 5,\n",
       " 'writing': 979,\n",
       " 'songs': 792,\n",
       " 'together': 881,\n",
       " 'seen': 744,\n",
       " 'entire': 236,\n",
       " 'human': 404,\n",
       " 'working': 967,\n",
       " 'felt': 284,\n",
       " 'read': 691,\n",
       " 'book': 85,\n",
       " 'started': 811,\n",
       " 'stories': 818,\n",
       " 'recently': 703,\n",
       " 'interested': 430,\n",
       " 'works': 968,\n",
       " 'probably': 671,\n",
       " 'upon': 913,\n",
       " 'sense': 746,\n",
       " 'humor': 405,\n",
       " 'touch': 888,\n",
       " 'thinks': 868,\n",
       " 'true': 893,\n",
       " 'fact': 265,\n",
       " 'face': 263,\n",
       " 'actually': 16,\n",
       " 'likes': 486,\n",
       " 'hugs': 403,\n",
       " 'mentioned': 544,\n",
       " 'head': 368,\n",
       " 'pictures': 647,\n",
       " 'night': 586,\n",
       " 'morning': 559,\n",
       " 'order': 615,\n",
       " 'hope': 391,\n",
       " 'sleep': 775,\n",
       " 'anyway': 45,\n",
       " 'wondering': 962,\n",
       " 'issue': 441,\n",
       " 'name': 569,\n",
       " 'response': 716,\n",
       " 'helpful': 377,\n",
       " 'finally': 289,\n",
       " 'bored': 87,\n",
       " 'decide': 180,\n",
       " 'food': 300,\n",
       " 'understand': 907,\n",
       " 'angry': 34,\n",
       " 'quite': 685,\n",
       " 'somewhere': 790,\n",
       " 'else': 223,\n",
       " 'feeling': 280,\n",
       " 'liked': 484,\n",
       " 'comfortable': 134,\n",
       " 'women': 959,\n",
       " 'ability': 7,\n",
       " 'worked': 966,\n",
       " 'change': 112,\n",
       " 'results': 719,\n",
       " 'extremely': 259,\n",
       " 'online': 609,\n",
       " 'language': 461,\n",
       " 'study': 825,\n",
       " 'interesting': 431,\n",
       " 'problems': 673,\n",
       " 'important': 417,\n",
       " 'specific': 806,\n",
       " 'must': 568,\n",
       " 'show': 759,\n",
       " 'best friend': 78,\n",
       " 'conversation': 151,\n",
       " 'nature': 572,\n",
       " 'none': 589,\n",
       " 'deep': 182,\n",
       " 'ways': 941,\n",
       " 'depends': 185,\n",
       " 'individual': 420,\n",
       " 'everything': 246,\n",
       " 'either': 222,\n",
       " 'action': 14,\n",
       " 'particularly': 625,\n",
       " 'introverted': 437,\n",
       " 'personally': 641,\n",
       " 'alone': 26,\n",
       " 'wish': 955,\n",
       " 'another': 37,\n",
       " 'means': 537,\n",
       " 'others': 617,\n",
       " 'op': 610,\n",
       " 'fi': 286,\n",
       " 'disagree': 198,\n",
       " 'mother': 561,\n",
       " 'similar': 765,\n",
       " 'sure': 835,\n",
       " 'let': 478,\n",
       " 'wow': 977,\n",
       " 'nobody': 587,\n",
       " 'got': 346,\n",
       " 'knows': 459,\n",
       " 'necessarily': 574,\n",
       " 'fine': 292,\n",
       " 'lately': 465,\n",
       " 'break': 93,\n",
       " 'comes': 133,\n",
       " 'definitely': 183,\n",
       " 'business': 97,\n",
       " 'talk': 844,\n",
       " 'yeah': 987,\n",
       " 'lot': 511,\n",
       " 'longer': 502,\n",
       " 'te': 847,\n",
       " 'whether': 951,\n",
       " 'mom': 553,\n",
       " 'fun': 315,\n",
       " 'dark': 170,\n",
       " 'logic': 497,\n",
       " 'series': 749,\n",
       " 'reading': 692,\n",
       " 'edit': 220,\n",
       " 'far': 271,\n",
       " 'appreciate': 47,\n",
       " 'level': 479,\n",
       " 'certain': 109,\n",
       " 'god': 340,\n",
       " 'useful': 918,\n",
       " 'wanna': 931,\n",
       " 'ended': 229,\n",
       " 'dislike': 200,\n",
       " 'normal': 590,\n",
       " 'mbti': 534,\n",
       " 'common': 137,\n",
       " 'sx': 838,\n",
       " 'seriously': 751,\n",
       " 'mostly': 560,\n",
       " 'emotional': 225,\n",
       " 'answer': 38,\n",
       " 'argument': 49,\n",
       " 'second': 737,\n",
       " 'single': 769,\n",
       " 'happy': 365,\n",
       " 'assume': 56,\n",
       " 'process': 674,\n",
       " 'generally': 325,\n",
       " 'view': 925,\n",
       " 'seem': 740,\n",
       " 'wanted': 933,\n",
       " 'almost': 25,\n",
       " 'bother': 90,\n",
       " 'asking': 54,\n",
       " 'intuitive': 439,\n",
       " 'decided': 181,\n",
       " 'done': 204,\n",
       " 'picture': 646,\n",
       " 'asked': 53,\n",
       " 'point': 657,\n",
       " 'actual': 15,\n",
       " 'math': 530,\n",
       " 'literally': 492,\n",
       " 'saw': 729,\n",
       " 'silly': 764,\n",
       " 'rare': 688,\n",
       " 'whatever': 949,\n",
       " 'lives': 495,\n",
       " 'agree': 23,\n",
       " 'wanting': 934,\n",
       " 'long time': 501,\n",
       " 'would say': 976,\n",
       " 'makes sense': 523,\n",
       " 'even though': 241,\n",
       " 'wants': 935,\n",
       " 'super': 831,\n",
       " 'ass': 55,\n",
       " 'listen': 490,\n",
       " 'months': 557,\n",
       " 'crazy': 159,\n",
       " 'gone': 343,\n",
       " 'lost': 510,\n",
       " 'shit': 757,\n",
       " 'taken': 841,\n",
       " 'gave': 322,\n",
       " 'happened': 363,\n",
       " 'woman': 958,\n",
       " 'possible': 660,\n",
       " 'youtu': 997,\n",
       " 'went': 948,\n",
       " 'married': 529,\n",
       " 'forum': 303,\n",
       " 'question': 681,\n",
       " 'ask': 52,\n",
       " 'approach': 48,\n",
       " 'college': 129,\n",
       " 'month': 556,\n",
       " 'making': 524,\n",
       " 'dead': 175,\n",
       " 'xd': 985,\n",
       " 'men': 541,\n",
       " 'dream': 207,\n",
       " 'ha': 353,\n",
       " 'thinking': 867,\n",
       " 'brain': 92,\n",
       " 'effort': 221,\n",
       " 'understanding': 908,\n",
       " 'value': 922,\n",
       " 'instead': 426,\n",
       " 'children': 118,\n",
       " 'cry': 162,\n",
       " 'drink': 209,\n",
       " 'sweet': 837,\n",
       " 'water': 939,\n",
       " 'images': 413,\n",
       " 'healthy': 369,\n",
       " 'interest': 429,\n",
       " 'terms': 853,\n",
       " 'cannot': 102,\n",
       " 'without': 957,\n",
       " 'involved': 440,\n",
       " 'worth': 973,\n",
       " 'debate': 179,\n",
       " 'vs': 927,\n",
       " 'religion': 709,\n",
       " 'eating': 219,\n",
       " 'evil': 247,\n",
       " 'hands': 360,\n",
       " 'term': 852,\n",
       " 'questions': 682,\n",
       " 'negative': 578,\n",
       " 'fuck': 312,\n",
       " 'reason': 701,\n",
       " 'hate': 367,\n",
       " 'five': 296,\n",
       " 'parents': 622,\n",
       " 'wrong': 981,\n",
       " 'energy': 230,\n",
       " 'end': 228,\n",
       " 'focus': 297,\n",
       " 'written': 980,\n",
       " 'met': 546,\n",
       " 'really like': 700,\n",
       " 'one thing': 607,\n",
       " 'people think': 633,\n",
       " 'science': 734,\n",
       " 'information': 423,\n",
       " 'obvious': 598,\n",
       " 'party': 627,\n",
       " 'found': 305,\n",
       " 'although': 30,\n",
       " 'bring': 94,\n",
       " 'control': 150,\n",
       " 'full': 314,\n",
       " 'word': 963,\n",
       " 'usually': 921,\n",
       " 'emotionally': 226,\n",
       " 'since': 768,\n",
       " 'avoid': 62,\n",
       " 'truth': 896,\n",
       " 'telling': 850,\n",
       " 'tv': 901,\n",
       " 'nice': 585,\n",
       " 'relate': 705,\n",
       " 'looking': 506,\n",
       " 'told': 882,\n",
       " 'respect': 714,\n",
       " 'choice': 119,\n",
       " 'stop': 817,\n",
       " 'cause': 108,\n",
       " 'lose': 509,\n",
       " 'power': 666,\n",
       " 'kill': 450,\n",
       " 'number': 597,\n",
       " 'seeing': 739,\n",
       " 'care': 104,\n",
       " 'anyone': 42,\n",
       " 'took': 884,\n",
       " 'become': 72,\n",
       " 'light': 482,\n",
       " 'feel': 278,\n",
       " 'consider': 144,\n",
       " 'plan': 650,\n",
       " 'pick': 645,\n",
       " 'learning': 473,\n",
       " 'fall': 268,\n",
       " 'along': 27,\n",
       " 'wrote': 982,\n",
       " 'four': 306,\n",
       " 'happen': 362,\n",
       " 'english': 232,\n",
       " 'degree': 184,\n",
       " 'dominant': 203,\n",
       " 'possibly': 661,\n",
       " 'anxiety': 40,\n",
       " 'research': 713,\n",
       " 'tend': 851,\n",
       " 'simply': 767,\n",
       " 'expect': 254,\n",
       " 'state': 813,\n",
       " 'explain': 257,\n",
       " 'religious': 710,\n",
       " 'subject': 830,\n",
       " 'general': 324,\n",
       " 'guess': 350,\n",
       " 'text': 857,\n",
       " 'apparently': 46,\n",
       " 'says': 732,\n",
       " 'father': 273,\n",
       " 'sister': 770,\n",
       " 'side': 763,\n",
       " 'step': 815,\n",
       " 'brother': 95,\n",
       " 'needs': 577,\n",
       " 'follow': 298,\n",
       " 'think would': 866,\n",
       " 'people like': 632,\n",
       " 'real life': 694,\n",
       " 'haha': 354,\n",
       " 'past': 628,\n",
       " 'sharing': 756,\n",
       " 'future': 319,\n",
       " 'tongue': 883,\n",
       " 'values': 923,\n",
       " 'hold': 387,\n",
       " 'experiences': 256,\n",
       " 'older': 605,\n",
       " 'physical': 644,\n",
       " 'upset': 914,\n",
       " 'whenever': 950,\n",
       " 'helps': 378,\n",
       " 'original': 616,\n",
       " 'situation': 773,\n",
       " 'pay': 629,\n",
       " 'stand': 809,\n",
       " 'stress': 822,\n",
       " 'describe': 188,\n",
       " 'girls': 333,\n",
       " 'coming': 135,\n",
       " 'exact': 249,\n",
       " 'buy': 98,\n",
       " 'white': 952,\n",
       " 'posting': 664,\n",
       " 'strong': 823,\n",
       " 'especially': 238,\n",
       " 'partner': 626,\n",
       " 'looks': 507,\n",
       " 'wink': 954,\n",
       " 'attention': 57,\n",
       " 'anymore': 41,\n",
       " 'young': 995,\n",
       " 'dreams': 208,\n",
       " 'outside': 619,\n",
       " 'less': 477,\n",
       " 'fit': 295,\n",
       " 'purpose': 678,\n",
       " 'connection': 143,\n",
       " 'particular': 624,\n",
       " 'romantic': 722,\n",
       " 'boyfriend': 91,\n",
       " 'first time': 294,\n",
       " 'people know': 631,\n",
       " 'lot people': 512,\n",
       " 'personality type': 640,\n",
       " 'call': 99,\n",
       " 'bunch': 96,\n",
       " 'dont': 205,\n",
       " 'form': 302,\n",
       " 'im': 411,\n",
       " 'free': 307,\n",
       " 'interests': 432,\n",
       " 'meant': 538,\n",
       " 'towards': 889,\n",
       " 'wonder': 960,\n",
       " 'act': 13,\n",
       " 'unsure': 912,\n",
       " 'add': 17,\n",
       " 'fight': 287,\n",
       " 'express': 258,\n",
       " 'fan': 270,\n",
       " 'create': 160,\n",
       " 'check': 116,\n",
       " 'company': 138,\n",
       " 'remember': 711,\n",
       " 'kinda': 452,\n",
       " 'gets': 328,\n",
       " 'desire': 192,\n",
       " 'used': 917,\n",
       " 'pain': 621,\n",
       " 'low': 517,\n",
       " '15': 3,\n",
       " 'goes': 341,\n",
       " 'house': 395,\n",
       " 'hmm': 386,\n",
       " 'somehow': 783,\n",
       " 'huge': 402,\n",
       " 'soul': 796,\n",
       " 'would like': 975,\n",
       " 'seems like': 743,\n",
       " 'loved': 516,\n",
       " 'matter': 531,\n",
       " 'might': 548,\n",
       " 'voice': 926,\n",
       " 'getting': 329,\n",
       " 'naturally': 571,\n",
       " 'early': 213,\n",
       " 'body': 84,\n",
       " 'reality': 695,\n",
       " 'depression': 187,\n",
       " 'serious': 750,\n",
       " 'certainly': 110,\n",
       " 'easily': 216,\n",
       " 'worse': 971,\n",
       " 'feel like': 279,\n",
       " 'unfortunately': 909,\n",
       " 'trouble': 892,\n",
       " 'wear': 942,\n",
       " 'run': 725,\n",
       " 'sent': 748,\n",
       " 'confused': 142,\n",
       " 'tapatalk': 846,\n",
       " 'quiet': 684,\n",
       " 'hair': 356,\n",
       " 'logical': 498,\n",
       " 'miss': 552,\n",
       " 'yet': 994,\n",
       " 'chance': 111,\n",
       " 'cat': 107,\n",
       " 'honest': 389,\n",
       " 'short': 758,\n",
       " 'kid': 448,\n",
       " 'issues': 442,\n",
       " 'country': 156,\n",
       " 'attracted': 58,\n",
       " 'message': 545,\n",
       " 'helped': 376,\n",
       " 'mood': 558,\n",
       " 'job': 443,\n",
       " 'realize': 696,\n",
       " 'kitteh': 453,\n",
       " 'easier': 215,\n",
       " 'coffee': 125,\n",
       " 'shows': 760,\n",
       " 'date': 171,\n",
       " 'black': 82,\n",
       " 'lead': 470,\n",
       " 'considering': 146,\n",
       " 'prefer': 667,\n",
       " 'walking': 930,\n",
       " 'turn': 900,\n",
       " 'character': 114,\n",
       " 'teacher': 848,\n",
       " 'using tapatalk': 920,\n",
       " 'looks like': 508,\n",
       " 'look like': 504,\n",
       " 'things like': 864,\n",
       " 'dad': 168,\n",
       " 'gonna': 344,\n",
       " '100': 1,\n",
       " 'days': 174,\n",
       " 'art': 51,\n",
       " 'career': 105,\n",
       " 'inferior': 421,\n",
       " 'function': 316,\n",
       " 'age': 21,\n",
       " 'somebody': 782,\n",
       " 'spent': 808,\n",
       " 'enfps': 231,\n",
       " 'story': 819,\n",
       " 'sensitive': 747,\n",
       " 'handle': 359,\n",
       " 'cold': 128,\n",
       " 'talking': 845,\n",
       " 'otherwise': 618,\n",
       " 'hug': 401,\n",
       " 'dom': 202,\n",
       " 'eventually': 242,\n",
       " 'walk': 929,\n",
       " 'ok': 602,\n",
       " 'inside': 425,\n",
       " 'obviously': 599,\n",
       " 'family': 269,\n",
       " 'fair': 266,\n",
       " 'younger': 996,\n",
       " 'support': 832,\n",
       " 'straight': 820,\n",
       " 'notice': 594,\n",
       " 'non': 588,\n",
       " 'nf': 583,\n",
       " 'slightly': 776,\n",
       " 'blue': 83,\n",
       " 'behavior': 74,\n",
       " 'smart': 778,\n",
       " 'considered': 145,\n",
       " 'please': 654,\n",
       " 'fairly': 267,\n",
       " 'difference': 195,\n",
       " 'group': 349,\n",
       " 'get along': 327,\n",
       " 'characters': 115,\n",
       " 'eyes': 262,\n",
       " 'across': 12,\n",
       " 'ex': 248,\n",
       " 'annoying': 36,\n",
       " 'male': 525,\n",
       " 'introvert': 436,\n",
       " 'fucking': 313,\n",
       " 'supposed': 834,\n",
       " 'comment': 136,\n",
       " 'plus': 655,\n",
       " 'curious': 163,\n",
       " 'phone': 643,\n",
       " 'joke': 444,\n",
       " 'major': 520,\n",
       " 'choose': 120,\n",
       " 'sound like': 798,\n",
       " 'large': 462,\n",
       " 'relationships': 708,\n",
       " 'exactly': 250,\n",
       " 'places': 649,\n",
       " 'week': 943,\n",
       " 'clear': 122,\n",
       " 'attractive': 59,\n",
       " 'knowing': 456,\n",
       " 'animals': 35,\n",
       " 'reply': 712,\n",
       " 'dating': 172,\n",
       " 'shy': 761,\n",
       " 'studying': 826,\n",
       " 'afraid': 20,\n",
       " 'result': 718,\n",
       " 'spend': 807,\n",
       " 'realized': 697,\n",
       " 'threads': 873,\n",
       " 'unless': 911,\n",
       " 'putting': 680,\n",
       " 'behind': 75,\n",
       " 'complete': 139,\n",
       " 'tired': 878,\n",
       " 'die': 194,\n",
       " 'unhealthy': 910,\n",
       " 'intuition': 438,\n",
       " 'answers': 39,\n",
       " 'amount': 33,\n",
       " 'respond': 715,\n",
       " 'speak': 803,\n",
       " 'tried': 891,\n",
       " 'suppose': 833,\n",
       " 'contact': 148,\n",
       " 'awkward': 66,\n",
       " 'watched': 937,\n",
       " 'based': 69,\n",
       " 'pretty sure': 670,\n",
       " 'gives': 336,\n",
       " 'simple': 766,\n",
       " 'nt': 596,\n",
       " 'forget': 301,\n",
       " 'changed': 113,\n",
       " 'opposite': 614,\n",
       " 'related': 706,\n",
       " 'imgur': 415,\n",
       " 'child': 117,\n",
       " 'smile': 779,\n",
       " 'discussion': 199,\n",
       " 'imgur com': 416,\n",
       " 'etc': 239,\n",
       " 'totally': 887,\n",
       " 'money': 555,\n",
       " 'cut': 166,\n",
       " 'hour': 393,\n",
       " 'dude': 211,\n",
       " 'creative': 161,\n",
       " 'surprised': 836,\n",
       " 'wonderful': 961,\n",
       " 'kids': 449,\n",
       " 'depressed': 186,\n",
       " 'dog': 201,\n",
       " 'write': 978,\n",
       " 'front': 311,\n",
       " 'husband': 407,\n",
       " 'loud': 514,\n",
       " 'small': 777,\n",
       " 'honestly': 390,\n",
       " 'intelligence': 427,\n",
       " 'accept': 10,\n",
       " 'needed': 576,\n",
       " 'rules': 724,\n",
       " 'someone else': 785,\n",
       " 'many people': 528,\n",
       " 'average': 61,\n",
       " 'yesterday': 993,\n",
       " 'points': 658,\n",
       " 'infps': 424,\n",
       " 'intelligent': 428,\n",
       " 'enneagram': 234,\n",
       " 'opinions': 613,\n",
       " 'ah': 24,\n",
       " 'strange': 821,\n",
       " 'extroverted': 260,\n",
       " 'emotion': 224,\n",
       " 'image': 412,\n",
       " 'fast': 272,\n",
       " 'lazy': 469,\n",
       " 'history': 384,\n",
       " 'psychology': 676,\n",
       " 'descriptions': 191,\n",
       " 'constantly': 147,\n",
       " 'forums': 304,\n",
       " 'feature': 277,\n",
       " 'born': 89,\n",
       " 'space': 802,\n",
       " 'soon': 793,\n",
       " 'lots': 513,\n",
       " 'really good': 699,\n",
       " 'thats': 860,\n",
       " 'earth': 214,\n",
       " 'listening': 491,\n",
       " '12': 2,\n",
       " 'computer': 141,\n",
       " 'gender': 323,\n",
       " 'starting': 812,\n",
       " 'anyone else': 43,\n",
       " 'lie': 480,\n",
       " 'seemed': 741,\n",
       " 'perspective': 642,\n",
       " 'cute': 167,\n",
       " 'weeks': 944,\n",
       " 'hit': 385,\n",
       " 'typing': 906,\n",
       " 'hot': 392,\n",
       " 'hahaha': 355,\n",
       " 'sp': 801,\n",
       " 'gotten': 347,\n",
       " 'page': 620,\n",
       " 'hang': 361,\n",
       " 'following': 299,\n",
       " 'typed': 904,\n",
       " 'title': 879,\n",
       " 'exist': 253}"
      ]
     },
     "execution_count": 26,
     "metadata": {},
     "output_type": "execute_result"
    }
   ],
   "source": [
    "cv.vocabulary_"
   ]
  },
  {
   "cell_type": "code",
   "execution_count": 28,
   "metadata": {
    "collapsed": true
   },
   "outputs": [
    {
     "data": {
      "text/html": [
       "<div>\n",
       "<style>\n",
       "    .dataframe thead tr:only-child th {\n",
       "        text-align: right;\n",
       "    }\n",
       "\n",
       "    .dataframe thead th {\n",
       "        text-align: left;\n",
       "    }\n",
       "\n",
       "    .dataframe tbody tr th {\n",
       "        vertical-align: top;\n",
       "    }\n",
       "</style>\n",
       "<table border=\"1\" class=\"dataframe\">\n",
       "  <thead>\n",
       "    <tr style=\"text-align: right;\">\n",
       "      <th></th>\n",
       "      <th>abil</th>\n",
       "      <th>abl</th>\n",
       "      <th>absolut</th>\n",
       "      <th>accept</th>\n",
       "      <th>account</th>\n",
       "      <th>accur</th>\n",
       "      <th>across</th>\n",
       "      <th>act</th>\n",
       "      <th>action</th>\n",
       "      <th>activ</th>\n",
       "      <th>...</th>\n",
       "      <th>year old</th>\n",
       "      <th>yep</th>\n",
       "      <th>yesterday</th>\n",
       "      <th>yet</th>\n",
       "      <th>youd</th>\n",
       "      <th>youll</th>\n",
       "      <th>young</th>\n",
       "      <th>younger</th>\n",
       "      <th>youtub</th>\n",
       "      <th>youv</th>\n",
       "    </tr>\n",
       "  </thead>\n",
       "  <tbody>\n",
       "    <tr>\n",
       "      <th>0</th>\n",
       "      <td>0</td>\n",
       "      <td>0</td>\n",
       "      <td>0</td>\n",
       "      <td>0</td>\n",
       "      <td>0</td>\n",
       "      <td>0</td>\n",
       "      <td>0</td>\n",
       "      <td>0</td>\n",
       "      <td>0</td>\n",
       "      <td>0</td>\n",
       "      <td>...</td>\n",
       "      <td>0</td>\n",
       "      <td>1</td>\n",
       "      <td>0</td>\n",
       "      <td>0</td>\n",
       "      <td>0</td>\n",
       "      <td>0</td>\n",
       "      <td>0</td>\n",
       "      <td>0</td>\n",
       "      <td>0</td>\n",
       "      <td>1</td>\n",
       "    </tr>\n",
       "    <tr>\n",
       "      <th>1</th>\n",
       "      <td>0</td>\n",
       "      <td>1</td>\n",
       "      <td>0</td>\n",
       "      <td>0</td>\n",
       "      <td>0</td>\n",
       "      <td>0</td>\n",
       "      <td>0</td>\n",
       "      <td>0</td>\n",
       "      <td>0</td>\n",
       "      <td>0</td>\n",
       "      <td>...</td>\n",
       "      <td>0</td>\n",
       "      <td>0</td>\n",
       "      <td>0</td>\n",
       "      <td>0</td>\n",
       "      <td>0</td>\n",
       "      <td>0</td>\n",
       "      <td>0</td>\n",
       "      <td>0</td>\n",
       "      <td>0</td>\n",
       "      <td>0</td>\n",
       "    </tr>\n",
       "    <tr>\n",
       "      <th>2</th>\n",
       "      <td>2</td>\n",
       "      <td>1</td>\n",
       "      <td>2</td>\n",
       "      <td>0</td>\n",
       "      <td>0</td>\n",
       "      <td>1</td>\n",
       "      <td>0</td>\n",
       "      <td>0</td>\n",
       "      <td>0</td>\n",
       "      <td>0</td>\n",
       "      <td>...</td>\n",
       "      <td>0</td>\n",
       "      <td>0</td>\n",
       "      <td>0</td>\n",
       "      <td>0</td>\n",
       "      <td>0</td>\n",
       "      <td>0</td>\n",
       "      <td>0</td>\n",
       "      <td>0</td>\n",
       "      <td>0</td>\n",
       "      <td>0</td>\n",
       "    </tr>\n",
       "    <tr>\n",
       "      <th>3</th>\n",
       "      <td>0</td>\n",
       "      <td>2</td>\n",
       "      <td>1</td>\n",
       "      <td>1</td>\n",
       "      <td>0</td>\n",
       "      <td>0</td>\n",
       "      <td>0</td>\n",
       "      <td>0</td>\n",
       "      <td>2</td>\n",
       "      <td>0</td>\n",
       "      <td>...</td>\n",
       "      <td>0</td>\n",
       "      <td>0</td>\n",
       "      <td>0</td>\n",
       "      <td>0</td>\n",
       "      <td>0</td>\n",
       "      <td>1</td>\n",
       "      <td>0</td>\n",
       "      <td>0</td>\n",
       "      <td>0</td>\n",
       "      <td>2</td>\n",
       "    </tr>\n",
       "    <tr>\n",
       "      <th>4</th>\n",
       "      <td>0</td>\n",
       "      <td>0</td>\n",
       "      <td>0</td>\n",
       "      <td>0</td>\n",
       "      <td>0</td>\n",
       "      <td>0</td>\n",
       "      <td>0</td>\n",
       "      <td>0</td>\n",
       "      <td>0</td>\n",
       "      <td>0</td>\n",
       "      <td>...</td>\n",
       "      <td>1</td>\n",
       "      <td>0</td>\n",
       "      <td>0</td>\n",
       "      <td>0</td>\n",
       "      <td>0</td>\n",
       "      <td>0</td>\n",
       "      <td>0</td>\n",
       "      <td>0</td>\n",
       "      <td>0</td>\n",
       "      <td>0</td>\n",
       "    </tr>\n",
       "  </tbody>\n",
       "</table>\n",
       "<p>5 rows × 1000 columns</p>\n",
       "</div>"
      ],
      "text/plain": [
       "   abil  abl  absolut  accept  account  accur  across  act  action  activ  \\\n",
       "0     0    0        0       0        0      0       0    0       0      0   \n",
       "1     0    1        0       0        0      0       0    0       0      0   \n",
       "2     2    1        2       0        0      1       0    0       0      0   \n",
       "3     0    2        1       1        0      0       0    0       2      0   \n",
       "4     0    0        0       0        0      0       0    0       0      0   \n",
       "\n",
       "   ...   year old  yep  yesterday  yet  youd  youll  young  younger  youtub  \\\n",
       "0  ...          0    1          0    0     0      0      0        0       0   \n",
       "1  ...          0    0          0    0     0      0      0        0       0   \n",
       "2  ...          0    0          0    0     0      0      0        0       0   \n",
       "3  ...          0    0          0    0     0      1      0        0       0   \n",
       "4  ...          1    0          0    0     0      0      0        0       0   \n",
       "\n",
       "   youv  \n",
       "0     1  \n",
       "1     0  \n",
       "2     0  \n",
       "3     2  \n",
       "4     0  \n",
       "\n",
       "[5 rows x 1000 columns]"
      ]
     },
     "execution_count": 28,
     "metadata": {},
     "output_type": "execute_result"
    }
   ],
   "source": [
    "# Run a final CountVectorizer on posts to include the cleaning preprocessor arguments\n",
    "cv = CountVectorizer(preprocessor=cleaner, stop_words=stop_rev, ngram_range=(1,2), max_features=1000)\n",
    "cv.fit_transform(posts)\n",
    "\n",
    "cv.transform(posts).todense()\n",
    "df_posts = pd.DataFrame(cv.transform(posts).todense(), \n",
    "             columns=cv.get_feature_names())\n",
    "df_posts.head()"
   ]
  },
  {
   "cell_type": "code",
   "execution_count": 29,
   "metadata": {},
   "outputs": [
    {
     "data": {
      "text/plain": [
       "(8675, 1000)"
      ]
     },
     "execution_count": 29,
     "metadata": {},
     "output_type": "execute_result"
    }
   ],
   "source": [
    "# Confirm shape\n",
    "df_posts.shape"
   ]
  },
  {
   "cell_type": "markdown",
   "metadata": {},
   "source": [
    "The transformed dataset contains 8675 rows and 1000 columns, as expected."
   ]
  },
  {
   "cell_type": "code",
   "execution_count": 30,
   "metadata": {},
   "outputs": [
    {
     "name": "stdout",
     "output_type": "stream",
     "text": [
      "im        79995\n",
      "like      75765\n",
      "think     58275\n",
      "dont      52778\n",
      "peopl     47904\n",
      "one       39656\n",
      "know      39430\n",
      "get       38870\n",
      "feel      37014\n",
      "realli    35223\n",
      "dtype: int64\n"
     ]
    }
   ],
   "source": [
    "# Examine the top 10 occuring words in this round of CountVectorizer\n",
    "print(df_posts.sum().sort_values(ascending=False).head(10))"
   ]
  },
  {
   "cell_type": "code",
   "execution_count": 31,
   "metadata": {
    "collapsed": true
   },
   "outputs": [
    {
     "name": "stdout",
     "output_type": "stream",
     "text": [
      "    abil  abl  absolut  accept  account  accur  across  act  action  activ  \\\n",
      "0      0    0        0       0        0      0       0    0       0      0   \n",
      "..   ...  ...      ...     ...      ...    ...     ...  ...     ...    ...   \n",
      "\n",
      "    actual  add  admit  advic  affect  afraid  age  ago  agre  ah  allow  \\\n",
      "0        0    0      0      0       0       0    1    1     0   0      0   \n",
      "..     ...  ...    ...    ...     ...     ...  ...  ...   ...  ..    ...   \n",
      "\n",
      "    almost  alon  along  alreadi  also  although  alway  amaz  amount  angri  \\\n",
      "0        0     0      0        0     0         0      1     0       0      0   \n",
      "..     ...   ...    ...      ...   ...       ...    ...   ...     ...    ...   \n",
      "\n",
      "    anim  annoy  anoth  answer  answer question  anxieti  anymor  anyon  \\\n",
      "0      0      0      0       0                0        0       0      0   \n",
      "..   ...    ...    ...     ...              ...      ...     ...    ...   \n",
      "\n",
      "    anyon els  anyth  anyway  apart  apolog  appar  appear  appli  appreci  \\\n",
      "0           0      0       0      0       0      0       1      0        0   \n",
      "..        ...    ...     ...    ...     ...    ...     ...    ...      ...   \n",
      "\n",
      "    approach  area  arent  argu  argument  around  art  articl  artist  ask  \\\n",
      "0          0     1      0     0         0       1    0       0       3    0   \n",
      "..       ...   ...    ...   ...       ...     ...  ...     ...     ...  ...   \n",
      "\n",
      "    aspect  ass  assum  attempt  attent  attract  avatar  averag  avoid  aw  \\\n",
      "0        0    0      0        0       0        0       0       0      0   0   \n",
      "..     ...  ...    ...      ...     ...      ...     ...     ...    ...  ..   \n",
      "\n",
      "    awar  away  awesom  awkward  babi  back  bad  balanc  base  basic  beauti  \\\n",
      "0      0     0       0        0     1     0    0       0     0      1       0   \n",
      "..   ...   ...     ...      ...   ...   ...  ...     ...   ...    ...     ...   \n",
      "\n",
      "    becom  bed  begin  behavior  behind  belief  believ  best  best friend  \\\n",
      "0       1    1      0         0       0       0       0     0            0   \n",
      "..    ...  ...    ...       ...     ...     ...     ...   ...          ...   \n",
      "\n",
      "    better  big  bit  black  blue  bodi  book  bore  born  bother  boy  \\\n",
      "0        1    1    0      0     0     0     0     0     0       0    0   \n",
      "..     ...  ...  ...    ...   ...   ...   ...   ...   ...     ...  ...   \n",
      "\n",
      "    boyfriend  brain  break  bring  brother  build  bunch  busi  buy  call  \\\n",
      "0           0      0      0      0        0      0      0     0    0     0   \n",
      "..        ...    ...    ...    ...      ...    ...    ...   ...  ...   ...   \n",
      "\n",
      "    calm  came  cannot  cant  car  care  career  case  cat  caus  certain  \\\n",
      "0      0     0       0     0    0     0       0     0    0     0        0   \n",
      "..   ...   ...     ...   ...  ...   ...     ...   ...  ...   ...      ...   \n",
      "\n",
      "    certainli  challeng  chanc  chang  charact  check  child  children  choic  \\\n",
      "0           0         0      0      0        0      0      0         0      0   \n",
      "..        ...       ...    ...    ...      ...    ...    ...       ...    ...   \n",
      "\n",
      "    choos  christian  citi  claim  class  clean  clear  clearli  close  \\\n",
      "0       0          0     0      0      2      0      0        1      0   \n",
      "..    ...        ...   ...    ...    ...    ...    ...      ...    ...   \n",
      "\n",
      "    close friend  cloth  coffe  cognit  cognit function  cold  colleg  color  \\\n",
      "0              0      0      0       1                1     0       0      0   \n",
      "..           ...    ...    ...     ...              ...   ...     ...    ...   \n",
      "\n",
      "    combin  come  comfort  comment  common  commun  compani  compar  complet  \\\n",
      "0        0     1        0        0       0       0        0       0        1   \n",
      "..     ...   ...      ...      ...     ...     ...      ...     ...      ...   \n",
      "\n",
      "    compliment  comput  concept  concern  conclus  confid  conflict  confus  \\\n",
      "0            0       0        0        0        0       1         0       0   \n",
      "..         ...     ...      ...      ...      ...     ...       ...     ...   \n",
      "\n",
      "    connect  consid  constantli  contact  continu  control  convers  convinc  \\\n",
      "0         0       0           0        0        0        0        2        0   \n",
      "..      ...     ...         ...      ...      ...      ...      ...      ...   \n",
      "\n",
      "    cool  correct  could  couldnt  count  countri  coupl  cours  crazi  creat  \\\n",
      "0      1        0      2        0      1        0      0      0      0      0   \n",
      "..   ...      ...    ...      ...    ...      ...    ...    ...    ...    ...   \n",
      "\n",
      "    creativ  cri  critic  crush  cultur  curiou  current  cut  cute  dad  \\\n",
      "0         0    0       0      0       0       0        1    0     0    0   \n",
      "..      ...  ...     ...    ...     ...     ...      ...  ...   ...  ...   \n",
      "\n",
      "    damn  danc  dark  date  day  dead  deal  dear  death  debat  decid  decis  \\\n",
      "0      0     0     0     0    1     0     0     1      1      0      0      0   \n",
      "..   ...   ...   ...   ...  ...   ...   ...   ...    ...    ...    ...    ...   \n",
      "\n",
      "    deep  defin  definit  degre  depend  depress  describ  descript  desir  \\\n",
      "0      0      0        0      0       0        0        0         0      0   \n",
      "..   ...    ...      ...    ...     ...      ...      ...       ...    ...   \n",
      "\n",
      "    detail  develop  didnt  die  differ  difficult  direct  disagre  discov  \\\n",
      "0        0        0      0    0       0          0       0        0       0   \n",
      "..     ...      ...    ...  ...     ...        ...     ...      ...     ...   \n",
      "\n",
      "    discuss  dislik  doesnt  dog  domin  done  dont  dont care  dont even  \\\n",
      "0         0       0       0    0      0     0     2          0          0   \n",
      "..      ...     ...     ...  ...    ...   ...   ...        ...        ...   \n",
      "\n",
      "    dont feel  dont get  dont know  dont like  dont realli  dont see  \\\n",
      "0           0         0          0          0            0         0   \n",
      "..        ...       ...        ...        ...          ...       ...   \n",
      "\n",
      "    dont think  dont understand  dont want  doubt  draw  dream  drink  drive  \\\n",
      "0            0                0          0      0     1      0      0      0   \n",
      "..         ...              ...        ...    ...   ...    ...    ...    ...   \n",
      "\n",
      "    drug  dude  due  earli  easi  easier  easili  eat  edit  effect  effort  \\\n",
      "0      0     0    0      0     0       0       0    1     0       0       0   \n",
      "..   ...   ...  ...    ...   ...     ...     ...  ...   ...     ...     ...   \n",
      "\n",
      "    either  els  emot  end  energi  english  enjoy  enneagram  enough  entir  \\\n",
      "0        0    0     0    0       0        0      1          0       0      0   \n",
      "..     ...  ...   ...  ...     ...      ...    ...        ...     ...    ...   \n",
      "\n",
      "    environ  equal  especi  etc  even  even though  event  eventu  ever  \\\n",
      "0         0      0       0    0     1            0      0       0     0   \n",
      "..      ...    ...     ...  ...   ...          ...    ...     ...   ...   \n",
      "\n",
      "    everi  everyon  everyth  evil  ex  exact  exactli  exampl  except  excit  \\\n",
      "0       1        2        0     0   0      0        0       0       0      0   \n",
      "..    ...      ...      ...   ...  ..    ...      ...     ...     ...    ...   \n",
      "\n",
      "    exist  expect  experi  experienc  explain  express  extravert  extrem  \\\n",
      "0       1       0       2          0        0        0          0       0   \n",
      "..    ...     ...     ...        ...      ...      ...        ...     ...   \n",
      "\n",
      "    extrovert  eye  face  facebook  fact  fail  fair  fairli  fall  famili  \\\n",
      "0           0    0     0         1     0     1     0       0     0       0   \n",
      "..        ...  ...   ...       ...   ...   ...   ...     ...   ...     ...   \n",
      "\n",
      "    fan  far  fast  father  favorit  favourit  fe  fear  feel  feel like  \\\n",
      "0     0    0     0       0        2         0   0     0     0          0   \n",
      "..  ...  ...   ...     ...      ...       ...  ..   ...   ...        ...   \n",
      "\n",
      "    fellow  felt  femal  fi  fight  figur  film  final  find  fine  finish  \\\n",
      "0        0     0      0   0      0      1     0      0     0     0       0   \n",
      "..     ...   ...    ...  ..    ...    ...   ...    ...   ...   ...     ...   \n",
      "\n",
      "    first  first time  fit  five  fix  focu  focus  follow  food  forc  \\\n",
      "0       0           0    0     0    0     0      0       1     0     0   \n",
      "..    ...         ...  ...   ...  ...   ...    ...     ...   ...   ...   \n",
      "\n",
      "    forget  form  forum  found  four  freak  free  friend  friendship  front  \\\n",
      "0        0     1      0      0     0      0     0       1           0      0   \n",
      "..     ...   ...    ...    ...   ...    ...   ...     ...         ...    ...   \n",
      "\n",
      "    frustrat  fuck  full  fun  function  funni  futur  game  gave  gender  \\\n",
      "0          0     0     0    0         1      0      0     4     0       0   \n",
      "..       ...   ...   ...  ...       ...    ...    ...   ...   ...     ...   \n",
      "\n",
      "    gener  genuin  get  get along  gift  girl  girlfriend  give  given  glad  \\\n",
      "0       0       0    1          0     0     0           0     0      2     0   \n",
      "..    ...     ...  ...        ...   ...   ...         ...   ...    ...   ...   \n",
      "\n",
      "    go  goal  god  goe  gone  gonna  good  got  gotten  grade  great  group  \\\n",
      "0    0     0    0    0     0      0     3    0       0      0      0      0   \n",
      "..  ..   ...  ...  ...   ...    ...   ...  ...     ...    ...    ...    ...   \n",
      "\n",
      "    grow  guess  guy  ha  haha  hahaha  hair  half  hand  handl  hang  happen  \\\n",
      "0      1      0    0   0     0       0     0     0     0      0     0       1   \n",
      "..   ...    ...  ...  ..   ...     ...   ...   ...   ...    ...   ...     ...   \n",
      "\n",
      "    happi  hard  hate  havent  head  healthi  hear  heard  heart  hell  hello  \\\n",
      "0       0     1     0       1     0        0     1      1      0     0      1   \n",
      "..    ...   ...   ...     ...   ...      ...   ...    ...    ...   ...    ...   \n",
      "\n",
      "    help  hey  hi  hide  high  high school  highli  histori  hit  hmm  hold  \\\n",
      "0      0    1   0     0     2            1       0        0    0    0     0   \n",
      "..   ...  ...  ..   ...   ...          ...     ...      ...  ...  ...   ...   \n",
      "\n",
      "    home  honest  honestli  hope  horribl  hot  hour  hous  howev  hug  huge  \\\n",
      "0      0       0         0     0        0    0     0     0      0    0     0   \n",
      "..   ...     ...       ...   ...      ...  ...   ...   ...    ...  ...   ...   \n",
      "\n",
      "    human  humor  hurt  husband  id  id like  id say  idea  ideal  identifi  \\\n",
      "0       0      0     0        0   1        0       0     1      0         0   \n",
      "..    ...    ...   ...      ...  ..      ...     ...   ...    ...       ...   \n",
      "\n",
      "    ignor  ill  im  im go  im pretti  im realli  im sorri  im still  im sure  \\\n",
      "0       0    0   1      0          0          0         0         0        0   \n",
      "..    ...  ...  ..    ...        ...        ...       ...       ...      ...   \n",
      "\n",
      "    im tri  imag  imagin  import  impress  includ  incred  inde  individu  \\\n",
      "0        0     0       0       0        0       0       0     1         0   \n",
      "..     ...   ...     ...     ...      ...     ...     ...   ...       ...   \n",
      "\n",
      "    inferior  inform  initi  insid  insight  inspir  instead  intellig  \\\n",
      "0          0       0      0      0        0       0        0         0   \n",
      "..       ...     ...    ...    ...      ...     ...      ...       ...   \n",
      "\n",
      "    intens  intent  interact  interest  intern  internet  introvert  intuit  \\\n",
      "0        0       0         0         0       0         0          0       0   \n",
      "..     ...     ...       ...       ...     ...       ...        ...     ...   \n",
      "\n",
      "    involv  isnt  issu  ive  ive alway  ive never  ive seen  job  join  joke  \\\n",
      "0        0     0     0    1          0          0         0    0     0     0   \n",
      "..     ...   ...   ...  ...        ...        ...       ...  ...   ...   ...   \n",
      "\n",
      "    judg  jump  keep  kid  kill  kind  kinda  knew  know  know im  knowledg  \\\n",
      "0      0     0     0    0     0     1      0     0     0        0         0   \n",
      "..   ...   ...   ...  ...   ...   ...    ...   ...   ...      ...       ...   \n",
      "\n",
      "    known  lack  languag  larg  last  late  later  laugh  law  lazi  lead  \\\n",
      "0       0     0        0     0     1     1      0      0    0     0     0   \n",
      "..    ...   ...      ...   ...   ...   ...    ...    ...  ...   ...   ...   \n",
      "\n",
      "    learn  least  leav  left  less  let  letter  level  lie  life  light  \\\n",
      "0       2      1     0     2     0    0       0      0    0     2      0   \n",
      "..    ...    ...   ...   ...   ...  ...     ...    ...  ...   ...    ...   \n",
      "\n",
      "    like  like im  limit  line  link  list  listen  liter  littl  live  logic  \\\n",
      "0      4        0      0     0     0     0       0      0      0     1      0   \n",
      "..   ...      ...    ...   ...   ...   ...     ...    ...    ...   ...    ...   \n",
      "\n",
      "    lol  long  long time  longer  look  look like  lose  lost  lot  lot peopl  \\\n",
      "0     0     0          0       0     0          0     0     0    0          0   \n",
      "..  ...   ...        ...     ...   ...        ...   ...   ...  ...        ...   \n",
      "\n",
      "    loud  love  low  made  main  major  make  make feel  make sens  male  man  \\\n",
      "0      0     0    0     0     1      0     0          0          0     0    0   \n",
      "..   ...   ...  ...   ...   ...    ...   ...        ...        ...   ...  ...   \n",
      "\n",
      "    manag  mani  mani peopl  manipul  marri  match  math  matter  matur  may  \\\n",
      "0       0     1           0        0      0      1     0       0      0    1   \n",
      "..    ...   ...         ...      ...    ...    ...   ...     ...    ...  ...   \n",
      "\n",
      "    mayb  mbti  mean  meant  meet  member  memori  men  mental  mention  mess  \\\n",
      "0      1     0     1      0     0       0       0    0       1        0     0   \n",
      "..   ...   ...   ...    ...   ...     ...     ...  ...     ...      ...   ...   \n",
      "\n",
      "    messag  met  middl  might  mind  mine  minut  miss  mistak  mix  mom  \\\n",
      "0        0    0      1      0     0     0      1     0       0    0    0   \n",
      "..     ...  ...    ...    ...   ...   ...    ...   ...     ...  ...  ...   \n",
      "\n",
      "    moment  money  month  mood  moral  morn  mostli  mother  motiv  move  \\\n",
      "0        2      0      0     0      0     0       0       0      0     3   \n",
      "..     ...    ...    ...   ...    ...   ...     ...     ...    ...   ...   \n",
      "\n",
      "    movi  much  music  must  name  natur  ne  necessarili  need  neg  never  \\\n",
      "0      1     1      1     0     0      1   0            0     0    0      0   \n",
      "..   ...   ...    ...   ...   ...    ...  ..          ...   ...  ...    ...   \n",
      "\n",
      "    new  next  nf  ni  nice  night  nobodi  none  normal  note  noth  notic  \\\n",
      "0     1     1   0   0     0      0       0     0       0     1     1      0   \n",
      "..  ...   ...  ..  ..   ...    ...     ...   ...     ...   ...   ...    ...   \n",
      "\n",
      "    nt  number  object  observ  obsess  obviou  obvious  odd  offer  often  \\\n",
      "0    0       0       0       0       0       0        0    0      0      0   \n",
      "..  ..     ...     ...     ...     ...     ...      ...  ...    ...    ...   \n",
      "\n",
      "    oh  ok  okay  old  older  one  one thing  onlin  op  open  opinion  \\\n",
      "0    0   0     0    1      0    2          0      0   0     0        0   \n",
      "..  ..  ..   ...  ...    ...  ...        ...    ...  ..   ...      ...   \n",
      "\n",
      "    opposit  option  order  organ  origin  otherwis  outsid  page  pain  \\\n",
      "0         0       0      0      0       0         0       0     0     0   \n",
      "..      ...     ...    ...    ...     ...       ...     ...   ...   ...   \n",
      "\n",
      "    parent  part  parti  particular  particularli  partner  pass  passion  \\\n",
      "0        0     2      0           0             0        0     0        0   \n",
      "..     ...   ...    ...         ...           ...      ...   ...      ...   \n",
      "\n",
      "    past  pattern  pay  peac  peopl  peopl dont  peopl like  peopl think  \\\n",
      "0      0        0    0     1      1           0           0            0   \n",
      "..   ...      ...  ...   ...    ...         ...         ...          ...   \n",
      "\n",
      "    perc  perceiv  perfect  perhap  period  person  person type  perspect  \\\n",
      "0      1        0        1       0       0       2            0         0   \n",
      "..   ...      ...      ...     ...     ...     ...          ...       ...   \n",
      "\n",
      "    phone  physic  pick  pictur  piec  piss  place  plan  play  pleas  plu  \\\n",
      "0       0       0     0       0     0     0      0     0     1      0    0   \n",
      "..    ...     ...   ...     ...   ...   ...    ...   ...   ...    ...  ...   \n",
      "\n",
      "    point  polit  posit  possibl  post  potenti  power  practic  prefer  \\\n",
      "0       0      0      1        0     1        0      0        0       0   \n",
      "..    ...    ...    ...      ...   ...      ...    ...      ...     ...   \n",
      "\n",
      "    present  pretti  pretti much  pretti sure  probabl  problem  process  \\\n",
      "0         0       0            0            0        0        0        0   \n",
      "..      ...     ...          ...          ...      ...      ...      ...   \n",
      "\n",
      "    profil  project  proud  provid  psycholog  public  pull  purpos  push  \\\n",
      "0        0        0      1       0          0       1     0       0     0   \n",
      "..     ...      ...    ...     ...        ...     ...   ...     ...   ...   \n",
      "\n",
      "    put  qualiti  question  quickli  quiet  quit  quot  rais  random  rare  \\\n",
      "0     0        0         0        1      0     0     0     0       0     0   \n",
      "..  ...      ...       ...      ...    ...   ...   ...   ...     ...   ...   \n",
      "\n",
      "    rather  ration  reach  reaction  read  real  real life  realiti  realiz  \\\n",
      "0        0       0      0         0     0     0          0        0       0   \n",
      "..     ...     ...    ...       ...   ...   ...        ...      ...     ...   \n",
      "\n",
      "    realli  realli like  reason  recent  recommend  red  refer  regard  relat  \\\n",
      "0        1            0       1       0          0    0      0       0      0   \n",
      "..     ...          ...     ...     ...        ...  ...    ...     ...    ...   \n",
      "\n",
      "    relationship  religion  rememb  remind  repli  requir  research  respect  \\\n",
      "0              1         0       0       0      0       1         0        0   \n",
      "..           ...       ...     ...     ...    ...     ...       ...      ...   \n",
      "\n",
      "    respond  respons  rest  result  right  rock  romant  room  rule  run  sad  \\\n",
      "0         0        0     1       0      1     0       0     1     0    0    1   \n",
      "..      ...      ...   ...     ...    ...   ...     ...   ...   ...  ...  ...   \n",
      "\n",
      "    said  save  saw  say  say im  scare  school  scienc  score  se  search  \\\n",
      "0      0     0    0    0       0      0       1       0      0   0       0   \n",
      "..   ...   ...  ...  ...     ...    ...     ...     ...    ...  ..     ...   \n",
      "\n",
      "    second  see  seek  seem  seem like  seen  self  sens  sensit  sensor  \\\n",
      "0        0    1     0     0          0     0     0     0       0       0   \n",
      "..     ...  ...   ...   ...        ...   ...   ...   ...     ...     ...   \n",
      "\n",
      "    sent  seri  seriou  serious  set  sever  sex  sexual  share  shi  shit  \\\n",
      "0      0     0       0        0    1      0    0       0      1    0     0   \n",
      "..   ...   ...     ...      ...  ...    ...  ...     ...    ...  ...   ...   \n",
      "\n",
      "    shock  short  shouldnt  show  si  side  sign  silli  similar  simpl  \\\n",
      "0       0      0         0     0   0     0     0      0        0      0   \n",
      "..    ...    ...       ...   ...  ..   ...   ...    ...      ...    ...   \n",
      "\n",
      "    simpli  sinc  singl  sister  sit  site  situat  skill  sleep  slightli  \\\n",
      "0        0     0      0       0    1     0       0      0      0         0   \n",
      "..     ...   ...    ...     ...  ...   ...     ...    ...    ...       ...   \n",
      "\n",
      "    small  smart  smile  smoke  social  societi  somebodi  somehow  someon  \\\n",
      "0       0      0      0      0       1        1         0        0       1   \n",
      "..    ...    ...    ...    ...     ...      ...       ...      ...     ...   \n",
      "\n",
      "    someon els  someth  someth like  sometim  somewhat  somewher  song  soon  \\\n",
      "0            0       2            1        0         1         0     0     0   \n",
      "..         ...     ...          ...      ...       ...       ...   ...   ...   \n",
      "\n",
      "    sorri  sort  soul  sound  sound like  space  speak  special  specif  \\\n",
      "0       1     1     0      0           0      0      1        0       0   \n",
      "..    ...   ...   ...    ...         ...    ...    ...      ...     ...   \n",
      "\n",
      "    spend  spent  sport  spot  stand  start  state  statement  stay  step  \\\n",
      "0       0      0      0     0      0      1      0          0     0     0   \n",
      "..    ...    ...    ...   ...    ...    ...    ...        ...   ...   ...   \n",
      "\n",
      "    stereotyp  stick  still  stop  stori  straight  strang  stranger  stress  \\\n",
      "0           0      0      0     0      0         0       0         0       0   \n",
      "..        ...    ...    ...   ...    ...       ...     ...       ...     ...   \n",
      "\n",
      "    strong  struggl  stuck  student  studi  stuff  stupid  style  subject  \\\n",
      "0        0        0      0        0      0      1       0      0        1   \n",
      "..     ...      ...    ...      ...    ...    ...     ...    ...      ...   \n",
      "\n",
      "    success  suck  suggest  super  support  suppos  sure  surpris  sweet  \\\n",
      "0         0     0        0      0        0       0     0        0      0   \n",
      "..      ...   ...      ...    ...      ...     ...   ...      ...    ...   \n",
      "\n",
      "    system  take  taken  talk  tapatalk  tast  te  teach  teacher  tell  tend  \\\n",
      "0        0     1      0     0         0     0   0      0        0     0     0   \n",
      "..     ...   ...    ...   ...       ...   ...  ..    ...      ...   ...   ...   \n",
      "\n",
      "    tendenc  term  terribl  test  text  th  thank  theori  theyr  thing  \\\n",
      "0         0     0        0     0     0   0      0       0      0      3   \n",
      "..      ...   ...      ...   ...   ...  ..    ...     ...    ...    ...   \n",
      "\n",
      "    thing like  think  think im  think would  though  thought  thread  three  \\\n",
      "0            0      1         0            0       0        1       1      1   \n",
      "..         ...    ...       ...          ...     ...      ...     ...    ...   \n",
      "\n",
      "    throw  ti  time  tire  titl  today  togeth  told  tongu  took  top  topic  \\\n",
      "0       0   0     6     0     0      2       0     0      0     0    1      0   \n",
      "..    ...  ..   ...   ...   ...    ...     ...   ...    ...   ...  ...    ...   \n",
      "\n",
      "    total  touch  toward  train  trait  travel  treat  tri  troubl  true  \\\n",
      "0       0      0       0      0      0       0      0    2       0     0   \n",
      "..    ...    ...     ...    ...    ...     ...    ...  ...     ...   ...   \n",
      "\n",
      "    truli  trust  truth  turn  tv  two  type  typic  understand  unfortun  \\\n",
      "0       0      0      0     0   0    2     3      0           0         0   \n",
      "..    ...    ...    ...   ...  ..  ...   ...    ...         ...       ...   \n",
      "\n",
      "    unhealthi  univers  unless  unsur  upon  upset  url  url url  us  use  \\\n",
      "0           0        0       0      0     0      0   24        8   0    2   \n",
      "..        ...      ...     ...    ...   ...    ...  ...      ...  ..  ...   \n",
      "\n",
      "    use tapatalk  user  usual  valu  version  video  view  voic  vote  vs  \\\n",
      "0              0     0      0     0        0      3     0     0     0   0   \n",
      "..           ...   ...    ...   ...      ...    ...   ...   ...   ...  ..   \n",
      "\n",
      "    wait  walk  wall  wanna  want  warm  wasnt  wast  watch  water  way  weak  \\\n",
      "0      1     0     1      0     1     0      0     0      1      0    1     0   \n",
      "..   ...   ...   ...    ...   ...   ...    ...   ...    ...    ...  ...   ...   \n",
      "\n",
      "    wear  week  weird  welcom  well  went  whatev  whenev  whether  white  \\\n",
      "0      0     0      0       2     0     0       0       0        0      0   \n",
      "..   ...   ...    ...     ...   ...   ...     ...     ...      ...    ...   \n",
      "\n",
      "    whole  win  wink  wish  within  without  woman  women  wonder  wont  word  \\\n",
      "0       1    0     0     0       1        0      0      0       0     0     0   \n",
      "..    ...  ...   ...   ...     ...      ...    ...    ...     ...   ...   ...   \n",
      "\n",
      "    work  world  worri  wors  worst  worth  would  would like  would say  \\\n",
      "0      0      2      1     0      0      0      1           1          0   \n",
      "..   ...    ...    ...   ...    ...    ...    ...         ...        ...   \n",
      "\n",
      "    wouldnt  wow  write  written  wrong  wrote  xd  ye  yeah  year  year ago  \\\n",
      "0         0    0      0        0      0      0   0   0     0     1         1   \n",
      "..      ...  ...    ...      ...    ...    ...  ..  ..   ...   ...       ...   \n",
      "\n",
      "    year old  yep  yesterday  yet  youd  youll  young  younger  youtub  youv  \n",
      "0          0    1          0    0     0      0      0        0       0     1  \n",
      "..       ...  ...        ...  ...   ...    ...    ...      ...     ...   ...  \n",
      "\n",
      "[8675 rows x 1000 columns]\n"
     ]
    }
   ],
   "source": [
    "# View the tokens created\n",
    "with pd.option_context('display.max_rows', 1, 'display.max_columns', None):\n",
    "    print(df_posts)"
   ]
  },
  {
   "cell_type": "markdown",
   "metadata": {},
   "source": [
    "It is confirmed that the web links have been converted to the term 'url', and the 16 personality types are excluded \n",
    "as tokens (to avoid biasing the model)."
   ]
  },
  {
   "cell_type": "markdown",
   "metadata": {},
   "source": [
    "---"
   ]
  },
  {
   "cell_type": "markdown",
   "metadata": {},
   "source": [
    "<a id='classification'></a>\n",
    "## Classification"
   ]
  },
  {
   "cell_type": "markdown",
   "metadata": {},
   "source": [
    "##### Baseline calculation"
   ]
  },
  {
   "cell_type": "code",
   "execution_count": 33,
   "metadata": {},
   "outputs": [
    {
     "data": {
      "text/plain": [
       "0.21118155619596543"
      ]
     },
     "execution_count": 33,
     "metadata": {},
     "output_type": "execute_result"
    }
   ],
   "source": [
    "# Determine baseline\n",
    "baseline = df['type'].value_counts().max() / df['type'].value_counts().sum()\n",
    "baseline"
   ]
  },
  {
   "cell_type": "markdown",
   "metadata": {},
   "source": [
    "The baseline is 0.211 (INFP is the largest class with 1832 of the 8675 cases)."
   ]
  },
  {
   "cell_type": "markdown",
   "metadata": {},
   "source": [
    "##### Train-test split"
   ]
  },
  {
   "cell_type": "code",
   "execution_count": 60,
   "metadata": {},
   "outputs": [
    {
     "name": "stdout",
     "output_type": "stream",
     "text": [
      "X_train  (6072,) \n",
      " X_test  (2603,) \n",
      " y_train  (6072,) \n",
      " y_test (2603,)\n"
     ]
    }
   ],
   "source": [
    "# Train-test split, using type variable as target and posts variable as predictor\n",
    "X_train, X_test, y_train, y_test = train_test_split(df['posts'].values,\n",
    "                                                   df['type'].values,\n",
    "                                                   test_size=0.30, random_state=42)\n",
    "print('X_train ', X_train.shape, '\\n', 'X_test ', X_test.shape, '\\n', 'y_train ', y_train.shape, '\\n', \n",
    "      'y_test', y_test.shape)"
   ]
  },
  {
   "cell_type": "markdown",
   "metadata": {},
   "source": [
    "There are 6072 cases in the training set, and 2603 cases in the testing set."
   ]
  },
  {
   "cell_type": "code",
   "execution_count": 38,
   "metadata": {
    "collapsed": true
   },
   "outputs": [],
   "source": [
    "# Run CountVectorizer on the X train/test ('posts' column) using the arguments identified earlier\n",
    "cv = CountVectorizer(preprocessor=cleaner, stop_words=stop_rev, ngram_range=(1,2), max_features=1000)\n",
    "cv.fit(X_train)\n",
    "X_train_cv = cv.transform(X_train)"
   ]
  },
  {
   "cell_type": "markdown",
   "metadata": {},
   "source": [
    "##### Truncated SVD\n",
    "\n",
    "*TruncatedSVD* is a variant of principal component analysis (pca) used on sparse matrices to reduce dimensionality"
   ]
  },
  {
   "cell_type": "code",
   "execution_count": 40,
   "metadata": {
    "scrolled": false
   },
   "outputs": [
    {
     "data": {
      "image/png": "[encoded data removed]",
      "text/plain": [
       "<matplotlib.figure.Figure at 0x1a2bd367f0>"
      ]
     },
     "metadata": {},
     "output_type": "display_data"
    }
   ],
   "source": [
    "# Run Truncated SVD\n",
    "# First use max components and graph the explained variance ratio to find cutoff point \n",
    "tsvd = TruncatedSVD(n_components=999)\n",
    "tsvd.fit(X_train_cv)\n",
    "plt.plot(range(999), tsvd.explained_variance_ratio_.cumsum())\n",
    "plt.title(\"Truncated SVD - Optimal # of components\", fontsize=16)\n",
    "plt.xlabel(\"# of components\")\n",
    "plt.ylabel(\"Explained variance ratio\");"
   ]
  },
  {
   "cell_type": "markdown",
   "metadata": {},
   "source": [
    "The graph above suggests that approximately 175 components would be most effective, since it is where the graph begins to flatten out."
   ]
  },
  {
   "cell_type": "code",
   "execution_count": 41,
   "metadata": {
    "collapsed": true
   },
   "outputs": [],
   "source": [
    "# Run a Truncated SVD with 175 components\n",
    "tsvd = TruncatedSVD(n_components=175)\n",
    "tsvd.fit(X_train_cv)\n",
    "X_train_tsvd = tsvd.transform(X_train_cv)\n",
    "\n",
    "X_test_cv = cv.transform(X_test)\n",
    "X_test_tsvd = tsvd.transform(X_test_cv)"
   ]
  },
  {
   "cell_type": "markdown",
   "metadata": {},
   "source": [
    "**Preprocessing Pipeline**"
   ]
  },
  {
   "cell_type": "code",
   "execution_count": 61,
   "metadata": {
    "collapsed": true
   },
   "outputs": [],
   "source": [
    "# Pipeline for the data preprocessing steps (CountVectorizer, TruncatedSVD) on the X data\n",
    "pipeline_preprocessing = make_pipeline(\n",
    "    CountVectorizer(preprocessor=cleaner, stop_words=stop_rev, ngram_range=(1,2), max_features=1000),\n",
    "    TruncatedSVD(n_components=175))\n",
    "\n",
    "X_train_tsvd = pipeline_preprocessing.fit_transform(X_train)\n",
    "X_test_tsvd = pipeline_preprocessing.transform(X_test)"
   ]
  },
  {
   "cell_type": "markdown",
   "metadata": {},
   "source": [
    "**A brief guide to interpreting the Classification Report:**\n",
    "- Precision = True Positives / (True Positives + False Positives)\n",
    "    - A precision score of 1 indicates that the classifier never mistakenly added observations from another class. A precision score of 0 would mean that the classifier misclassified every instance of the current class.\n",
    "- Recall = True Positives / (True Positives + False Negatives)\n",
    "    - A recall score of 1 indicates that the classifier correctly predicted (found) all observations of the current class (by implication, no false negatives, or misclassifications of the current class). A recall score of 0 alternatively means that the classifier missed all observations of the current class.\n",
    "- F1-Score = 2 x (Precision x Recall) / (Precision + Recall)\n",
    "    - The f1-score's best value is 1 and worst value is 0, like the precision and recall scores. It is a useful metric for taking into account both measures at once.\n",
    "- Support is simply the number of observations of the labelled class."
   ]
  },
  {
   "cell_type": "markdown",
   "metadata": {},
   "source": [
    "<a id='modeling'></a>\n",
    "### Modeling"
   ]
  },
  {
   "cell_type": "markdown",
   "metadata": {},
   "source": [
    "<a id='random-forest-classifier'></a>\n",
    "#### Model: Random Forest Classifier\n",
    "\n",
    "*RandomForestClassifier* is a meta estimator that fits a number of decision tree classifiers on various sub-samples of the dataset and use averaging to improve the predictive accuracy and control over-fitting."
   ]
  },
  {
   "cell_type": "code",
   "execution_count": 54,
   "metadata": {
    "collapsed": true
   },
   "outputs": [
    {
     "name": "stdout",
     "output_type": "stream",
     "text": [
      "TRAINING SET\n",
      "Accuracy:  0.413372859025\n",
      "Confusion Matrix:\n",
      "[[   0    0    0    0    0    0    0    0   26   97    4    7    0    0\n",
      "     0    0]\n",
      " [   0    0    0    0    0    0    0    0   68  363    8   40    0    0\n",
      "     0    0]\n",
      " [   0    0    0    0    0    0    0    0   26   72   21   54    0    0\n",
      "     0    0]\n",
      " [   0    0    0    5    0    0    0    0   54  231   36  158    0    0\n",
      "     0    0]\n",
      " [   0    0    0    0    0    0    0    0    7   21    1    3    0    0\n",
      "     0    0]\n",
      " [   0    0    0    0    0    0    0    0    3   21    2   13    0    0\n",
      "     0    0]\n",
      " [   0    0    0    0    0    0    0    0    4   12    1    5    0    0\n",
      "     0    0]\n",
      " [   0    0    0    0    0    0    0    0   10   32    4   18    0    0\n",
      "     0    0]\n",
      " [   0    0    0    0    0    0    0    0  513  441   13   69    0    0\n",
      "     0    0]\n",
      " [   0    0    0    0    0    0    0    0   20 1195   14   37    0    0\n",
      "     0    0]\n",
      " [   0    0    0    0    0    0    0    0   92  295  266  127    0    0\n",
      "     0    0]\n",
      " [   0    0    0    0    0    0    0    0   50  305   14  531    0    0\n",
      "     0    0]\n",
      " [   0    0    0    0    0    0    0    0   14   78    3   10    0    0\n",
      "     0    0]\n",
      " [   0    0    0    0    0    0    0    0   23  139    1   24    0    0\n",
      "     0    0]\n",
      " [   0    0    0    0    0    0    0    0   18   85    7   25    0    0\n",
      "     0    0]\n",
      " [   0    0    0    0    0    0    0    0   32  116   23   65    0    0\n",
      "     0    0]]\n",
      "Classification Report:\n",
      "             precision    recall  f1-score   support\n",
      "\n",
      "       ENFJ       0.00      0.00      0.00       134\n",
      "       ENFP       0.00      0.00      0.00       479\n",
      "       ENTJ       0.00      0.00      0.00       173\n",
      "       ENTP       1.00      0.01      0.02       484\n",
      "       ESFJ       0.00      0.00      0.00        32\n",
      "       ESFP       0.00      0.00      0.00        39\n",
      "       ESTJ       0.00      0.00      0.00        22\n",
      "       ESTP       0.00      0.00      0.00        64\n",
      "       INFJ       0.53      0.50      0.51      1036\n",
      "       INFP       0.34      0.94      0.50      1266\n",
      "       INTJ       0.64      0.34      0.44       780\n",
      "       INTP       0.45      0.59      0.51       900\n",
      "       ISFJ       0.00      0.00      0.00       105\n",
      "       ISFP       0.00      0.00      0.00       187\n",
      "       ISTJ       0.00      0.00      0.00       135\n",
      "       ISTP       0.00      0.00      0.00       236\n",
      "\n",
      "avg / total       0.39      0.41      0.33      6072\n",
      "\n",
      "\n",
      "TEST SET\n"
     ]
    },
    {
     "name": "stderr",
     "output_type": "stream",
     "text": [
      "/Users/mariayarolin/anaconda3/lib/python3.6/site-packages/sklearn/metrics/classification.py:1135: UndefinedMetricWarning: Precision and F-score are ill-defined and being set to 0.0 in labels with no predicted samples.\n",
      "  'precision', 'predicted', average, warn_for)\n"
     ]
    },
    {
     "name": "stdout",
     "output_type": "stream",
     "text": [
      "Accuracy:  0.269688820592\n",
      "Confusion Matrix:\n",
      "[[  0   0   0   0   0   0   0   0   8  41   3   4   0   0   0   0]\n",
      " [  0   0   0   0   0   0   0   0  27 149   9  11   0   0   0   0]\n",
      " [  0   0   0   0   0   0   0   0   7  27   4  20   0   0   0   0]\n",
      " [  0   0   0   0   0   0   0   0  30  99  17  55   0   0   0   0]\n",
      " [  0   0   0   0   0   0   0   0   3   7   0   0   0   0   0   0]\n",
      " [  0   0   0   0   0   0   0   0   2   5   0   2   0   0   0   0]\n",
      " [  0   0   0   0   0   0   0   0   2   9   3   3   0   0   0   0]\n",
      " [  0   0   0   0   0   0   0   0   3  13   1   8   0   0   0   0]\n",
      " [  0   0   0   0   0   0   0   0  71 308  12  43   0   0   0   0]\n",
      " [  0   0   0   0   0   0   0   0  53 457  11  45   0   0   0   0]\n",
      " [  0   0   0   0   0   0   0   0  51 147  32  81   0   0   0   0]\n",
      " [  0   0   0   0   0   0   0   0  47 192  23 142   0   0   0   0]\n",
      " [  0   0   0   0   0   0   0   0  11  39   5   6   0   0   0   0]\n",
      " [  0   0   0   0   0   0   0   0  10  67   2   5   0   0   0   0]\n",
      " [  0   0   0   0   0   0   0   0  10  27   8  25   0   0   0   0]\n",
      " [  0   0   0   0   0   0   0   0  15  50   5  31   0   0   0   0]]\n",
      "Classification Report:\n",
      "             precision    recall  f1-score   support\n",
      "\n",
      "       ENFJ       0.00      0.00      0.00        56\n",
      "       ENFP       0.00      0.00      0.00       196\n",
      "       ENTJ       0.00      0.00      0.00        58\n",
      "       ENTP       0.00      0.00      0.00       201\n",
      "       ESFJ       0.00      0.00      0.00        10\n",
      "       ESFP       0.00      0.00      0.00         9\n",
      "       ESTJ       0.00      0.00      0.00        17\n",
      "       ESTP       0.00      0.00      0.00        25\n",
      "       INFJ       0.20      0.16      0.18       434\n",
      "       INFP       0.28      0.81      0.41       566\n",
      "       INTJ       0.24      0.10      0.14       311\n",
      "       INTP       0.30      0.35      0.32       404\n",
      "       ISFJ       0.00      0.00      0.00        61\n",
      "       ISFP       0.00      0.00      0.00        84\n",
      "       ISTJ       0.00      0.00      0.00        70\n",
      "       ISTP       0.00      0.00      0.00       101\n",
      "\n",
      "avg / total       0.17      0.27      0.19      2603\n",
      "\n"
     ]
    }
   ],
   "source": [
    "# Fit and score a Random Forest Classifier\n",
    "# Parameters: 30 estimators, min 50 samples per leaf node, out-of-bag samples to estimate generalization accuracy\n",
    "rfc = RandomForestClassifier(n_estimators=30, min_samples_leaf=50, oob_score=True, n_jobs= -1, random_state=123)\n",
    "rfc.fit(X_train_tsvd, y_train)\n",
    "print(\"TRAINING SET\")\n",
    "print(\"Accuracy: \", rfc.score(X_train_tsvd, y_train))\n",
    "print(\"Confusion Matrix:\")\n",
    "print(confusion_matrix(y_train, rfc.predict(X_train_tsvd)))\n",
    "print(\"Classification Report:\")\n",
    "print(classification_report(y_train, rfc.predict(X_train_tsvd)))\n",
    "print(\"\")\n",
    "\n",
    "print(\"TEST SET\")\n",
    "print(\"Accuracy: \", rfc.score(X_test_tsvd, y_test))\n",
    "print(\"Confusion Matrix:\")\n",
    "print(confusion_matrix(y_test, rfc.predict(X_test_tsvd)))\n",
    "print(\"Classification Report:\")\n",
    "print(classification_report(y_test, rfc.predict(X_test_tsvd)))"
   ]
  },
  {
   "cell_type": "markdown",
   "metadata": {},
   "source": [
    "With the default arguments in the Random Forest Classifier model, the Accuracy on the training set was 0.993 and the testing set was 0.194, compared to the baseline of 0.211. The high accuracy of the training data but low accuracy of predictions on the test set suggests the model was overfit.\n",
    "\n",
    "Using n_estimators=30, min_samples_leaf=50, oob_score=True, n_jobs= -1 gives a training Accuracy of 0.413 and \n",
    "testing Accuracy of 0.270. This is a more realistic score for the training set (suggesting the model is not overfit)\n",
    "and an improved score on predicting the testing set. However, each of the predictions falls within a limited \n",
    "subset of only four of the sixteen classes."
   ]
  },
  {
   "cell_type": "code",
   "execution_count": 55,
   "metadata": {
    "collapsed": true
   },
   "outputs": [
    {
     "data": {
      "text/html": [
       "<div>\n",
       "<style>\n",
       "    .dataframe thead tr:only-child th {\n",
       "        text-align: right;\n",
       "    }\n",
       "\n",
       "    .dataframe thead th {\n",
       "        text-align: left;\n",
       "    }\n",
       "\n",
       "    .dataframe tbody tr th {\n",
       "        vertical-align: top;\n",
       "    }\n",
       "</style>\n",
       "<table border=\"1\" class=\"dataframe\">\n",
       "  <thead>\n",
       "    <tr style=\"text-align: right;\">\n",
       "      <th></th>\n",
       "      <th>predict_ENFJ</th>\n",
       "      <th>predict_ENFP</th>\n",
       "      <th>predict_ENTJ</th>\n",
       "      <th>predict_ENTP</th>\n",
       "      <th>predict_ESFJ</th>\n",
       "      <th>predict_ESFP</th>\n",
       "      <th>predict_ESTJ</th>\n",
       "      <th>predict_ESTP</th>\n",
       "      <th>predict_INFJ</th>\n",
       "      <th>predict_INFP</th>\n",
       "      <th>predict_INTJ</th>\n",
       "      <th>predict_INTP</th>\n",
       "      <th>predict_ISFJ</th>\n",
       "      <th>predict_ISFP</th>\n",
       "      <th>predict_ISTJ</th>\n",
       "      <th>predict_ISTP</th>\n",
       "    </tr>\n",
       "  </thead>\n",
       "  <tbody>\n",
       "    <tr>\n",
       "      <th>ENFJ</th>\n",
       "      <td>0</td>\n",
       "      <td>0</td>\n",
       "      <td>0</td>\n",
       "      <td>0</td>\n",
       "      <td>0</td>\n",
       "      <td>0</td>\n",
       "      <td>0</td>\n",
       "      <td>0</td>\n",
       "      <td>8</td>\n",
       "      <td>41</td>\n",
       "      <td>3</td>\n",
       "      <td>4</td>\n",
       "      <td>0</td>\n",
       "      <td>0</td>\n",
       "      <td>0</td>\n",
       "      <td>0</td>\n",
       "    </tr>\n",
       "    <tr>\n",
       "      <th>ENFP</th>\n",
       "      <td>0</td>\n",
       "      <td>0</td>\n",
       "      <td>0</td>\n",
       "      <td>0</td>\n",
       "      <td>0</td>\n",
       "      <td>0</td>\n",
       "      <td>0</td>\n",
       "      <td>0</td>\n",
       "      <td>27</td>\n",
       "      <td>149</td>\n",
       "      <td>9</td>\n",
       "      <td>11</td>\n",
       "      <td>0</td>\n",
       "      <td>0</td>\n",
       "      <td>0</td>\n",
       "      <td>0</td>\n",
       "    </tr>\n",
       "    <tr>\n",
       "      <th>ENTJ</th>\n",
       "      <td>0</td>\n",
       "      <td>0</td>\n",
       "      <td>0</td>\n",
       "      <td>0</td>\n",
       "      <td>0</td>\n",
       "      <td>0</td>\n",
       "      <td>0</td>\n",
       "      <td>0</td>\n",
       "      <td>7</td>\n",
       "      <td>27</td>\n",
       "      <td>4</td>\n",
       "      <td>20</td>\n",
       "      <td>0</td>\n",
       "      <td>0</td>\n",
       "      <td>0</td>\n",
       "      <td>0</td>\n",
       "    </tr>\n",
       "    <tr>\n",
       "      <th>ENTP</th>\n",
       "      <td>0</td>\n",
       "      <td>0</td>\n",
       "      <td>0</td>\n",
       "      <td>0</td>\n",
       "      <td>0</td>\n",
       "      <td>0</td>\n",
       "      <td>0</td>\n",
       "      <td>0</td>\n",
       "      <td>30</td>\n",
       "      <td>99</td>\n",
       "      <td>17</td>\n",
       "      <td>55</td>\n",
       "      <td>0</td>\n",
       "      <td>0</td>\n",
       "      <td>0</td>\n",
       "      <td>0</td>\n",
       "    </tr>\n",
       "    <tr>\n",
       "      <th>ESFJ</th>\n",
       "      <td>0</td>\n",
       "      <td>0</td>\n",
       "      <td>0</td>\n",
       "      <td>0</td>\n",
       "      <td>0</td>\n",
       "      <td>0</td>\n",
       "      <td>0</td>\n",
       "      <td>0</td>\n",
       "      <td>3</td>\n",
       "      <td>7</td>\n",
       "      <td>0</td>\n",
       "      <td>0</td>\n",
       "      <td>0</td>\n",
       "      <td>0</td>\n",
       "      <td>0</td>\n",
       "      <td>0</td>\n",
       "    </tr>\n",
       "    <tr>\n",
       "      <th>ESFP</th>\n",
       "      <td>0</td>\n",
       "      <td>0</td>\n",
       "      <td>0</td>\n",
       "      <td>0</td>\n",
       "      <td>0</td>\n",
       "      <td>0</td>\n",
       "      <td>0</td>\n",
       "      <td>0</td>\n",
       "      <td>2</td>\n",
       "      <td>5</td>\n",
       "      <td>0</td>\n",
       "      <td>2</td>\n",
       "      <td>0</td>\n",
       "      <td>0</td>\n",
       "      <td>0</td>\n",
       "      <td>0</td>\n",
       "    </tr>\n",
       "    <tr>\n",
       "      <th>ESTJ</th>\n",
       "      <td>0</td>\n",
       "      <td>0</td>\n",
       "      <td>0</td>\n",
       "      <td>0</td>\n",
       "      <td>0</td>\n",
       "      <td>0</td>\n",
       "      <td>0</td>\n",
       "      <td>0</td>\n",
       "      <td>2</td>\n",
       "      <td>9</td>\n",
       "      <td>3</td>\n",
       "      <td>3</td>\n",
       "      <td>0</td>\n",
       "      <td>0</td>\n",
       "      <td>0</td>\n",
       "      <td>0</td>\n",
       "    </tr>\n",
       "    <tr>\n",
       "      <th>ESTP</th>\n",
       "      <td>0</td>\n",
       "      <td>0</td>\n",
       "      <td>0</td>\n",
       "      <td>0</td>\n",
       "      <td>0</td>\n",
       "      <td>0</td>\n",
       "      <td>0</td>\n",
       "      <td>0</td>\n",
       "      <td>3</td>\n",
       "      <td>13</td>\n",
       "      <td>1</td>\n",
       "      <td>8</td>\n",
       "      <td>0</td>\n",
       "      <td>0</td>\n",
       "      <td>0</td>\n",
       "      <td>0</td>\n",
       "    </tr>\n",
       "    <tr>\n",
       "      <th>INFJ</th>\n",
       "      <td>0</td>\n",
       "      <td>0</td>\n",
       "      <td>0</td>\n",
       "      <td>0</td>\n",
       "      <td>0</td>\n",
       "      <td>0</td>\n",
       "      <td>0</td>\n",
       "      <td>0</td>\n",
       "      <td>71</td>\n",
       "      <td>308</td>\n",
       "      <td>12</td>\n",
       "      <td>43</td>\n",
       "      <td>0</td>\n",
       "      <td>0</td>\n",
       "      <td>0</td>\n",
       "      <td>0</td>\n",
       "    </tr>\n",
       "    <tr>\n",
       "      <th>INFP</th>\n",
       "      <td>0</td>\n",
       "      <td>0</td>\n",
       "      <td>0</td>\n",
       "      <td>0</td>\n",
       "      <td>0</td>\n",
       "      <td>0</td>\n",
       "      <td>0</td>\n",
       "      <td>0</td>\n",
       "      <td>53</td>\n",
       "      <td>457</td>\n",
       "      <td>11</td>\n",
       "      <td>45</td>\n",
       "      <td>0</td>\n",
       "      <td>0</td>\n",
       "      <td>0</td>\n",
       "      <td>0</td>\n",
       "    </tr>\n",
       "    <tr>\n",
       "      <th>INTJ</th>\n",
       "      <td>0</td>\n",
       "      <td>0</td>\n",
       "      <td>0</td>\n",
       "      <td>0</td>\n",
       "      <td>0</td>\n",
       "      <td>0</td>\n",
       "      <td>0</td>\n",
       "      <td>0</td>\n",
       "      <td>51</td>\n",
       "      <td>147</td>\n",
       "      <td>32</td>\n",
       "      <td>81</td>\n",
       "      <td>0</td>\n",
       "      <td>0</td>\n",
       "      <td>0</td>\n",
       "      <td>0</td>\n",
       "    </tr>\n",
       "    <tr>\n",
       "      <th>INTP</th>\n",
       "      <td>0</td>\n",
       "      <td>0</td>\n",
       "      <td>0</td>\n",
       "      <td>0</td>\n",
       "      <td>0</td>\n",
       "      <td>0</td>\n",
       "      <td>0</td>\n",
       "      <td>0</td>\n",
       "      <td>47</td>\n",
       "      <td>192</td>\n",
       "      <td>23</td>\n",
       "      <td>142</td>\n",
       "      <td>0</td>\n",
       "      <td>0</td>\n",
       "      <td>0</td>\n",
       "      <td>0</td>\n",
       "    </tr>\n",
       "    <tr>\n",
       "      <th>ISFJ</th>\n",
       "      <td>0</td>\n",
       "      <td>0</td>\n",
       "      <td>0</td>\n",
       "      <td>0</td>\n",
       "      <td>0</td>\n",
       "      <td>0</td>\n",
       "      <td>0</td>\n",
       "      <td>0</td>\n",
       "      <td>11</td>\n",
       "      <td>39</td>\n",
       "      <td>5</td>\n",
       "      <td>6</td>\n",
       "      <td>0</td>\n",
       "      <td>0</td>\n",
       "      <td>0</td>\n",
       "      <td>0</td>\n",
       "    </tr>\n",
       "    <tr>\n",
       "      <th>ISFP</th>\n",
       "      <td>0</td>\n",
       "      <td>0</td>\n",
       "      <td>0</td>\n",
       "      <td>0</td>\n",
       "      <td>0</td>\n",
       "      <td>0</td>\n",
       "      <td>0</td>\n",
       "      <td>0</td>\n",
       "      <td>10</td>\n",
       "      <td>67</td>\n",
       "      <td>2</td>\n",
       "      <td>5</td>\n",
       "      <td>0</td>\n",
       "      <td>0</td>\n",
       "      <td>0</td>\n",
       "      <td>0</td>\n",
       "    </tr>\n",
       "    <tr>\n",
       "      <th>ISTJ</th>\n",
       "      <td>0</td>\n",
       "      <td>0</td>\n",
       "      <td>0</td>\n",
       "      <td>0</td>\n",
       "      <td>0</td>\n",
       "      <td>0</td>\n",
       "      <td>0</td>\n",
       "      <td>0</td>\n",
       "      <td>10</td>\n",
       "      <td>27</td>\n",
       "      <td>8</td>\n",
       "      <td>25</td>\n",
       "      <td>0</td>\n",
       "      <td>0</td>\n",
       "      <td>0</td>\n",
       "      <td>0</td>\n",
       "    </tr>\n",
       "    <tr>\n",
       "      <th>ISTP</th>\n",
       "      <td>0</td>\n",
       "      <td>0</td>\n",
       "      <td>0</td>\n",
       "      <td>0</td>\n",
       "      <td>0</td>\n",
       "      <td>0</td>\n",
       "      <td>0</td>\n",
       "      <td>0</td>\n",
       "      <td>15</td>\n",
       "      <td>50</td>\n",
       "      <td>5</td>\n",
       "      <td>31</td>\n",
       "      <td>0</td>\n",
       "      <td>0</td>\n",
       "      <td>0</td>\n",
       "      <td>0</td>\n",
       "    </tr>\n",
       "  </tbody>\n",
       "</table>\n",
       "</div>"
      ],
      "text/plain": [
       "      predict_ENFJ  predict_ENFP  predict_ENTJ  predict_ENTP  predict_ESFJ  \\\n",
       "ENFJ             0             0             0             0             0   \n",
       "ENFP             0             0             0             0             0   \n",
       "ENTJ             0             0             0             0             0   \n",
       "ENTP             0             0             0             0             0   \n",
       "ESFJ             0             0             0             0             0   \n",
       "ESFP             0             0             0             0             0   \n",
       "ESTJ             0             0             0             0             0   \n",
       "ESTP             0             0             0             0             0   \n",
       "INFJ             0             0             0             0             0   \n",
       "INFP             0             0             0             0             0   \n",
       "INTJ             0             0             0             0             0   \n",
       "INTP             0             0             0             0             0   \n",
       "ISFJ             0             0             0             0             0   \n",
       "ISFP             0             0             0             0             0   \n",
       "ISTJ             0             0             0             0             0   \n",
       "ISTP             0             0             0             0             0   \n",
       "\n",
       "      predict_ESFP  predict_ESTJ  predict_ESTP  predict_INFJ  predict_INFP  \\\n",
       "ENFJ             0             0             0             8            41   \n",
       "ENFP             0             0             0            27           149   \n",
       "ENTJ             0             0             0             7            27   \n",
       "ENTP             0             0             0            30            99   \n",
       "ESFJ             0             0             0             3             7   \n",
       "ESFP             0             0             0             2             5   \n",
       "ESTJ             0             0             0             2             9   \n",
       "ESTP             0             0             0             3            13   \n",
       "INFJ             0             0             0            71           308   \n",
       "INFP             0             0             0            53           457   \n",
       "INTJ             0             0             0            51           147   \n",
       "INTP             0             0             0            47           192   \n",
       "ISFJ             0             0             0            11            39   \n",
       "ISFP             0             0             0            10            67   \n",
       "ISTJ             0             0             0            10            27   \n",
       "ISTP             0             0             0            15            50   \n",
       "\n",
       "      predict_INTJ  predict_INTP  predict_ISFJ  predict_ISFP  predict_ISTJ  \\\n",
       "ENFJ             3             4             0             0             0   \n",
       "ENFP             9            11             0             0             0   \n",
       "ENTJ             4            20             0             0             0   \n",
       "ENTP            17            55             0             0             0   \n",
       "ESFJ             0             0             0             0             0   \n",
       "ESFP             0             2             0             0             0   \n",
       "ESTJ             3             3             0             0             0   \n",
       "ESTP             1             8             0             0             0   \n",
       "INFJ            12            43             0             0             0   \n",
       "INFP            11            45             0             0             0   \n",
       "INTJ            32            81             0             0             0   \n",
       "INTP            23           142             0             0             0   \n",
       "ISFJ             5             6             0             0             0   \n",
       "ISFP             2             5             0             0             0   \n",
       "ISTJ             8            25             0             0             0   \n",
       "ISTP             5            31             0             0             0   \n",
       "\n",
       "      predict_ISTP  \n",
       "ENFJ             0  \n",
       "ENFP             0  \n",
       "ENTJ             0  \n",
       "ENTP             0  \n",
       "ESFJ             0  \n",
       "ESFP             0  \n",
       "ESTJ             0  \n",
       "ESTP             0  \n",
       "INFJ             0  \n",
       "INFP             0  \n",
       "INTJ             0  \n",
       "INTP             0  \n",
       "ISFJ             0  \n",
       "ISFP             0  \n",
       "ISTJ             0  \n",
       "ISTP             0  "
      ]
     },
     "execution_count": 55,
     "metadata": {},
     "output_type": "execute_result"
    }
   ],
   "source": [
    "# Convert confusion matrix to a dataframe to prepare it for heatmapping\n",
    "cm_rfc = np.array(confusion_matrix(y_test, rfc.predict(X_test_tsvd)))\n",
    "\n",
    "cm_randomforest = pd.DataFrame(cm_rfc, index=['ENFJ', 'ENFP', 'ENTJ', 'ENTP', 'ESFJ', 'ESFP',\n",
    "                                       'ESTJ', 'ESTP', 'INFJ', 'INFP', 'INTJ', 'INTP',\n",
    "                                       'ISFJ', 'ISFP', 'ISTJ', 'ISTP'], \n",
    "                            columns=['predict_ENFJ','predict_ENFP','predict_ENTJ',\n",
    "                                     'predict_ENTP','predict_ESFJ','predict_ESFP',\n",
    "                                     'predict_ESTJ','predict_ESTP','predict_INFJ',\n",
    "                                     'predict_INFP','predict_INTJ','predict_INTP',\n",
    "                                     'predict_ISFJ','predict_ISFP','predict_ISTJ',\n",
    "                                     'predict_ISTP'])\n",
    "cm_randomforest"
   ]
  },
  {
   "cell_type": "code",
   "execution_count": 56,
   "metadata": {
    "scrolled": false
   },
   "outputs": [
    {
     "data": {
      "image/png": "[encoded data removed]",
      "text/plain": [
       "<matplotlib.figure.Figure at 0x1a3f9b04e0>"
      ]
     },
     "metadata": {},
     "output_type": "display_data"
    }
   ],
   "source": [
    "# Create confusion matrix heatmap of Random Forest Classifier model \n",
    "fig, ax = plt.subplots(figsize=(14,10)) \n",
    "plt.title('Confusion Matrix for Random Forest Classifier', fontsize=16,\n",
    "          fontweight='bold', y=1.02)\n",
    "sns.heatmap(cm_randomforest, robust=True, annot=True, linewidth=0.5, \n",
    "            fmt='', cmap='RdBu_r', vmax=303, ax=ax)\n",
    "plt.xticks(fontsize=12)\n",
    "plt.yticks(rotation=0, fontsize=12);"
   ]
  },
  {
   "cell_type": "markdown",
   "metadata": {},
   "source": [
    "In the heatmapped confusion matrix above, it is clear that the Random Forest Classifier model is making predictions only within four of the sixteen classes:\n",
    "INFJ, INFP, INTJ, and INTP, which are the most abundant classes in the dataset. The other twelve categories receive \n",
    "no predictions from this model at all. Despite having an accuracy score higher than the baseline, this model is not suited to predicting classes outside of the ones with the highest frequency."
   ]
  },
  {
   "cell_type": "markdown",
   "metadata": {},
   "source": [
    "<a id='k-neighbors-classifier'></a>\n",
    "#### Model: KNeighborsClassifier\n",
    "\n",
    "*KNeighborsClassifier* is a nonparametric classification model that finds the observations in its training data that are \"nearest\" to the observation to predict; it then averages or takes a vote of those training observations' target values to estimate the value for the new data point."
   ]
  },
  {
   "cell_type": "code",
   "execution_count": 64,
   "metadata": {},
   "outputs": [
    {
     "data": {
      "image/png": "[encoded data removed]",
      "text/plain": [
       "<matplotlib.figure.Figure at 0x1a2257d5c0>"
      ]
     },
     "metadata": {},
     "output_type": "display_data"
    }
   ],
   "source": [
    "# Search for the optimal number of neighbors to use\n",
    "error_rate = []\n",
    "\n",
    "for i in range(4,14):\n",
    "    knn_lc = KNeighborsClassifier(n_neighbors=i)\n",
    "    knn_lc.fit(X_train_tsvd, y_train)\n",
    "    \n",
    "    pred_i = knn_lc.predict(X_test_tsvd)\n",
    "    error_rate.append(np.mean(pred_i != y_test))\n",
    "    \n",
    "plt.figure(figsize=(10, 4))\n",
    "plt.plot(range(4,14), error_rate, color='red', linestyle='dashed',\n",
    "         marker='o', markerfacecolor='black', markersize=10)\n",
    "plt.title('Error Rate vs. K Value', fontsize=16,\n",
    "          fontweight='bold', y=1.02)\n",
    "plt.xlabel('K', fontsize=12, y=1.02)\n",
    "plt.ylabel('Error Rate', fontsize=12, x=1.02);"
   ]
  },
  {
   "cell_type": "markdown",
   "metadata": {},
   "source": [
    "According to the graph, 13 is the optimal number of neighbors to use in the KNeighborsClassifier model. It gives a\n",
    "relatively low error rate for the lowest k neighbors (more neighbors give diminishing returns). But this should be\n",
    "confirmed with a grid search to find the best hyperparameters."
   ]
  },
  {
   "cell_type": "code",
   "execution_count": 66,
   "metadata": {
    "collapsed": true
   },
   "outputs": [
    {
     "name": "stdout",
     "output_type": "stream",
     "text": [
      "Fitting 3 folds for each of 20 candidates, totalling 60 fits\n",
      "[CV] n_neighbors=7, p=1, weights=uniform .............................\n",
      "[CV] n_neighbors=7, p=1, weights=uniform .............................\n",
      "[CV] n_neighbors=7, p=1, weights=uniform .............................\n",
      "[CV] n_neighbors=7, p=1, weights=distance ............................\n",
      "[CV] .............. n_neighbors=7, p=1, weights=uniform, total=   5.6s\n",
      "[CV] n_neighbors=7, p=1, weights=distance ............................\n",
      "[CV] .............. n_neighbors=7, p=1, weights=uniform, total=   5.6s\n",
      "[CV] .............. n_neighbors=7, p=1, weights=uniform, total=   5.6s\n",
      "[CV] n_neighbors=7, p=1, weights=distance ............................\n",
      "[CV] ............. n_neighbors=7, p=1, weights=distance, total=   5.6s\n",
      "[CV] n_neighbors=7, p=2, weights=uniform .............................\n",
      "[CV] n_neighbors=7, p=2, weights=uniform .............................\n",
      "[CV] ............. n_neighbors=7, p=1, weights=distance, total=   5.5s\n",
      "[CV] n_neighbors=7, p=2, weights=uniform .............................\n",
      "[CV] ............. n_neighbors=7, p=1, weights=distance, total=   5.4s\n",
      "[CV] n_neighbors=7, p=2, weights=distance ............................\n",
      "[CV] .............. n_neighbors=7, p=2, weights=uniform, total=   5.6s\n",
      "[CV] n_neighbors=7, p=2, weights=distance ............................\n",
      "[CV] .............. n_neighbors=7, p=2, weights=uniform, total=   5.7s\n",
      "[CV] n_neighbors=7, p=2, weights=distance ............................\n",
      "[CV] .............. n_neighbors=7, p=2, weights=uniform, total=   5.5s\n",
      "[CV] n_neighbors=9, p=1, weights=uniform .............................\n",
      "[CV] ............. n_neighbors=7, p=2, weights=distance, total=   5.6s\n",
      "[CV] n_neighbors=9, p=1, weights=uniform .............................\n",
      "[CV] ............. n_neighbors=7, p=2, weights=distance, total=   5.4s\n",
      "[CV] ............. n_neighbors=7, p=2, weights=distance, total=   5.5s\n",
      "[CV] n_neighbors=9, p=1, weights=uniform .............................\n",
      "[CV] n_neighbors=9, p=1, weights=distance ............................\n",
      "[CV] .............. n_neighbors=9, p=1, weights=uniform, total=   5.6s\n",
      "[CV] n_neighbors=9, p=1, weights=distance ............................\n",
      "[CV] .............. n_neighbors=9, p=1, weights=uniform, total=   5.5s\n",
      "[CV] n_neighbors=9, p=1, weights=distance ............................\n",
      "[CV] ............. n_neighbors=9, p=1, weights=distance, total=   5.5s\n",
      "[CV] n_neighbors=9, p=2, weights=uniform .............................\n",
      "[CV] .............. n_neighbors=9, p=1, weights=uniform, total=   5.5s\n",
      "[CV] n_neighbors=9, p=2, weights=uniform .............................\n",
      "[CV] ............. n_neighbors=9, p=1, weights=distance, total=   5.8s\n",
      "[CV] n_neighbors=9, p=2, weights=uniform .............................\n",
      "[CV] ............. n_neighbors=9, p=1, weights=distance, total=   5.6s\n",
      "[CV] n_neighbors=9, p=2, weights=distance ............................\n",
      "[CV] .............. n_neighbors=9, p=2, weights=uniform, total=   5.6s\n",
      "[CV] .............. n_neighbors=9, p=2, weights=uniform, total=   5.7s\n",
      "[CV] n_neighbors=9, p=2, weights=distance ............................\n",
      "[CV] n_neighbors=9, p=2, weights=distance ............................\n",
      "[CV] .............. n_neighbors=9, p=2, weights=uniform, total=   5.6s\n",
      "[CV] n_neighbors=11, p=1, weights=uniform ............................\n",
      "[CV] ............. n_neighbors=9, p=2, weights=distance, total=   5.5s\n",
      "[CV] n_neighbors=11, p=1, weights=uniform ............................\n",
      "[CV] ............. n_neighbors=9, p=2, weights=distance, total=   5.4s\n",
      "[CV] ............. n_neighbors=9, p=2, weights=distance, total=   5.5s\n",
      "[CV] n_neighbors=11, p=1, weights=uniform ............................\n",
      "[CV] n_neighbors=11, p=1, weights=distance ...........................\n",
      "[CV] ............. n_neighbors=11, p=1, weights=uniform, total=   5.5s\n",
      "[CV] n_neighbors=11, p=1, weights=distance ...........................\n",
      "[CV] ............. n_neighbors=11, p=1, weights=uniform, total=   5.4s\n",
      "[CV] n_neighbors=11, p=1, weights=distance ...........................\n",
      "[CV] ............. n_neighbors=11, p=1, weights=uniform, total=   5.5s\n",
      "[CV] n_neighbors=11, p=2, weights=uniform ............................\n",
      "[CV] ............ n_neighbors=11, p=1, weights=distance, total=   5.4s\n",
      "[CV] n_neighbors=11, p=2, weights=uniform ............................\n",
      "[CV] ............ n_neighbors=11, p=1, weights=distance, total=   5.6s\n",
      "[CV] n_neighbors=11, p=2, weights=uniform ............................\n",
      "[CV] ............ n_neighbors=11, p=1, weights=distance, total=   5.6s\n",
      "[CV] n_neighbors=11, p=2, weights=distance ...........................\n",
      "[CV] ............. n_neighbors=11, p=2, weights=uniform, total=   5.7s\n",
      "[CV] ............. n_neighbors=11, p=2, weights=uniform, total=   5.8s\n",
      "[CV] n_neighbors=11, p=2, weights=distance ...........................\n",
      "[CV] n_neighbors=11, p=2, weights=distance ...........................\n",
      "[CV] ............. n_neighbors=11, p=2, weights=uniform, total=   5.5s\n",
      "[CV] n_neighbors=13, p=1, weights=uniform ............................\n"
     ]
    },
    {
     "name": "stderr",
     "output_type": "stream",
     "text": [
      "[Parallel(n_jobs=-1)]: Done  33 tasks      | elapsed:  2.4min\n"
     ]
    },
    {
     "name": "stdout",
     "output_type": "stream",
     "text": [
      "[CV] ............ n_neighbors=11, p=2, weights=distance, total=   5.5s\n",
      "[CV] n_neighbors=13, p=1, weights=uniform ............................\n",
      "[CV] ............ n_neighbors=11, p=2, weights=distance, total=   5.5s\n",
      "[CV] ............ n_neighbors=11, p=2, weights=distance, total=   5.5s\n",
      "[CV] n_neighbors=13, p=1, weights=uniform ............................\n",
      "[CV] n_neighbors=13, p=1, weights=distance ...........................\n",
      "[CV] ............. n_neighbors=13, p=1, weights=uniform, total=   5.5s\n",
      "[CV] n_neighbors=13, p=1, weights=distance ...........................\n",
      "[CV] ............. n_neighbors=13, p=1, weights=uniform, total=   5.4s\n",
      "[CV] n_neighbors=13, p=1, weights=distance ...........................\n",
      "[CV] ............. n_neighbors=13, p=1, weights=uniform, total=   5.5s\n",
      "[CV] n_neighbors=13, p=2, weights=uniform ............................\n",
      "[CV] ............ n_neighbors=13, p=1, weights=distance, total=   5.5s\n",
      "[CV] n_neighbors=13, p=2, weights=uniform ............................\n",
      "[CV] ............ n_neighbors=13, p=1, weights=distance, total=   5.6s\n",
      "[CV] n_neighbors=13, p=2, weights=uniform ............................\n",
      "[CV] ............ n_neighbors=13, p=1, weights=distance, total=   5.4s\n",
      "[CV] n_neighbors=13, p=2, weights=distance ...........................\n",
      "[CV] ............. n_neighbors=13, p=2, weights=uniform, total=   5.7s\n",
      "[CV] n_neighbors=13, p=2, weights=distance ...........................\n",
      "[CV] ............. n_neighbors=13, p=2, weights=uniform, total=   5.7s\n",
      "[CV] n_neighbors=13, p=2, weights=distance ...........................\n",
      "[CV] ............. n_neighbors=13, p=2, weights=uniform, total=   5.8s\n",
      "[CV] n_neighbors=15, p=1, weights=uniform ............................\n",
      "[CV] ............ n_neighbors=13, p=2, weights=distance, total=   5.7s\n",
      "[CV] n_neighbors=15, p=1, weights=uniform ............................\n",
      "[CV] ............ n_neighbors=13, p=2, weights=distance, total=   5.7s\n",
      "[CV] n_neighbors=15, p=1, weights=uniform ............................\n",
      "[CV] ............ n_neighbors=13, p=2, weights=distance, total=   5.8s\n",
      "[CV] n_neighbors=15, p=1, weights=distance ...........................\n",
      "[CV] ............. n_neighbors=15, p=1, weights=uniform, total=   5.5s\n",
      "[CV] n_neighbors=15, p=1, weights=distance ...........................\n",
      "[CV] ............. n_neighbors=15, p=1, weights=uniform, total=   5.6s\n",
      "[CV] n_neighbors=15, p=1, weights=distance ...........................\n",
      "[CV] ............. n_neighbors=15, p=1, weights=uniform, total=   5.5s\n",
      "[CV] n_neighbors=15, p=2, weights=uniform ............................\n",
      "[CV] ............ n_neighbors=15, p=1, weights=distance, total=   5.5s\n",
      "[CV] n_neighbors=15, p=2, weights=uniform ............................\n",
      "[CV] ............ n_neighbors=15, p=1, weights=distance, total=   6.2s\n",
      "[CV] n_neighbors=15, p=2, weights=uniform ............................\n",
      "[CV] ............ n_neighbors=15, p=1, weights=distance, total=   6.1s\n",
      "[CV] n_neighbors=15, p=2, weights=distance ...........................\n",
      "[CV] ............. n_neighbors=15, p=2, weights=uniform, total=   6.9s\n",
      "[CV] n_neighbors=15, p=2, weights=distance ...........................\n",
      "[CV] ............. n_neighbors=15, p=2, weights=uniform, total=   6.7s\n",
      "[CV] n_neighbors=15, p=2, weights=distance ...........................\n",
      "[CV] ............. n_neighbors=15, p=2, weights=uniform, total=   6.2s\n",
      "[CV] ............ n_neighbors=15, p=2, weights=distance, total=   6.1s\n",
      "[CV] ............ n_neighbors=15, p=2, weights=distance, total=   6.0s\n",
      "[CV] ............ n_neighbors=15, p=2, weights=distance, total=   6.2s\n"
     ]
    },
    {
     "name": "stderr",
     "output_type": "stream",
     "text": [
      "[Parallel(n_jobs=-1)]: Done  60 out of  60 | elapsed:  4.2min finished\n"
     ]
    },
    {
     "data": {
      "text/plain": [
       "GridSearchCV(cv=None, error_score='raise',\n",
       "       estimator=KNeighborsClassifier(algorithm='auto', leaf_size=30, metric='minkowski',\n",
       "           metric_params=None, n_jobs=1, n_neighbors=5, p=2,\n",
       "           weights='uniform'),\n",
       "       fit_params=None, iid=True, n_jobs=-1,\n",
       "       param_grid={'n_neighbors': [7, 9, 11, 13, 15], 'weights': ['uniform', 'distance'], 'p': [1, 2]},\n",
       "       pre_dispatch='2*n_jobs', refit=True, return_train_score='warn',\n",
       "       scoring=None, verbose=2)"
      ]
     },
     "execution_count": 66,
     "metadata": {},
     "output_type": "execute_result"
    }
   ],
   "source": [
    "# Grid Search to find the best parameters on KNeighbors Classifier\n",
    "k_dict = {\n",
    "    'n_neighbors': [7,9,11,13,15],\n",
    "    'weights': ['uniform', 'distance'],\n",
    "    'p': [1, 2],}\n",
    "        # p = power parameter for the Minkowski metric. \n",
    "        # 1 is Manhattan; 2 is Euclidean\n",
    "\n",
    "knn = KNeighborsClassifier()\n",
    "gs = GridSearchCV(knn, k_dict, verbose=2, n_jobs=-1)\n",
    "# if n_jobs = -1, then the number of jobs is set to the number of CPU cores.\n",
    "gs.fit(X_train_tsvd, y_train)"
   ]
  },
  {
   "cell_type": "code",
   "execution_count": 67,
   "metadata": {},
   "outputs": [
    {
     "name": "stdout",
     "output_type": "stream",
     "text": [
      "Best score:  0.227108036891\n",
      "Best parameters:  {'n_neighbors': 13, 'p': 2, 'weights': 'distance'}\n"
     ]
    }
   ],
   "source": [
    "print('Best score: ', gs.best_score_)\n",
    "print('Best parameters: ', gs.best_params_)"
   ]
  },
  {
   "cell_type": "markdown",
   "metadata": {},
   "source": [
    "The grid search suggests that the optimal number of neighbors is 13. The optimal weight function is 'distance,' \n",
    "where points are weighted by the inverse of their distance (closer neighbors of a query point will have a greater \n",
    "influence than neighbors which are further away). These hyperparameters will be used in the KNeighborsClassifier \n",
    "model. \n",
    "The optimal power parameter (p) for the Minkowski metric is 2, indicating Euclidean distance. This is the default\n",
    "parameter for this model so no adjustments are needed on that hyperparameter."
   ]
  },
  {
   "cell_type": "code",
   "execution_count": 82,
   "metadata": {
    "collapsed": true
   },
   "outputs": [
    {
     "name": "stdout",
     "output_type": "stream",
     "text": [
      "TRAINING SET\n",
      "Accuracy:  1.0\n",
      "Confusion Matrix:\n",
      "[[ 134    0    0    0    0    0    0    0    0    0    0    0    0    0\n",
      "     0    0]\n",
      " [   0  479    0    0    0    0    0    0    0    0    0    0    0    0\n",
      "     0    0]\n",
      " [   0    0  173    0    0    0    0    0    0    0    0    0    0    0\n",
      "     0    0]\n",
      " [   0    0    0  484    0    0    0    0    0    0    0    0    0    0\n",
      "     0    0]\n",
      " [   0    0    0    0   32    0    0    0    0    0    0    0    0    0\n",
      "     0    0]\n",
      " [   0    0    0    0    0   39    0    0    0    0    0    0    0    0\n",
      "     0    0]\n",
      " [   0    0    0    0    0    0   22    0    0    0    0    0    0    0\n",
      "     0    0]\n",
      " [   0    0    0    0    0    0    0   64    0    0    0    0    0    0\n",
      "     0    0]\n",
      " [   0    0    0    0    0    0    0    0 1036    0    0    0    0    0\n",
      "     0    0]\n",
      " [   0    0    0    0    0    0    0    0    0 1266    0    0    0    0\n",
      "     0    0]\n",
      " [   0    0    0    0    0    0    0    0    0    0  780    0    0    0\n",
      "     0    0]\n",
      " [   0    0    0    0    0    0    0    0    0    0    0  900    0    0\n",
      "     0    0]\n",
      " [   0    0    0    0    0    0    0    0    0    0    0    0  105    0\n",
      "     0    0]\n",
      " [   0    0    0    0    0    0    0    0    0    0    0    0    0  187\n",
      "     0    0]\n",
      " [   0    0    0    0    0    0    0    0    0    0    0    0    0    0\n",
      "   135    0]\n",
      " [   0    0    0    0    0    0    0    0    0    0    0    0    0    0\n",
      "     0  236]]\n",
      "Classification Report:\n",
      "             precision    recall  f1-score   support\n",
      "\n",
      "       ENFJ       1.00      1.00      1.00       134\n",
      "       ENFP       1.00      1.00      1.00       479\n",
      "       ENTJ       1.00      1.00      1.00       173\n",
      "       ENTP       1.00      1.00      1.00       484\n",
      "       ESFJ       1.00      1.00      1.00        32\n",
      "       ESFP       1.00      1.00      1.00        39\n",
      "       ESTJ       1.00      1.00      1.00        22\n",
      "       ESTP       1.00      1.00      1.00        64\n",
      "       INFJ       1.00      1.00      1.00      1036\n",
      "       INFP       1.00      1.00      1.00      1266\n",
      "       INTJ       1.00      1.00      1.00       780\n",
      "       INTP       1.00      1.00      1.00       900\n",
      "       ISFJ       1.00      1.00      1.00       105\n",
      "       ISFP       1.00      1.00      1.00       187\n",
      "       ISTJ       1.00      1.00      1.00       135\n",
      "       ISTP       1.00      1.00      1.00       236\n",
      "\n",
      "avg / total       1.00      1.00      1.00      6072\n",
      "\n",
      "\n",
      "TEST SET\n",
      "Accuracy:  0.217441413753\n",
      "Confusion Matrix:\n",
      "[[  0   3   0   2   0   0   0   0  13  24   4  10   0   0   0   0]\n",
      " [  1  13   0  10   0   0   0   1  43  84  13  31   0   0   0   0]\n",
      " [  0   0   0  10   0   0   0   0  10  13   9  16   0   0   0   0]\n",
      " [  0   2   2  26   0   0   0   0  30  54  38  47   0   1   0   1]\n",
      " [  0   0   0   0   0   0   0   0   4   4   1   1   0   0   0   0]\n",
      " [  0   1   0   0   0   0   0   0   1   4   1   2   0   0   0   0]\n",
      " [  0   1   1   0   0   0   0   0   2   2   5   6   0   0   0   0]\n",
      " [  0   1   0   3   0   0   0   0   6   8   5   2   0   0   0   0]\n",
      " [  2  18   0  19   0   1   0   0  88 179  47  75   0   1   0   4]\n",
      " [  0  27   1  24   0   0   0   0 108 252  51  91   3   3   0   6]\n",
      " [  0   7   6  15   0   0   0   0  33  98  69  81   0   1   0   1]\n",
      " [  0   8   4  37   0   0   0   0  47  96  90 113   1   1   1   6]\n",
      " [  0   3   0   5   0   0   0   0  12  24   9   8   0   0   0   0]\n",
      " [  0   5   0   4   0   0   0   0  13  35  12  12   1   1   0   1]\n",
      " [  0   1   1   2   0   0   0   0  12  20  13  20   0   0   0   1]\n",
      " [  0   2   0  12   0   0   0   0   7  26  18  32   0   0   0   4]]\n",
      "Classification Report:\n",
      "             precision    recall  f1-score   support\n",
      "\n",
      "       ENFJ       0.00      0.00      0.00        56\n",
      "       ENFP       0.14      0.07      0.09       196\n",
      "       ENTJ       0.00      0.00      0.00        58\n",
      "       ENTP       0.15      0.13      0.14       201\n",
      "       ESFJ       0.00      0.00      0.00        10\n",
      "       ESFP       0.00      0.00      0.00         9\n",
      "       ESTJ       0.00      0.00      0.00        17\n",
      "       ESTP       0.00      0.00      0.00        25\n",
      "       INFJ       0.21      0.20      0.20       434\n",
      "       INFP       0.27      0.45      0.34       566\n",
      "       INTJ       0.18      0.22      0.20       311\n",
      "       INTP       0.21      0.28      0.24       404\n",
      "       ISFJ       0.00      0.00      0.00        61\n",
      "       ISFP       0.12      0.01      0.02        84\n",
      "       ISTJ       0.00      0.00      0.00        70\n",
      "       ISTP       0.17      0.04      0.06       101\n",
      "\n",
      "avg / total       0.18      0.22      0.19      2603\n",
      "\n"
     ]
    },
    {
     "name": "stderr",
     "output_type": "stream",
     "text": [
      "/Users/mariayarolin/anaconda3/lib/python3.6/site-packages/sklearn/metrics/classification.py:1135: UndefinedMetricWarning: Precision and F-score are ill-defined and being set to 0.0 in labels with no predicted samples.\n",
      "  'precision', 'predicted', average, warn_for)\n"
     ]
    }
   ],
   "source": [
    "# Fit and score a KNeighborsClassifier using 13 neighbors and distance weighting function\n",
    "knn = KNeighborsClassifier(n_neighbors=13, weights='distance')\n",
    "knn.fit(X_train_tsvd, y_train)\n",
    "print(\"TRAINING SET\")\n",
    "print(\"Accuracy: \", knn.score(X_train_tsvd, y_train))\n",
    "print(\"Confusion Matrix:\")\n",
    "print(confusion_matrix(y_train, knn.predict(X_train_tsvd)))\n",
    "print(\"Classification Report:\")\n",
    "print(classification_report(y_train, knn.predict(X_train_tsvd)))\n",
    "print(\"\")\n",
    "\n",
    "print(\"TEST SET\")\n",
    "print(\"Accuracy: \", knn.score(X_test_tsvd, y_test))\n",
    "print(\"Confusion Matrix:\")\n",
    "print(confusion_matrix(y_test, knn.predict(X_test_tsvd)))\n",
    "print(\"Classification Report:\")\n",
    "print(classification_report(y_test, knn.predict(X_test_tsvd)))"
   ]
  },
  {
   "cell_type": "markdown",
   "metadata": {},
   "source": [
    "\n",
    "\n",
    "Using the hyperparameters suggested by the grid search (13 neighbors, distance weighting function, and Euclidean distance), the prediction accuracy of the model on the training set is 1.0 which suggests an overfit model. The accuracy on the test set is 0.217, just over the baseline of 0.211. The accuracy is lower than that of the RandomForestClassifier model, but the predictions are not limited to just the Introversion-Intuition subset of \n",
    "classes."
   ]
  },
  {
   "cell_type": "code",
   "execution_count": 70,
   "metadata": {
    "collapsed": true
   },
   "outputs": [
    {
     "data": {
      "text/html": [
       "<div>\n",
       "<style>\n",
       "    .dataframe thead tr:only-child th {\n",
       "        text-align: right;\n",
       "    }\n",
       "\n",
       "    .dataframe thead th {\n",
       "        text-align: left;\n",
       "    }\n",
       "\n",
       "    .dataframe tbody tr th {\n",
       "        vertical-align: top;\n",
       "    }\n",
       "</style>\n",
       "<table border=\"1\" class=\"dataframe\">\n",
       "  <thead>\n",
       "    <tr style=\"text-align: right;\">\n",
       "      <th></th>\n",
       "      <th>predict_ENFJ</th>\n",
       "      <th>predict_ENFP</th>\n",
       "      <th>predict_ENTJ</th>\n",
       "      <th>predict_ENTP</th>\n",
       "      <th>predict_ESFJ</th>\n",
       "      <th>predict_ESFP</th>\n",
       "      <th>predict_ESTJ</th>\n",
       "      <th>predict_ESTP</th>\n",
       "      <th>predict_INFJ</th>\n",
       "      <th>predict_INFP</th>\n",
       "      <th>predict_INTJ</th>\n",
       "      <th>predict_INTP</th>\n",
       "      <th>predict_ISFJ</th>\n",
       "      <th>predict_ISFP</th>\n",
       "      <th>predict_ISTJ</th>\n",
       "      <th>predict_ISTP</th>\n",
       "    </tr>\n",
       "  </thead>\n",
       "  <tbody>\n",
       "    <tr>\n",
       "      <th>ENFJ</th>\n",
       "      <td>0</td>\n",
       "      <td>3</td>\n",
       "      <td>0</td>\n",
       "      <td>2</td>\n",
       "      <td>0</td>\n",
       "      <td>0</td>\n",
       "      <td>0</td>\n",
       "      <td>0</td>\n",
       "      <td>13</td>\n",
       "      <td>24</td>\n",
       "      <td>4</td>\n",
       "      <td>10</td>\n",
       "      <td>0</td>\n",
       "      <td>0</td>\n",
       "      <td>0</td>\n",
       "      <td>0</td>\n",
       "    </tr>\n",
       "    <tr>\n",
       "      <th>ENFP</th>\n",
       "      <td>1</td>\n",
       "      <td>13</td>\n",
       "      <td>0</td>\n",
       "      <td>10</td>\n",
       "      <td>0</td>\n",
       "      <td>0</td>\n",
       "      <td>0</td>\n",
       "      <td>1</td>\n",
       "      <td>43</td>\n",
       "      <td>84</td>\n",
       "      <td>13</td>\n",
       "      <td>31</td>\n",
       "      <td>0</td>\n",
       "      <td>0</td>\n",
       "      <td>0</td>\n",
       "      <td>0</td>\n",
       "    </tr>\n",
       "    <tr>\n",
       "      <th>ENTJ</th>\n",
       "      <td>0</td>\n",
       "      <td>0</td>\n",
       "      <td>0</td>\n",
       "      <td>10</td>\n",
       "      <td>0</td>\n",
       "      <td>0</td>\n",
       "      <td>0</td>\n",
       "      <td>0</td>\n",
       "      <td>10</td>\n",
       "      <td>13</td>\n",
       "      <td>9</td>\n",
       "      <td>16</td>\n",
       "      <td>0</td>\n",
       "      <td>0</td>\n",
       "      <td>0</td>\n",
       "      <td>0</td>\n",
       "    </tr>\n",
       "    <tr>\n",
       "      <th>ENTP</th>\n",
       "      <td>0</td>\n",
       "      <td>2</td>\n",
       "      <td>2</td>\n",
       "      <td>26</td>\n",
       "      <td>0</td>\n",
       "      <td>0</td>\n",
       "      <td>0</td>\n",
       "      <td>0</td>\n",
       "      <td>30</td>\n",
       "      <td>54</td>\n",
       "      <td>38</td>\n",
       "      <td>47</td>\n",
       "      <td>0</td>\n",
       "      <td>1</td>\n",
       "      <td>0</td>\n",
       "      <td>1</td>\n",
       "    </tr>\n",
       "    <tr>\n",
       "      <th>ESFJ</th>\n",
       "      <td>0</td>\n",
       "      <td>0</td>\n",
       "      <td>0</td>\n",
       "      <td>0</td>\n",
       "      <td>0</td>\n",
       "      <td>0</td>\n",
       "      <td>0</td>\n",
       "      <td>0</td>\n",
       "      <td>4</td>\n",
       "      <td>4</td>\n",
       "      <td>1</td>\n",
       "      <td>1</td>\n",
       "      <td>0</td>\n",
       "      <td>0</td>\n",
       "      <td>0</td>\n",
       "      <td>0</td>\n",
       "    </tr>\n",
       "    <tr>\n",
       "      <th>ESFP</th>\n",
       "      <td>0</td>\n",
       "      <td>1</td>\n",
       "      <td>0</td>\n",
       "      <td>0</td>\n",
       "      <td>0</td>\n",
       "      <td>0</td>\n",
       "      <td>0</td>\n",
       "      <td>0</td>\n",
       "      <td>1</td>\n",
       "      <td>4</td>\n",
       "      <td>1</td>\n",
       "      <td>2</td>\n",
       "      <td>0</td>\n",
       "      <td>0</td>\n",
       "      <td>0</td>\n",
       "      <td>0</td>\n",
       "    </tr>\n",
       "    <tr>\n",
       "      <th>ESTJ</th>\n",
       "      <td>0</td>\n",
       "      <td>1</td>\n",
       "      <td>1</td>\n",
       "      <td>0</td>\n",
       "      <td>0</td>\n",
       "      <td>0</td>\n",
       "      <td>0</td>\n",
       "      <td>0</td>\n",
       "      <td>2</td>\n",
       "      <td>2</td>\n",
       "      <td>5</td>\n",
       "      <td>6</td>\n",
       "      <td>0</td>\n",
       "      <td>0</td>\n",
       "      <td>0</td>\n",
       "      <td>0</td>\n",
       "    </tr>\n",
       "    <tr>\n",
       "      <th>ESTP</th>\n",
       "      <td>0</td>\n",
       "      <td>1</td>\n",
       "      <td>0</td>\n",
       "      <td>3</td>\n",
       "      <td>0</td>\n",
       "      <td>0</td>\n",
       "      <td>0</td>\n",
       "      <td>0</td>\n",
       "      <td>6</td>\n",
       "      <td>8</td>\n",
       "      <td>5</td>\n",
       "      <td>2</td>\n",
       "      <td>0</td>\n",
       "      <td>0</td>\n",
       "      <td>0</td>\n",
       "      <td>0</td>\n",
       "    </tr>\n",
       "    <tr>\n",
       "      <th>INFJ</th>\n",
       "      <td>2</td>\n",
       "      <td>18</td>\n",
       "      <td>0</td>\n",
       "      <td>19</td>\n",
       "      <td>0</td>\n",
       "      <td>1</td>\n",
       "      <td>0</td>\n",
       "      <td>0</td>\n",
       "      <td>88</td>\n",
       "      <td>179</td>\n",
       "      <td>47</td>\n",
       "      <td>75</td>\n",
       "      <td>0</td>\n",
       "      <td>1</td>\n",
       "      <td>0</td>\n",
       "      <td>4</td>\n",
       "    </tr>\n",
       "    <tr>\n",
       "      <th>INFP</th>\n",
       "      <td>0</td>\n",
       "      <td>27</td>\n",
       "      <td>1</td>\n",
       "      <td>24</td>\n",
       "      <td>0</td>\n",
       "      <td>0</td>\n",
       "      <td>0</td>\n",
       "      <td>0</td>\n",
       "      <td>108</td>\n",
       "      <td>252</td>\n",
       "      <td>51</td>\n",
       "      <td>91</td>\n",
       "      <td>3</td>\n",
       "      <td>3</td>\n",
       "      <td>0</td>\n",
       "      <td>6</td>\n",
       "    </tr>\n",
       "    <tr>\n",
       "      <th>INTJ</th>\n",
       "      <td>0</td>\n",
       "      <td>7</td>\n",
       "      <td>6</td>\n",
       "      <td>15</td>\n",
       "      <td>0</td>\n",
       "      <td>0</td>\n",
       "      <td>0</td>\n",
       "      <td>0</td>\n",
       "      <td>33</td>\n",
       "      <td>98</td>\n",
       "      <td>69</td>\n",
       "      <td>81</td>\n",
       "      <td>0</td>\n",
       "      <td>1</td>\n",
       "      <td>0</td>\n",
       "      <td>1</td>\n",
       "    </tr>\n",
       "    <tr>\n",
       "      <th>INTP</th>\n",
       "      <td>0</td>\n",
       "      <td>8</td>\n",
       "      <td>4</td>\n",
       "      <td>37</td>\n",
       "      <td>0</td>\n",
       "      <td>0</td>\n",
       "      <td>0</td>\n",
       "      <td>0</td>\n",
       "      <td>47</td>\n",
       "      <td>96</td>\n",
       "      <td>90</td>\n",
       "      <td>113</td>\n",
       "      <td>1</td>\n",
       "      <td>1</td>\n",
       "      <td>1</td>\n",
       "      <td>6</td>\n",
       "    </tr>\n",
       "    <tr>\n",
       "      <th>ISFJ</th>\n",
       "      <td>0</td>\n",
       "      <td>3</td>\n",
       "      <td>0</td>\n",
       "      <td>5</td>\n",
       "      <td>0</td>\n",
       "      <td>0</td>\n",
       "      <td>0</td>\n",
       "      <td>0</td>\n",
       "      <td>12</td>\n",
       "      <td>24</td>\n",
       "      <td>9</td>\n",
       "      <td>8</td>\n",
       "      <td>0</td>\n",
       "      <td>0</td>\n",
       "      <td>0</td>\n",
       "      <td>0</td>\n",
       "    </tr>\n",
       "    <tr>\n",
       "      <th>ISFP</th>\n",
       "      <td>0</td>\n",
       "      <td>5</td>\n",
       "      <td>0</td>\n",
       "      <td>4</td>\n",
       "      <td>0</td>\n",
       "      <td>0</td>\n",
       "      <td>0</td>\n",
       "      <td>0</td>\n",
       "      <td>13</td>\n",
       "      <td>35</td>\n",
       "      <td>12</td>\n",
       "      <td>12</td>\n",
       "      <td>1</td>\n",
       "      <td>1</td>\n",
       "      <td>0</td>\n",
       "      <td>1</td>\n",
       "    </tr>\n",
       "    <tr>\n",
       "      <th>ISTJ</th>\n",
       "      <td>0</td>\n",
       "      <td>1</td>\n",
       "      <td>1</td>\n",
       "      <td>2</td>\n",
       "      <td>0</td>\n",
       "      <td>0</td>\n",
       "      <td>0</td>\n",
       "      <td>0</td>\n",
       "      <td>12</td>\n",
       "      <td>20</td>\n",
       "      <td>13</td>\n",
       "      <td>20</td>\n",
       "      <td>0</td>\n",
       "      <td>0</td>\n",
       "      <td>0</td>\n",
       "      <td>1</td>\n",
       "    </tr>\n",
       "    <tr>\n",
       "      <th>ISTP</th>\n",
       "      <td>0</td>\n",
       "      <td>2</td>\n",
       "      <td>0</td>\n",
       "      <td>12</td>\n",
       "      <td>0</td>\n",
       "      <td>0</td>\n",
       "      <td>0</td>\n",
       "      <td>0</td>\n",
       "      <td>7</td>\n",
       "      <td>26</td>\n",
       "      <td>18</td>\n",
       "      <td>32</td>\n",
       "      <td>0</td>\n",
       "      <td>0</td>\n",
       "      <td>0</td>\n",
       "      <td>4</td>\n",
       "    </tr>\n",
       "  </tbody>\n",
       "</table>\n",
       "</div>"
      ],
      "text/plain": [
       "      predict_ENFJ  predict_ENFP  predict_ENTJ  predict_ENTP  predict_ESFJ  \\\n",
       "ENFJ             0             3             0             2             0   \n",
       "ENFP             1            13             0            10             0   \n",
       "ENTJ             0             0             0            10             0   \n",
       "ENTP             0             2             2            26             0   \n",
       "ESFJ             0             0             0             0             0   \n",
       "ESFP             0             1             0             0             0   \n",
       "ESTJ             0             1             1             0             0   \n",
       "ESTP             0             1             0             3             0   \n",
       "INFJ             2            18             0            19             0   \n",
       "INFP             0            27             1            24             0   \n",
       "INTJ             0             7             6            15             0   \n",
       "INTP             0             8             4            37             0   \n",
       "ISFJ             0             3             0             5             0   \n",
       "ISFP             0             5             0             4             0   \n",
       "ISTJ             0             1             1             2             0   \n",
       "ISTP             0             2             0            12             0   \n",
       "\n",
       "      predict_ESFP  predict_ESTJ  predict_ESTP  predict_INFJ  predict_INFP  \\\n",
       "ENFJ             0             0             0            13            24   \n",
       "ENFP             0             0             1            43            84   \n",
       "ENTJ             0             0             0            10            13   \n",
       "ENTP             0             0             0            30            54   \n",
       "ESFJ             0             0             0             4             4   \n",
       "ESFP             0             0             0             1             4   \n",
       "ESTJ             0             0             0             2             2   \n",
       "ESTP             0             0             0             6             8   \n",
       "INFJ             1             0             0            88           179   \n",
       "INFP             0             0             0           108           252   \n",
       "INTJ             0             0             0            33            98   \n",
       "INTP             0             0             0            47            96   \n",
       "ISFJ             0             0             0            12            24   \n",
       "ISFP             0             0             0            13            35   \n",
       "ISTJ             0             0             0            12            20   \n",
       "ISTP             0             0             0             7            26   \n",
       "\n",
       "      predict_INTJ  predict_INTP  predict_ISFJ  predict_ISFP  predict_ISTJ  \\\n",
       "ENFJ             4            10             0             0             0   \n",
       "ENFP            13            31             0             0             0   \n",
       "ENTJ             9            16             0             0             0   \n",
       "ENTP            38            47             0             1             0   \n",
       "ESFJ             1             1             0             0             0   \n",
       "ESFP             1             2             0             0             0   \n",
       "ESTJ             5             6             0             0             0   \n",
       "ESTP             5             2             0             0             0   \n",
       "INFJ            47            75             0             1             0   \n",
       "INFP            51            91             3             3             0   \n",
       "INTJ            69            81             0             1             0   \n",
       "INTP            90           113             1             1             1   \n",
       "ISFJ             9             8             0             0             0   \n",
       "ISFP            12            12             1             1             0   \n",
       "ISTJ            13            20             0             0             0   \n",
       "ISTP            18            32             0             0             0   \n",
       "\n",
       "      predict_ISTP  \n",
       "ENFJ             0  \n",
       "ENFP             0  \n",
       "ENTJ             0  \n",
       "ENTP             1  \n",
       "ESFJ             0  \n",
       "ESFP             0  \n",
       "ESTJ             0  \n",
       "ESTP             0  \n",
       "INFJ             4  \n",
       "INFP             6  \n",
       "INTJ             1  \n",
       "INTP             6  \n",
       "ISFJ             0  \n",
       "ISFP             1  \n",
       "ISTJ             1  \n",
       "ISTP             4  "
      ]
     },
     "execution_count": 70,
     "metadata": {},
     "output_type": "execute_result"
    }
   ],
   "source": [
    "# Convert confusion matrix for KNeightbors Classifier model to a dataframe to prepare it for heatmapping\n",
    "cm_knn = np.array(confusion_matrix(y_test, knn.predict(X_test_tsvd)))\n",
    "\n",
    "cm_kneighbors = pd.DataFrame(cm_knn, index=['ENFJ', 'ENFP', 'ENTJ', 'ENTP', 'ESFJ', 'ESFP',\n",
    "                                       'ESTJ', 'ESTP', 'INFJ', 'INFP', 'INTJ', 'INTP',\n",
    "                                       'ISFJ', 'ISFP', 'ISTJ', 'ISTP'], \n",
    "                            columns=['predict_ENFJ','predict_ENFP','predict_ENTJ',\n",
    "                                     'predict_ENTP','predict_ESFJ','predict_ESFP',\n",
    "                                     'predict_ESTJ','predict_ESTP','predict_INFJ',\n",
    "                                     'predict_INFP','predict_INTJ','predict_INTP',\n",
    "                                     'predict_ISFJ','predict_ISFP','predict_ISTJ',\n",
    "                                     'predict_ISTP'])\n",
    "cm_kneighbors"
   ]
  },
  {
   "cell_type": "code",
   "execution_count": 79,
   "metadata": {},
   "outputs": [
    {
     "data": {
      "image/png": "[encoded data removed]",
      "text/plain": [
       "<matplotlib.figure.Figure at 0x1a3f8ac5c0>"
      ]
     },
     "metadata": {},
     "output_type": "display_data"
    }
   ],
   "source": [
    "# Create confusion matrix heatmap of KNeighbors Classifier model \n",
    "fig, ax = plt.subplots(figsize=(14,10)) \n",
    "plt.title('Confusion Matrix for K-Neighbors Classifier',\n",
    "          fontweight='bold', y=1.02, fontsize=16)\n",
    "sns.heatmap(cm_kneighbors, robust=True, annot=True, linewidth=0.5, \n",
    "            fmt='', cmap='RdBu_r', vmax=303, ax=ax)\n",
    "plt.xticks(fontsize=12)\n",
    "plt.yticks(rotation=0, fontsize=12);"
   ]
  },
  {
   "cell_type": "markdown",
   "metadata": {},
   "source": [
    "As shown in the heatmapped confusion matrix above, the KNeighbors Classifier is best at predicting cases in the Introversion/Intuition (IN-) classes, which are the most abundant of this dataset. However, unlike the RandomForest Classifier, this model makes predictions outside of those four groups as well. There is still much misclassification, yet it is notable that many of these incorrect labelings are correct on three of the four axes - e.g. ENFP subjects labeled as INFP (where their Intuitive, Feeling, and Perceiving status is guessed accurately, but they are Extroverts misattributed as Introverts)."
   ]
  },
  {
   "cell_type": "markdown",
   "metadata": {},
   "source": [
    "<a id='one-vs-rest-classifier'></a>\n",
    "#### Model: OneVsRestClassifier\n",
    "\n",
    "*OneVsRestClassifier* is a multiclass classifier in which a class is fitted against all the other classes; since each class is represented by one and only one classifier, it is possible to gain knowledge about the class by inspecting its corresponding classifier."
   ]
  },
  {
   "cell_type": "code",
   "execution_count": 11,
   "metadata": {
    "collapsed": true
   },
   "outputs": [
    {
     "name": "stdout",
     "output_type": "stream",
     "text": [
      "TRAINING SET\n",
      "Accuracy:  0.308959156785\n",
      "Confusion Matrix:\n",
      "[[  0   1   0   7   0   0   0   0  53  70   3   0   0   0   0   0]\n",
      " [  0   7   0  54   0   0   0   1 116 290  10   0   0   0   0   1]\n",
      " [  0   1  15  41   0   0   0   1  30  58  24   3   0   0   0   0]\n",
      " [  0   3   4 195   3   2   0   1  65 187  16   7   0   0   0   1]\n",
      " [  0   0   0   1  18   0   0   0   6   7   0   0   0   0   0   0]\n",
      " [  0   0   0   7   0   4   0   0   3  23   2   0   0   0   0   0]\n",
      " [  0   0   0   0   0   0  21   0   0   1   0   0   0   0   0   0]\n",
      " [  0   1   0  14   0   0   0  12  12  21   4   0   0   0   0   0]\n",
      " [  0   1   1  58   1   1   0   3 407 531  22   5   1   3   0   2]\n",
      " [  0   2   1  68   1   1   0   0 212 949  26   4   1   1   0   0]\n",
      " [  0   1  14 120   1   1   0   0 146 301 166  24   2   0   0   4]\n",
      " [  0   2   1 199   0   0   0   3 128 412  89  61   0   1   0   4]\n",
      " [  0   1   0  13   0   0   0   1  27  59   2   0   1   1   0   0]\n",
      " [  0   0   0  13   0   0   0   0  36 128   8   0   0   1   0   1]\n",
      " [  0   0   0  29   0   0   0   0  26  62  14   0   0   1   2   1]\n",
      " [  0   0   1  68   0   0   0   2  27  94  22   2   1   1   1  17]]\n",
      "Classification Report:\n",
      "             precision    recall  f1-score   support\n",
      "\n",
      "       ENFJ       0.00      0.00      0.00       134\n",
      "       ENFP       0.35      0.01      0.03       479\n",
      "       ENTJ       0.41      0.09      0.14       173\n",
      "       ENTP       0.22      0.40      0.28       484\n",
      "       ESFJ       0.75      0.56      0.64        32\n",
      "       ESFP       0.44      0.10      0.17        39\n",
      "       ESTJ       1.00      0.95      0.98        22\n",
      "       ESTP       0.50      0.19      0.27        64\n",
      "       INFJ       0.31      0.39      0.35      1036\n",
      "       INFP       0.30      0.75      0.43      1266\n",
      "       INTJ       0.41      0.21      0.28       780\n",
      "       INTP       0.58      0.07      0.12       900\n",
      "       ISFJ       0.17      0.01      0.02       105\n",
      "       ISFP       0.11      0.01      0.01       187\n",
      "       ISTJ       0.67      0.01      0.03       135\n",
      "       ISTP       0.55      0.07      0.13       236\n",
      "\n",
      "avg / total       0.37      0.31      0.25      6072\n",
      "\n",
      "\n",
      "TEST SET\n",
      "Accuracy:  0.265462927391\n",
      "Confusion Matrix:\n",
      "[[  0   0   1   0   1   0   0   0  18  33   2   0   0   1   0   0]\n",
      " [  0   2   1  21   2   1   0   3  47 116   3   0   0   0   0   0]\n",
      " [  0   0   1  14   2   0   2   0  15  16   4   3   0   0   0   1]\n",
      " [  0   2   3  62   1   0   3   1  35  80   8   5   0   0   0   1]\n",
      " [  0   0   0   1   0   0   0   0   5   4   0   0   0   0   0   0]\n",
      " [  0   0   0   3   0   0   0   0   2   4   0   0   0   0   0   0]\n",
      " [  0   1   2   2   1   0   0   0   4   5   1   0   0   0   0   1]\n",
      " [  0   0   0   6   1   0   0   1   3  12   0   0   0   1   0   1]\n",
      " [  0   0   0  29   3   1   1   3 147 234  12   1   0   1   0   2]\n",
      " [  0   0   0  33   8   0   2   0 102 408  10   2   0   1   0   0]\n",
      " [  0   0   4  41   6   0   3   0  55 140  48  12   0   2   0   0]\n",
      " [  0   2   1  77   0   0   1   1  54 201  39  20   1   4   0   3]\n",
      " [  0   0   0   1   2   0   0   0  23  34   0   0   0   0   0   1]\n",
      " [  0   0   0   3   0   0   1   1  18  57   2   0   0   1   0   1]\n",
      " [  0   1   0  15   0   1   1   0  16  30   4   2   0   0   0   0]\n",
      " [  0   0   1  32   2   0   1   2  17  32  10   3   0   0   0   1]]\n",
      "Classification Report:\n",
      "             precision    recall  f1-score   support\n",
      "\n",
      "       ENFJ       0.00      0.00      0.00        56\n",
      "       ENFP       0.25      0.01      0.02       196\n",
      "       ENTJ       0.07      0.02      0.03        58\n",
      "       ENTP       0.18      0.31      0.23       201\n",
      "       ESFJ       0.00      0.00      0.00        10\n",
      "       ESFP       0.00      0.00      0.00         9\n",
      "       ESTJ       0.00      0.00      0.00        17\n",
      "       ESTP       0.08      0.04      0.05        25\n",
      "       INFJ       0.26      0.34      0.30       434\n",
      "       INFP       0.29      0.72      0.41       566\n",
      "       INTJ       0.34      0.15      0.21       311\n",
      "       INTP       0.42      0.05      0.09       404\n",
      "       ISFJ       0.00      0.00      0.00        61\n",
      "       ISFP       0.09      0.01      0.02        84\n",
      "       ISTJ       0.00      0.00      0.00        70\n",
      "       ISTP       0.08      0.01      0.02       101\n",
      "\n",
      "avg / total       0.25      0.27      0.20      2603\n",
      "\n"
     ]
    },
    {
     "name": "stderr",
     "output_type": "stream",
     "text": [
      "/Users/mariayarolin/anaconda3/lib/python3.6/site-packages/sklearn/metrics/classification.py:1135: UndefinedMetricWarning: Precision and F-score are ill-defined and being set to 0.0 in labels with no predicted samples.\n",
      "  'precision', 'predicted', average, warn_for)\n"
     ]
    }
   ],
   "source": [
    "# Fit and score a One-Vs-The-Rest Classifier\n",
    "ovrc = OneVsRestClassifier(LinearSVC(random_state=123))\n",
    "ovrc.fit(X_train_tsvd, y_train)\n",
    "print(\"TRAINING SET\")\n",
    "print(\"Accuracy: \", ovrc.score(X_train_tsvd, y_train))\n",
    "print(\"Confusion Matrix:\")\n",
    "print(confusion_matrix(y_train, ovrc.predict(X_train_tsvd)))\n",
    "print(\"Classification Report:\")\n",
    "print(classification_report(y_train, ovrc.predict(X_train_tsvd)))\n",
    "print(\"\")\n",
    "\n",
    "print(\"TEST SET\")\n",
    "print(\"Accuracy: \", ovrc.score(X_test_tsvd, y_test))\n",
    "print(\"Confusion Matrix:\")\n",
    "print(confusion_matrix(y_test, ovrc.predict(X_test_tsvd)))\n",
    "print(\"Classification Report:\")\n",
    "print(classification_report(y_test, ovrc.predict(X_test_tsvd)))"
   ]
  },
  {
   "cell_type": "markdown",
   "metadata": {},
   "source": [
    "Using a OneVsRestClassifier model with LinearSVC as the estimator object, the accuracy predicting the training set\n",
    "is 0.309, and predicting on the training set the accuracy is 0.265 which is higher than the 0.211 baseline. And \n",
    "while many of the predictions occur in the Introversion-Intuitive classes as in the other models, it is not limited \n",
    "to these classes as in the Random Forest model. There are predictions in the Extroversion classes and the other \n",
    "Introversion classes as well."
   ]
  },
  {
   "cell_type": "code",
   "execution_count": 12,
   "metadata": {
    "collapsed": true
   },
   "outputs": [
    {
     "data": {
      "text/html": [
       "<div>\n",
       "<style>\n",
       "    .dataframe thead tr:only-child th {\n",
       "        text-align: right;\n",
       "    }\n",
       "\n",
       "    .dataframe thead th {\n",
       "        text-align: left;\n",
       "    }\n",
       "\n",
       "    .dataframe tbody tr th {\n",
       "        vertical-align: top;\n",
       "    }\n",
       "</style>\n",
       "<table border=\"1\" class=\"dataframe\">\n",
       "  <thead>\n",
       "    <tr style=\"text-align: right;\">\n",
       "      <th></th>\n",
       "      <th>predict_ENFJ</th>\n",
       "      <th>predict_ENFP</th>\n",
       "      <th>predict_ENTJ</th>\n",
       "      <th>predict_ENTP</th>\n",
       "      <th>predict_ESFJ</th>\n",
       "      <th>predict_ESFP</th>\n",
       "      <th>predict_ESTJ</th>\n",
       "      <th>predict_ESTP</th>\n",
       "      <th>predict_INFJ</th>\n",
       "      <th>predict_INFP</th>\n",
       "      <th>predict_INTJ</th>\n",
       "      <th>predict_INTP</th>\n",
       "      <th>predict_ISFJ</th>\n",
       "      <th>predict_ISFP</th>\n",
       "      <th>predict_ISTJ</th>\n",
       "      <th>predict_ISTP</th>\n",
       "    </tr>\n",
       "  </thead>\n",
       "  <tbody>\n",
       "    <tr>\n",
       "      <th>ENFJ</th>\n",
       "      <td>0</td>\n",
       "      <td>0</td>\n",
       "      <td>1</td>\n",
       "      <td>0</td>\n",
       "      <td>1</td>\n",
       "      <td>0</td>\n",
       "      <td>0</td>\n",
       "      <td>0</td>\n",
       "      <td>18</td>\n",
       "      <td>33</td>\n",
       "      <td>2</td>\n",
       "      <td>0</td>\n",
       "      <td>0</td>\n",
       "      <td>1</td>\n",
       "      <td>0</td>\n",
       "      <td>0</td>\n",
       "    </tr>\n",
       "    <tr>\n",
       "      <th>ENFP</th>\n",
       "      <td>0</td>\n",
       "      <td>2</td>\n",
       "      <td>1</td>\n",
       "      <td>21</td>\n",
       "      <td>2</td>\n",
       "      <td>1</td>\n",
       "      <td>0</td>\n",
       "      <td>3</td>\n",
       "      <td>47</td>\n",
       "      <td>116</td>\n",
       "      <td>3</td>\n",
       "      <td>0</td>\n",
       "      <td>0</td>\n",
       "      <td>0</td>\n",
       "      <td>0</td>\n",
       "      <td>0</td>\n",
       "    </tr>\n",
       "    <tr>\n",
       "      <th>ENTJ</th>\n",
       "      <td>0</td>\n",
       "      <td>0</td>\n",
       "      <td>1</td>\n",
       "      <td>14</td>\n",
       "      <td>2</td>\n",
       "      <td>0</td>\n",
       "      <td>2</td>\n",
       "      <td>0</td>\n",
       "      <td>15</td>\n",
       "      <td>16</td>\n",
       "      <td>4</td>\n",
       "      <td>3</td>\n",
       "      <td>0</td>\n",
       "      <td>0</td>\n",
       "      <td>0</td>\n",
       "      <td>1</td>\n",
       "    </tr>\n",
       "    <tr>\n",
       "      <th>ENTP</th>\n",
       "      <td>0</td>\n",
       "      <td>2</td>\n",
       "      <td>3</td>\n",
       "      <td>62</td>\n",
       "      <td>1</td>\n",
       "      <td>0</td>\n",
       "      <td>3</td>\n",
       "      <td>1</td>\n",
       "      <td>35</td>\n",
       "      <td>80</td>\n",
       "      <td>8</td>\n",
       "      <td>5</td>\n",
       "      <td>0</td>\n",
       "      <td>0</td>\n",
       "      <td>0</td>\n",
       "      <td>1</td>\n",
       "    </tr>\n",
       "    <tr>\n",
       "      <th>ESFJ</th>\n",
       "      <td>0</td>\n",
       "      <td>0</td>\n",
       "      <td>0</td>\n",
       "      <td>1</td>\n",
       "      <td>0</td>\n",
       "      <td>0</td>\n",
       "      <td>0</td>\n",
       "      <td>0</td>\n",
       "      <td>5</td>\n",
       "      <td>4</td>\n",
       "      <td>0</td>\n",
       "      <td>0</td>\n",
       "      <td>0</td>\n",
       "      <td>0</td>\n",
       "      <td>0</td>\n",
       "      <td>0</td>\n",
       "    </tr>\n",
       "    <tr>\n",
       "      <th>ESFP</th>\n",
       "      <td>0</td>\n",
       "      <td>0</td>\n",
       "      <td>0</td>\n",
       "      <td>3</td>\n",
       "      <td>0</td>\n",
       "      <td>0</td>\n",
       "      <td>0</td>\n",
       "      <td>0</td>\n",
       "      <td>2</td>\n",
       "      <td>4</td>\n",
       "      <td>0</td>\n",
       "      <td>0</td>\n",
       "      <td>0</td>\n",
       "      <td>0</td>\n",
       "      <td>0</td>\n",
       "      <td>0</td>\n",
       "    </tr>\n",
       "    <tr>\n",
       "      <th>ESTJ</th>\n",
       "      <td>0</td>\n",
       "      <td>1</td>\n",
       "      <td>2</td>\n",
       "      <td>2</td>\n",
       "      <td>1</td>\n",
       "      <td>0</td>\n",
       "      <td>0</td>\n",
       "      <td>0</td>\n",
       "      <td>4</td>\n",
       "      <td>5</td>\n",
       "      <td>1</td>\n",
       "      <td>0</td>\n",
       "      <td>0</td>\n",
       "      <td>0</td>\n",
       "      <td>0</td>\n",
       "      <td>1</td>\n",
       "    </tr>\n",
       "    <tr>\n",
       "      <th>ESTP</th>\n",
       "      <td>0</td>\n",
       "      <td>0</td>\n",
       "      <td>0</td>\n",
       "      <td>6</td>\n",
       "      <td>1</td>\n",
       "      <td>0</td>\n",
       "      <td>0</td>\n",
       "      <td>1</td>\n",
       "      <td>3</td>\n",
       "      <td>12</td>\n",
       "      <td>0</td>\n",
       "      <td>0</td>\n",
       "      <td>0</td>\n",
       "      <td>1</td>\n",
       "      <td>0</td>\n",
       "      <td>1</td>\n",
       "    </tr>\n",
       "    <tr>\n",
       "      <th>INFJ</th>\n",
       "      <td>0</td>\n",
       "      <td>0</td>\n",
       "      <td>0</td>\n",
       "      <td>29</td>\n",
       "      <td>3</td>\n",
       "      <td>1</td>\n",
       "      <td>1</td>\n",
       "      <td>3</td>\n",
       "      <td>147</td>\n",
       "      <td>234</td>\n",
       "      <td>12</td>\n",
       "      <td>1</td>\n",
       "      <td>0</td>\n",
       "      <td>1</td>\n",
       "      <td>0</td>\n",
       "      <td>2</td>\n",
       "    </tr>\n",
       "    <tr>\n",
       "      <th>INFP</th>\n",
       "      <td>0</td>\n",
       "      <td>0</td>\n",
       "      <td>0</td>\n",
       "      <td>33</td>\n",
       "      <td>8</td>\n",
       "      <td>0</td>\n",
       "      <td>2</td>\n",
       "      <td>0</td>\n",
       "      <td>102</td>\n",
       "      <td>408</td>\n",
       "      <td>10</td>\n",
       "      <td>2</td>\n",
       "      <td>0</td>\n",
       "      <td>1</td>\n",
       "      <td>0</td>\n",
       "      <td>0</td>\n",
       "    </tr>\n",
       "    <tr>\n",
       "      <th>INTJ</th>\n",
       "      <td>0</td>\n",
       "      <td>0</td>\n",
       "      <td>4</td>\n",
       "      <td>41</td>\n",
       "      <td>6</td>\n",
       "      <td>0</td>\n",
       "      <td>3</td>\n",
       "      <td>0</td>\n",
       "      <td>55</td>\n",
       "      <td>140</td>\n",
       "      <td>48</td>\n",
       "      <td>12</td>\n",
       "      <td>0</td>\n",
       "      <td>2</td>\n",
       "      <td>0</td>\n",
       "      <td>0</td>\n",
       "    </tr>\n",
       "    <tr>\n",
       "      <th>INTP</th>\n",
       "      <td>0</td>\n",
       "      <td>2</td>\n",
       "      <td>1</td>\n",
       "      <td>77</td>\n",
       "      <td>0</td>\n",
       "      <td>0</td>\n",
       "      <td>1</td>\n",
       "      <td>1</td>\n",
       "      <td>54</td>\n",
       "      <td>201</td>\n",
       "      <td>39</td>\n",
       "      <td>20</td>\n",
       "      <td>1</td>\n",
       "      <td>4</td>\n",
       "      <td>0</td>\n",
       "      <td>3</td>\n",
       "    </tr>\n",
       "    <tr>\n",
       "      <th>ISFJ</th>\n",
       "      <td>0</td>\n",
       "      <td>0</td>\n",
       "      <td>0</td>\n",
       "      <td>1</td>\n",
       "      <td>2</td>\n",
       "      <td>0</td>\n",
       "      <td>0</td>\n",
       "      <td>0</td>\n",
       "      <td>23</td>\n",
       "      <td>34</td>\n",
       "      <td>0</td>\n",
       "      <td>0</td>\n",
       "      <td>0</td>\n",
       "      <td>0</td>\n",
       "      <td>0</td>\n",
       "      <td>1</td>\n",
       "    </tr>\n",
       "    <tr>\n",
       "      <th>ISFP</th>\n",
       "      <td>0</td>\n",
       "      <td>0</td>\n",
       "      <td>0</td>\n",
       "      <td>3</td>\n",
       "      <td>0</td>\n",
       "      <td>0</td>\n",
       "      <td>1</td>\n",
       "      <td>1</td>\n",
       "      <td>18</td>\n",
       "      <td>57</td>\n",
       "      <td>2</td>\n",
       "      <td>0</td>\n",
       "      <td>0</td>\n",
       "      <td>1</td>\n",
       "      <td>0</td>\n",
       "      <td>1</td>\n",
       "    </tr>\n",
       "    <tr>\n",
       "      <th>ISTJ</th>\n",
       "      <td>0</td>\n",
       "      <td>1</td>\n",
       "      <td>0</td>\n",
       "      <td>15</td>\n",
       "      <td>0</td>\n",
       "      <td>1</td>\n",
       "      <td>1</td>\n",
       "      <td>0</td>\n",
       "      <td>16</td>\n",
       "      <td>30</td>\n",
       "      <td>4</td>\n",
       "      <td>2</td>\n",
       "      <td>0</td>\n",
       "      <td>0</td>\n",
       "      <td>0</td>\n",
       "      <td>0</td>\n",
       "    </tr>\n",
       "    <tr>\n",
       "      <th>ISTP</th>\n",
       "      <td>0</td>\n",
       "      <td>0</td>\n",
       "      <td>1</td>\n",
       "      <td>32</td>\n",
       "      <td>2</td>\n",
       "      <td>0</td>\n",
       "      <td>1</td>\n",
       "      <td>2</td>\n",
       "      <td>17</td>\n",
       "      <td>32</td>\n",
       "      <td>10</td>\n",
       "      <td>3</td>\n",
       "      <td>0</td>\n",
       "      <td>0</td>\n",
       "      <td>0</td>\n",
       "      <td>1</td>\n",
       "    </tr>\n",
       "  </tbody>\n",
       "</table>\n",
       "</div>"
      ],
      "text/plain": [
       "      predict_ENFJ  predict_ENFP  predict_ENTJ  predict_ENTP  predict_ESFJ  \\\n",
       "ENFJ             0             0             1             0             1   \n",
       "ENFP             0             2             1            21             2   \n",
       "ENTJ             0             0             1            14             2   \n",
       "ENTP             0             2             3            62             1   \n",
       "ESFJ             0             0             0             1             0   \n",
       "ESFP             0             0             0             3             0   \n",
       "ESTJ             0             1             2             2             1   \n",
       "ESTP             0             0             0             6             1   \n",
       "INFJ             0             0             0            29             3   \n",
       "INFP             0             0             0            33             8   \n",
       "INTJ             0             0             4            41             6   \n",
       "INTP             0             2             1            77             0   \n",
       "ISFJ             0             0             0             1             2   \n",
       "ISFP             0             0             0             3             0   \n",
       "ISTJ             0             1             0            15             0   \n",
       "ISTP             0             0             1            32             2   \n",
       "\n",
       "      predict_ESFP  predict_ESTJ  predict_ESTP  predict_INFJ  predict_INFP  \\\n",
       "ENFJ             0             0             0            18            33   \n",
       "ENFP             1             0             3            47           116   \n",
       "ENTJ             0             2             0            15            16   \n",
       "ENTP             0             3             1            35            80   \n",
       "ESFJ             0             0             0             5             4   \n",
       "ESFP             0             0             0             2             4   \n",
       "ESTJ             0             0             0             4             5   \n",
       "ESTP             0             0             1             3            12   \n",
       "INFJ             1             1             3           147           234   \n",
       "INFP             0             2             0           102           408   \n",
       "INTJ             0             3             0            55           140   \n",
       "INTP             0             1             1            54           201   \n",
       "ISFJ             0             0             0            23            34   \n",
       "ISFP             0             1             1            18            57   \n",
       "ISTJ             1             1             0            16            30   \n",
       "ISTP             0             1             2            17            32   \n",
       "\n",
       "      predict_INTJ  predict_INTP  predict_ISFJ  predict_ISFP  predict_ISTJ  \\\n",
       "ENFJ             2             0             0             1             0   \n",
       "ENFP             3             0             0             0             0   \n",
       "ENTJ             4             3             0             0             0   \n",
       "ENTP             8             5             0             0             0   \n",
       "ESFJ             0             0             0             0             0   \n",
       "ESFP             0             0             0             0             0   \n",
       "ESTJ             1             0             0             0             0   \n",
       "ESTP             0             0             0             1             0   \n",
       "INFJ            12             1             0             1             0   \n",
       "INFP            10             2             0             1             0   \n",
       "INTJ            48            12             0             2             0   \n",
       "INTP            39            20             1             4             0   \n",
       "ISFJ             0             0             0             0             0   \n",
       "ISFP             2             0             0             1             0   \n",
       "ISTJ             4             2             0             0             0   \n",
       "ISTP            10             3             0             0             0   \n",
       "\n",
       "      predict_ISTP  \n",
       "ENFJ             0  \n",
       "ENFP             0  \n",
       "ENTJ             1  \n",
       "ENTP             1  \n",
       "ESFJ             0  \n",
       "ESFP             0  \n",
       "ESTJ             1  \n",
       "ESTP             1  \n",
       "INFJ             2  \n",
       "INFP             0  \n",
       "INTJ             0  \n",
       "INTP             3  \n",
       "ISFJ             1  \n",
       "ISFP             1  \n",
       "ISTJ             0  \n",
       "ISTP             1  "
      ]
     },
     "execution_count": 12,
     "metadata": {},
     "output_type": "execute_result"
    }
   ],
   "source": [
    "# Convert confusion matrix to a dataframe to prepare it for heatmapping\n",
    "cm_ovrc = np.array(confusion_matrix(y_test, ovrc.predict(X_test_tsvd)))\n",
    "\n",
    "cm_onevsrest = pd.DataFrame(cm_ovrc, index=['ENFJ', 'ENFP', 'ENTJ', 'ENTP', 'ESFJ', 'ESFP',\n",
    "                                       'ESTJ', 'ESTP', 'INFJ', 'INFP', 'INTJ', 'INTP',\n",
    "                                       'ISFJ', 'ISFP', 'ISTJ', 'ISTP'], \n",
    "                            columns=['predict_ENFJ','predict_ENFP','predict_ENTJ',\n",
    "                                     'predict_ENTP','predict_ESFJ','predict_ESFP',\n",
    "                                     'predict_ESTJ','predict_ESTP','predict_INFJ',\n",
    "                                     'predict_INFP','predict_INTJ','predict_INTP',\n",
    "                                     'predict_ISFJ','predict_ISFP','predict_ISTJ',\n",
    "                                     'predict_ISTP'])\n",
    "cm_onevsrest"
   ]
  },
  {
   "cell_type": "code",
   "execution_count": 13,
   "metadata": {},
   "outputs": [
    {
     "data": {
      "image/png": "[encoded data removed]",
      "text/plain": [
       "<matplotlib.figure.Figure at 0x1a23b41470>"
      ]
     },
     "metadata": {},
     "output_type": "display_data"
    }
   ],
   "source": [
    "# Create confusion matrix heatmap of One vs. Rest model \n",
    "fig, ax = plt.subplots(figsize=(14,10)) \n",
    "plt.title('Confusion Matrix for One Vs Rest',\n",
    "          fontweight='bold', y=1.02, fontsize=16)\n",
    "sns.heatmap(cm_onevsrest, robust=True, annot=True, linewidth=0.5, \n",
    "            fmt='', cmap='RdBu_r', vmax=303, ax=ax)\n",
    "plt.yticks(rotation=0, fontsize=12)\n",
    "plt.xticks(fontsize=12);"
   ]
  },
  {
   "cell_type": "markdown",
   "metadata": {},
   "source": [
    "The heatmapped confusion matrix above shows that, like the other two models, the OneVsRest Classifier labels a majority of the cases as INFP or INFJ, the two most abundant classes in the dataset. However, there are predictions to the other classes as well, in particular the ENTP class. Notably, there are a number of false positives for the ENTP class, in which many members of the Introversion/Intuitive classes were misattributed as ENTP."
   ]
  },
  {
   "cell_type": "markdown",
   "metadata": {
    "collapsed": true
   },
   "source": [
    "---"
   ]
  },
  {
   "cell_type": "markdown",
   "metadata": {},
   "source": [
    "<a id='text-analysis'></a>\n",
    "### Sentiment Analysis and Word Count"
   ]
  },
  {
   "cell_type": "code",
   "execution_count": 9,
   "metadata": {
    "collapsed": true
   },
   "outputs": [
    {
     "data": {
      "text/html": [
       "<div>\n",
       "<style>\n",
       "    .dataframe thead tr:only-child th {\n",
       "        text-align: right;\n",
       "    }\n",
       "\n",
       "    .dataframe thead th {\n",
       "        text-align: left;\n",
       "    }\n",
       "\n",
       "    .dataframe tbody tr th {\n",
       "        vertical-align: top;\n",
       "    }\n",
       "</style>\n",
       "<table border=\"1\" class=\"dataframe\">\n",
       "  <thead>\n",
       "    <tr style=\"text-align: right;\">\n",
       "      <th></th>\n",
       "      <th>type</th>\n",
       "      <th>posts</th>\n",
       "      <th>I-E</th>\n",
       "      <th>N-S</th>\n",
       "      <th>T-F</th>\n",
       "      <th>J-P</th>\n",
       "    </tr>\n",
       "  </thead>\n",
       "  <tbody>\n",
       "    <tr>\n",
       "      <th>0</th>\n",
       "      <td>INFJ</td>\n",
       "      <td>'http://www.youtube.com/watch?v=qsXHcwe3krw|||...</td>\n",
       "      <td>Introversion</td>\n",
       "      <td>Intuition</td>\n",
       "      <td>Feeling</td>\n",
       "      <td>Judging</td>\n",
       "    </tr>\n",
       "    <tr>\n",
       "      <th>1</th>\n",
       "      <td>ENTP</td>\n",
       "      <td>'I'm finding the lack of me in these posts ver...</td>\n",
       "      <td>Extroversion</td>\n",
       "      <td>Intuition</td>\n",
       "      <td>Thinking</td>\n",
       "      <td>Perceiving</td>\n",
       "    </tr>\n",
       "    <tr>\n",
       "      <th>2</th>\n",
       "      <td>INTP</td>\n",
       "      <td>'Good one  _____   https://www.youtube.com/wat...</td>\n",
       "      <td>Introversion</td>\n",
       "      <td>Intuition</td>\n",
       "      <td>Thinking</td>\n",
       "      <td>Perceiving</td>\n",
       "    </tr>\n",
       "    <tr>\n",
       "      <th>3</th>\n",
       "      <td>INTJ</td>\n",
       "      <td>'Dear INTP,   I enjoyed our conversation the o...</td>\n",
       "      <td>Introversion</td>\n",
       "      <td>Intuition</td>\n",
       "      <td>Thinking</td>\n",
       "      <td>Judging</td>\n",
       "    </tr>\n",
       "    <tr>\n",
       "      <th>4</th>\n",
       "      <td>ENTJ</td>\n",
       "      <td>'You're fired.|||That's another silly misconce...</td>\n",
       "      <td>Extroversion</td>\n",
       "      <td>Intuition</td>\n",
       "      <td>Thinking</td>\n",
       "      <td>Judging</td>\n",
       "    </tr>\n",
       "  </tbody>\n",
       "</table>\n",
       "</div>"
      ],
      "text/plain": [
       "   type                                              posts           I-E  \\\n",
       "0  INFJ  'http://www.youtube.com/watch?v=qsXHcwe3krw|||...  Introversion   \n",
       "1  ENTP  'I'm finding the lack of me in these posts ver...  Extroversion   \n",
       "2  INTP  'Good one  _____   https://www.youtube.com/wat...  Introversion   \n",
       "3  INTJ  'Dear INTP,   I enjoyed our conversation the o...  Introversion   \n",
       "4  ENTJ  'You're fired.|||That's another silly misconce...  Extroversion   \n",
       "\n",
       "         N-S       T-F         J-P  \n",
       "0  Intuition   Feeling     Judging  \n",
       "1  Intuition  Thinking  Perceiving  \n",
       "2  Intuition  Thinking  Perceiving  \n",
       "3  Intuition  Thinking     Judging  \n",
       "4  Intuition  Thinking     Judging  "
      ]
     },
     "execution_count": 9,
     "metadata": {},
     "output_type": "execute_result"
    }
   ],
   "source": [
    "# View working dataframe head\n",
    "df_working.head()"
   ]
  },
  {
   "cell_type": "code",
   "execution_count": 14,
   "metadata": {
    "collapsed": true
   },
   "outputs": [
    {
     "data": {
      "text/html": [
       "<div>\n",
       "<style>\n",
       "    .dataframe thead tr:only-child th {\n",
       "        text-align: right;\n",
       "    }\n",
       "\n",
       "    .dataframe thead th {\n",
       "        text-align: left;\n",
       "    }\n",
       "\n",
       "    .dataframe tbody tr th {\n",
       "        vertical-align: top;\n",
       "    }\n",
       "</style>\n",
       "<table border=\"1\" class=\"dataframe\">\n",
       "  <thead>\n",
       "    <tr style=\"text-align: right;\">\n",
       "      <th></th>\n",
       "      <th>type</th>\n",
       "      <th>posts</th>\n",
       "      <th>I-E</th>\n",
       "      <th>N-S</th>\n",
       "      <th>T-F</th>\n",
       "      <th>J-P</th>\n",
       "      <th>posts_r</th>\n",
       "    </tr>\n",
       "  </thead>\n",
       "  <tbody>\n",
       "    <tr>\n",
       "      <th>0</th>\n",
       "      <td>INFJ</td>\n",
       "      <td>'http://www.youtube.com/watch?v=qsXHcwe3krw|||...</td>\n",
       "      <td>Introversion</td>\n",
       "      <td>Intuition</td>\n",
       "      <td>Feeling</td>\n",
       "      <td>Judging</td>\n",
       "      <td>'URL and intj moments  URL  sportscenter not t...</td>\n",
       "    </tr>\n",
       "    <tr>\n",
       "      <th>1</th>\n",
       "      <td>ENTP</td>\n",
       "      <td>'I'm finding the lack of me in these posts ver...</td>\n",
       "      <td>Extroversion</td>\n",
       "      <td>Intuition</td>\n",
       "      <td>Thinking</td>\n",
       "      <td>Perceiving</td>\n",
       "      <td>'I'm finding the lack of me in these posts ver...</td>\n",
       "    </tr>\n",
       "    <tr>\n",
       "      <th>2</th>\n",
       "      <td>INTP</td>\n",
       "      <td>'Good one  _____   https://www.youtube.com/wat...</td>\n",
       "      <td>Introversion</td>\n",
       "      <td>Intuition</td>\n",
       "      <td>Thinking</td>\n",
       "      <td>Perceiving</td>\n",
       "      <td>'Good one  _____   URL course, to which I say ...</td>\n",
       "    </tr>\n",
       "    <tr>\n",
       "      <th>3</th>\n",
       "      <td>INTJ</td>\n",
       "      <td>'Dear INTP,   I enjoyed our conversation the o...</td>\n",
       "      <td>Introversion</td>\n",
       "      <td>Intuition</td>\n",
       "      <td>Thinking</td>\n",
       "      <td>Judging</td>\n",
       "      <td>'Dear INTP,   I enjoyed our conversation the o...</td>\n",
       "    </tr>\n",
       "    <tr>\n",
       "      <th>4</th>\n",
       "      <td>ENTJ</td>\n",
       "      <td>'You're fired.|||That's another silly misconce...</td>\n",
       "      <td>Extroversion</td>\n",
       "      <td>Intuition</td>\n",
       "      <td>Thinking</td>\n",
       "      <td>Judging</td>\n",
       "      <td>'You're fired.|||That's another silly misconce...</td>\n",
       "    </tr>\n",
       "  </tbody>\n",
       "</table>\n",
       "</div>"
      ],
      "text/plain": [
       "   type                                              posts           I-E  \\\n",
       "0  INFJ  'http://www.youtube.com/watch?v=qsXHcwe3krw|||...  Introversion   \n",
       "1  ENTP  'I'm finding the lack of me in these posts ver...  Extroversion   \n",
       "2  INTP  'Good one  _____   https://www.youtube.com/wat...  Introversion   \n",
       "3  INTJ  'Dear INTP,   I enjoyed our conversation the o...  Introversion   \n",
       "4  ENTJ  'You're fired.|||That's another silly misconce...  Extroversion   \n",
       "\n",
       "         N-S       T-F         J-P  \\\n",
       "0  Intuition   Feeling     Judging   \n",
       "1  Intuition  Thinking  Perceiving   \n",
       "2  Intuition  Thinking  Perceiving   \n",
       "3  Intuition  Thinking     Judging   \n",
       "4  Intuition  Thinking     Judging   \n",
       "\n",
       "                                             posts_r  \n",
       "0  'URL and intj moments  URL  sportscenter not t...  \n",
       "1  'I'm finding the lack of me in these posts ver...  \n",
       "2  'Good one  _____   URL course, to which I say ...  \n",
       "3  'Dear INTP,   I enjoyed our conversation the o...  \n",
       "4  'You're fired.|||That's another silly misconce...  "
      ]
     },
     "execution_count": 14,
     "metadata": {},
     "output_type": "execute_result"
    }
   ],
   "source": [
    "# create new column with revised posts text\n",
    "df_working['posts_r'] = df_working['posts'].copy()\n",
    "\n",
    "# replaces post separators with empty space\n",
    "df_working['posts_r'] = df_working['posts'].apply(lambda x: x.replace('|||', ' '))\n",
    "\n",
    "# replace hyperlinks with 'URL'\n",
    "df_working['posts_r'] = df_working['posts'].apply(lambda x: re.sub\\\n",
    "                                                  (r'\\bhttps?:\\/\\/.*?[\\r\\n]*? ', 'URL ', x, flags=re.MULTILINE))\n",
    "\n",
    "df_working.head()"
   ]
  },
  {
   "cell_type": "markdown",
   "metadata": {},
   "source": [
    "<a id='length-of-post'></a>\n",
    "#### Length of Post"
   ]
  },
  {
   "cell_type": "code",
   "execution_count": 15,
   "metadata": {
    "collapsed": true
   },
   "outputs": [
    {
     "data": {
      "text/html": [
       "<div>\n",
       "<style>\n",
       "    .dataframe thead tr:only-child th {\n",
       "        text-align: right;\n",
       "    }\n",
       "\n",
       "    .dataframe thead th {\n",
       "        text-align: left;\n",
       "    }\n",
       "\n",
       "    .dataframe tbody tr th {\n",
       "        vertical-align: top;\n",
       "    }\n",
       "</style>\n",
       "<table border=\"1\" class=\"dataframe\">\n",
       "  <thead>\n",
       "    <tr style=\"text-align: right;\">\n",
       "      <th></th>\n",
       "      <th>type</th>\n",
       "      <th>posts</th>\n",
       "      <th>I-E</th>\n",
       "      <th>N-S</th>\n",
       "      <th>T-F</th>\n",
       "      <th>J-P</th>\n",
       "      <th>posts_r</th>\n",
       "      <th>total_words</th>\n",
       "      <th>avg_words_per_post</th>\n",
       "    </tr>\n",
       "  </thead>\n",
       "  <tbody>\n",
       "    <tr>\n",
       "      <th>0</th>\n",
       "      <td>INFJ</td>\n",
       "      <td>'http://www.youtube.com/watch?v=qsXHcwe3krw|||...</td>\n",
       "      <td>Introversion</td>\n",
       "      <td>Intuition</td>\n",
       "      <td>Feeling</td>\n",
       "      <td>Judging</td>\n",
       "      <td>'URL and intj moments  URL  sportscenter not t...</td>\n",
       "      <td>608</td>\n",
       "      <td>12.16</td>\n",
       "    </tr>\n",
       "    <tr>\n",
       "      <th>1</th>\n",
       "      <td>ENTP</td>\n",
       "      <td>'I'm finding the lack of me in these posts ver...</td>\n",
       "      <td>Extroversion</td>\n",
       "      <td>Intuition</td>\n",
       "      <td>Thinking</td>\n",
       "      <td>Perceiving</td>\n",
       "      <td>'I'm finding the lack of me in these posts ver...</td>\n",
       "      <td>1263</td>\n",
       "      <td>25.26</td>\n",
       "    </tr>\n",
       "    <tr>\n",
       "      <th>2</th>\n",
       "      <td>INTP</td>\n",
       "      <td>'Good one  _____   https://www.youtube.com/wat...</td>\n",
       "      <td>Introversion</td>\n",
       "      <td>Intuition</td>\n",
       "      <td>Thinking</td>\n",
       "      <td>Perceiving</td>\n",
       "      <td>'Good one  _____   URL course, to which I say ...</td>\n",
       "      <td>908</td>\n",
       "      <td>18.16</td>\n",
       "    </tr>\n",
       "    <tr>\n",
       "      <th>3</th>\n",
       "      <td>INTJ</td>\n",
       "      <td>'Dear INTP,   I enjoyed our conversation the o...</td>\n",
       "      <td>Introversion</td>\n",
       "      <td>Intuition</td>\n",
       "      <td>Thinking</td>\n",
       "      <td>Judging</td>\n",
       "      <td>'Dear INTP,   I enjoyed our conversation the o...</td>\n",
       "      <td>1162</td>\n",
       "      <td>23.24</td>\n",
       "    </tr>\n",
       "    <tr>\n",
       "      <th>4</th>\n",
       "      <td>ENTJ</td>\n",
       "      <td>'You're fired.|||That's another silly misconce...</td>\n",
       "      <td>Extroversion</td>\n",
       "      <td>Intuition</td>\n",
       "      <td>Thinking</td>\n",
       "      <td>Judging</td>\n",
       "      <td>'You're fired.|||That's another silly misconce...</td>\n",
       "      <td>1043</td>\n",
       "      <td>20.86</td>\n",
       "    </tr>\n",
       "  </tbody>\n",
       "</table>\n",
       "</div>"
      ],
      "text/plain": [
       "   type                                              posts           I-E  \\\n",
       "0  INFJ  'http://www.youtube.com/watch?v=qsXHcwe3krw|||...  Introversion   \n",
       "1  ENTP  'I'm finding the lack of me in these posts ver...  Extroversion   \n",
       "2  INTP  'Good one  _____   https://www.youtube.com/wat...  Introversion   \n",
       "3  INTJ  'Dear INTP,   I enjoyed our conversation the o...  Introversion   \n",
       "4  ENTJ  'You're fired.|||That's another silly misconce...  Extroversion   \n",
       "\n",
       "         N-S       T-F         J-P  \\\n",
       "0  Intuition   Feeling     Judging   \n",
       "1  Intuition  Thinking  Perceiving   \n",
       "2  Intuition  Thinking  Perceiving   \n",
       "3  Intuition  Thinking     Judging   \n",
       "4  Intuition  Thinking     Judging   \n",
       "\n",
       "                                             posts_r  total_words  \\\n",
       "0  'URL and intj moments  URL  sportscenter not t...          608   \n",
       "1  'I'm finding the lack of me in these posts ver...         1263   \n",
       "2  'Good one  _____   URL course, to which I say ...          908   \n",
       "3  'Dear INTP,   I enjoyed our conversation the o...         1162   \n",
       "4  'You're fired.|||That's another silly misconce...         1043   \n",
       "\n",
       "   avg_words_per_post  \n",
       "0               12.16  \n",
       "1               25.26  \n",
       "2               18.16  \n",
       "3               23.24  \n",
       "4               20.86  "
      ]
     },
     "execution_count": 15,
     "metadata": {},
     "output_type": "execute_result"
    }
   ],
   "source": [
    "# Add columns for the total number of words (across 50 posts), and average words per post\n",
    "df_working['total_words'] = df_working['posts_r'].apply(lambda x: len(re.findall(r'\\w+', x)))\n",
    "df_working['avg_words_per_post'] = df_working['total_words'] / 50\n",
    "df_working.head()"
   ]
  },
  {
   "cell_type": "code",
   "execution_count": 16,
   "metadata": {},
   "outputs": [
    {
     "data": {
      "text/plain": [
       "26.383808645533186"
      ]
     },
     "execution_count": 16,
     "metadata": {},
     "output_type": "execute_result"
    }
   ],
   "source": [
    "# Average length of post overall\n",
    "df_working['avg_words_per_post'].mean()"
   ]
  },
  {
   "cell_type": "markdown",
   "metadata": {},
   "source": [
    "Overall, the average post length is 26.4 words."
   ]
  },
  {
   "cell_type": "code",
   "execution_count": 17,
   "metadata": {
    "collapsed": true
   },
   "outputs": [
    {
     "data": {
      "text/plain": [
       "type\n",
       "ENFJ    27.615895\n",
       "ENFP    27.089067\n",
       "ENTJ    26.180433\n",
       "ENTP    26.014190\n",
       "ESFJ    27.753333\n",
       "ESFP    22.156250\n",
       "ESTJ    26.388718\n",
       "ESTP    25.037079\n",
       "INFJ    27.454381\n",
       "INFP    26.753384\n",
       "INTJ    25.682420\n",
       "INTP    25.817132\n",
       "ISFJ    26.746024\n",
       "ISFP    24.550996\n",
       "ISTJ    26.141561\n",
       "ISTP    25.181068\n",
       "Name: avg_words_per_post, dtype: float64"
      ]
     },
     "execution_count": 17,
     "metadata": {},
     "output_type": "execute_result"
    }
   ],
   "source": [
    "# Average length of post, by 16 types\n",
    "df_working['avg_words_per_post'].groupby(df_working['type']).mean()"
   ]
  },
  {
   "cell_type": "code",
   "execution_count": 46,
   "metadata": {},
   "outputs": [
    {
     "data": {
      "image/png": "[encoded data removed]",
      "text/plain": [
       "<matplotlib.figure.Figure at 0x1c1b892470>"
      ]
     },
     "metadata": {},
     "output_type": "display_data"
    }
   ],
   "source": [
    "# Bar graph of length of post, by 16 types\n",
    "dims1 = (15.0, 4.0)\n",
    "fig, ax = plt.subplots(figsize=dims1)\n",
    "coolwarm = sns.color_palette(\"coolwarm\", 16)\n",
    "sns.set_palette(coolwarm)\n",
    "sns.barplot(x=\"type\", y=\"avg_words_per_post\", data=df_working, \\\n",
    "              order=[\"ENFJ\",\"ENFP\",\"ENTJ\",\"ENTP\",\"ESFJ\",\"ESFP\",\"ESTJ\",\"ESTP\",\\\n",
    "                     \"INFJ\",\"INFP\",\"INTJ\",\"INTP\",\"ISFJ\",\"ISFP\",\"ISTJ\",\"ISTP\"]);\n",
    "plt.title(\"Avg. # of Words per Post, by Myers-Briggs Type\", fontsize=16)\n",
    "plt.xticks(fontsize=12)\n",
    "plt.yticks(fontsize=12);"
   ]
  },
  {
   "cell_type": "markdown",
   "metadata": {},
   "source": [
    "The bar chart above shows the average number of words per post does not vary widely across the personality types. (the Extrovert-Sensing types: ESFJ, ESFP, ESTJ, and ESTP have low base sizes and are subject to outlier values). "
   ]
  },
  {
   "cell_type": "code",
   "execution_count": 18,
   "metadata": {},
   "outputs": [
    {
     "data": {
      "text/plain": [
       "I-E\n",
       "Extroversion    26.456298\n",
       "Introversion    26.362103\n",
       "Name: avg_words_per_post, dtype: float64"
      ]
     },
     "execution_count": 18,
     "metadata": {},
     "output_type": "execute_result"
    }
   ],
   "source": [
    "# Average length of post, by Introversion (I) – Extroversion (E) axis\n",
    "df_working['avg_words_per_post'].groupby(df_working['I-E']).mean()"
   ]
  },
  {
   "cell_type": "code",
   "execution_count": 68,
   "metadata": {},
   "outputs": [
    {
     "data": {
      "text/plain": [
       "I-E\n",
       "Extroversion    6.327898\n",
       "Introversion    6.616431\n",
       "Name: avg_words_per_post, dtype: float64"
      ]
     },
     "execution_count": 68,
     "metadata": {},
     "output_type": "execute_result"
    }
   ],
   "source": [
    "# Calculation of standard deviation\n",
    "df_working['avg_words_per_post'].groupby(df_working['I-E']).std()"
   ]
  },
  {
   "cell_type": "markdown",
   "metadata": {},
   "source": [
    "A **p-value** of **0.05** will be used to determine the significance of t-test results."
   ]
  },
  {
   "cell_type": "code",
   "execution_count": 69,
   "metadata": {},
   "outputs": [
    {
     "data": {
      "text/plain": [
       "Ttest_indResult(statistic=0.56395469676227539, pvalue=0.57279954601325822)"
      ]
     },
     "execution_count": 69,
     "metadata": {},
     "output_type": "execute_result"
    }
   ],
   "source": [
    "# T-test on Introversion - Extroversion axis for average # words per post\n",
    "stats.ttest_ind_from_stats(mean1=26.456298, std1=6.327898, nobs1=1999, \n",
    "                           mean2=26.362103, std2=6.616431, nobs2=6676)"
   ]
  },
  {
   "cell_type": "markdown",
   "metadata": {},
   "source": [
    "The p-value of 0.573 is greater than 0.05, thus the difference is not significant."
   ]
  },
  {
   "cell_type": "code",
   "execution_count": 30,
   "metadata": {},
   "outputs": [
    {
     "data": {
      "image/png": "[encoded data removed]",
      "text/plain": [
       "<matplotlib.figure.Figure at 0x1a1d1617b8>"
      ]
     },
     "metadata": {},
     "output_type": "display_data"
    }
   ],
   "source": [
    "# Bar graph of length of post, by Introversion - Extroversion axis\n",
    "IEcolors = sns.xkcd_palette([\"red\", \"soft pink\"])\n",
    "sns.set_palette(IEcolors)\n",
    "sns.barplot(x=\"I-E\", y=\"avg_words_per_post\", data=df_working, order=[\"Introversion\", \"Extroversion\"])\n",
    "plt.title(\"Avg. # of Words per Post, by Introversion - Extroversion Axis\", fontsize=16)\n",
    "plt.xticks(fontsize=12)\n",
    "plt.yticks(fontsize=12);"
   ]
  },
  {
   "cell_type": "markdown",
   "metadata": {},
   "source": [
    "The bar chart above shows virtually no difference between Introverts and Extroverts in terms of the average number of words per post."
   ]
  },
  {
   "cell_type": "code",
   "execution_count": 16,
   "metadata": {},
   "outputs": [
    {
     "data": {
      "text/plain": [
       "N-S\n",
       "Intuition    26.538478\n",
       "Sensing      25.417544\n",
       "Name: avg_words_per_post, dtype: float64"
      ]
     },
     "execution_count": 16,
     "metadata": {},
     "output_type": "execute_result"
    }
   ],
   "source": [
    "# Average length of post, by Intuition (N) – Sensing (S) axis\n",
    "df_working['avg_words_per_post'].groupby(df_working['N-S']).mean()"
   ]
  },
  {
   "cell_type": "code",
   "execution_count": 66,
   "metadata": {},
   "outputs": [
    {
     "data": {
      "text/plain": [
       "N-S\n",
       "Intuition    6.435011\n",
       "Sensing      7.160158\n",
       "Name: avg_words_per_post, dtype: float64"
      ]
     },
     "execution_count": 66,
     "metadata": {},
     "output_type": "execute_result"
    }
   ],
   "source": [
    "# Calculation of standard deviations\n",
    "df_working['avg_words_per_post'].groupby(df_working['N-S']).std()"
   ]
  },
  {
   "cell_type": "code",
   "execution_count": 67,
   "metadata": {},
   "outputs": [
    {
     "data": {
      "text/plain": [
       "Ttest_indResult(statistic=5.5058115482901897, pvalue=3.7796225362733977e-08)"
      ]
     },
     "execution_count": 67,
     "metadata": {},
     "output_type": "execute_result"
    }
   ],
   "source": [
    "# T-test on Intuition - Sensing axis for average # words per post\n",
    "stats.ttest_ind_from_stats(mean1=26.538478, std1=6.435011, nobs1=7478, \n",
    "                           mean2=25.417544, std2=7.160158, nobs2=1197)"
   ]
  },
  {
   "cell_type": "markdown",
   "metadata": {},
   "source": [
    "The p-value of 3.78e-08 is lower than 0.05, thus the difference is significant."
   ]
  },
  {
   "cell_type": "code",
   "execution_count": 31,
   "metadata": {},
   "outputs": [
    {
     "data": {
      "image/png": "[encoded data removed]",
      "text/plain": [
       "<matplotlib.figure.Figure at 0x1a2379c978>"
      ]
     },
     "metadata": {},
     "output_type": "display_data"
    }
   ],
   "source": [
    "# Bar graph of length of post, by Intuition - Sensing axis\n",
    "NScolors = sns.xkcd_palette([\"blue\", \"light blue\"])\n",
    "sns.set_palette(NScolors)\n",
    "sns.barplot(x=\"N-S\", y=\"avg_words_per_post\", data=df_working, order=[\"Intuition\", \"Sensing\"])\n",
    "plt.title(\"Avg. # of Words per Post, by Intuition vs. Sensing Axis\", fontsize=16)\n",
    "plt.xticks(fontsize=12)\n",
    "plt.yticks(fontsize=12);"
   ]
  },
  {
   "cell_type": "markdown",
   "metadata": {},
   "source": [
    "The bar chart above and the t-test prior to that shows that subjects exhibiting higher Intuition traits tend to include more words per post than their Sensing counterparts."
   ]
  },
  {
   "cell_type": "code",
   "execution_count": 17,
   "metadata": {},
   "outputs": [
    {
     "data": {
      "text/plain": [
       "T-F\n",
       "Feeling     26.890622\n",
       "Thinking    25.786225\n",
       "Name: avg_words_per_post, dtype: float64"
      ]
     },
     "execution_count": 17,
     "metadata": {},
     "output_type": "execute_result"
    }
   ],
   "source": [
    "# Average length of post, by Thinking (T) – Feeling (F) axis\n",
    "df_working['avg_words_per_post'].groupby(df_working['T-F']).mean()"
   ]
  },
  {
   "cell_type": "code",
   "execution_count": 70,
   "metadata": {},
   "outputs": [
    {
     "data": {
      "text/plain": [
       "T-F\n",
       "Feeling     6.582796\n",
       "Thinking    6.462894\n",
       "Name: avg_words_per_post, dtype: float64"
      ]
     },
     "execution_count": 70,
     "metadata": {},
     "output_type": "execute_result"
    }
   ],
   "source": [
    "# Calculate standard deviation\n",
    "df_working['avg_words_per_post'].groupby(df_working['T-F']).std()"
   ]
  },
  {
   "cell_type": "code",
   "execution_count": 71,
   "metadata": {},
   "outputs": [
    {
     "data": {
      "text/plain": [
       "Ttest_indResult(statistic=7.8519014258342787, pvalue=4.5859900409214915e-15)"
      ]
     },
     "execution_count": 71,
     "metadata": {},
     "output_type": "execute_result"
    }
   ],
   "source": [
    "# T-test on Thinking-Feeling axis for average # words per post\n",
    "stats.ttest_ind_from_stats(mean1=26.890622, std1=6.582796, nobs1=4694, \n",
    "                           mean2=25.786225, std2=6.462894, nobs2=3981)"
   ]
  },
  {
   "cell_type": "markdown",
   "metadata": {},
   "source": [
    "The p-value of 4.59e-15 is lower than 0.05, thus the difference is significant."
   ]
  },
  {
   "cell_type": "code",
   "execution_count": 32,
   "metadata": {},
   "outputs": [
    {
     "data": {
      "image/png": "[encoded data removed]",
      "text/plain": [
       "<matplotlib.figure.Figure at 0x1a1f8ceef0>"
      ]
     },
     "metadata": {},
     "output_type": "display_data"
    }
   ],
   "source": [
    "# Bar graph of length of post, by Thinking vs. Feeling axis\n",
    "TFcolors = sns.xkcd_palette([\"green\", \"pale green\"])\n",
    "sns.set_palette(TFcolors)\n",
    "sns.barplot(x=\"T-F\", y=\"avg_words_per_post\", data=df_working, order=[\"Thinking\", \"Feeling\"])\n",
    "plt.title(\"Avg. # of Words per Post, by Thinking vs. Feeling Axis\", fontsize=16)\n",
    "plt.xticks(fontsize=12)\n",
    "plt.yticks(fontsize=12);"
   ]
  },
  {
   "cell_type": "markdown",
   "metadata": {},
   "source": [
    "The bar graph above and corresponding t-test show that subjects with the Feeling trait tend to use significantly more words per post than their Thinking counterparts."
   ]
  },
  {
   "cell_type": "code",
   "execution_count": 18,
   "metadata": {},
   "outputs": [
    {
     "data": {
      "text/plain": [
       "J-P\n",
       "Judging       26.693599\n",
       "Perceiving    26.180828\n",
       "Name: avg_words_per_post, dtype: float64"
      ]
     },
     "execution_count": 18,
     "metadata": {},
     "output_type": "execute_result"
    }
   ],
   "source": [
    "# Average length of post, by Judging (J) – Perceiving (P) axis\n",
    "df_working['avg_words_per_post'].groupby(df_working['J-P']).mean()"
   ]
  },
  {
   "cell_type": "code",
   "execution_count": 72,
   "metadata": {},
   "outputs": [
    {
     "data": {
      "text/plain": [
       "J-P\n",
       "Judging       6.604627\n",
       "Perceiving    6.507981\n",
       "Name: avg_words_per_post, dtype: float64"
      ]
     },
     "execution_count": 72,
     "metadata": {},
     "output_type": "execute_result"
    }
   ],
   "source": [
    "df_working['avg_words_per_post'].groupby(df_working['J-P']).std()"
   ]
  },
  {
   "cell_type": "code",
   "execution_count": 75,
   "metadata": {},
   "outputs": [
    {
     "data": {
      "text/plain": [
       "Ttest_indResult(statistic=3.5567980529272631, pvalue=0.00037740507727990511)"
      ]
     },
     "execution_count": 75,
     "metadata": {},
     "output_type": "execute_result"
    }
   ],
   "source": [
    "# T-test on Judging-Perceiving axis for average # words per post\n",
    "stats.ttest_ind_from_stats(mean1=26.693599, std1=6.604627, nobs1=5241, \n",
    "                           mean2=26.180828, std2=6.507981, nobs2=3434)"
   ]
  },
  {
   "cell_type": "markdown",
   "metadata": {},
   "source": [
    "The p-value of 0.000377 is lower than 0.05, thus the difference is significant."
   ]
  },
  {
   "cell_type": "code",
   "execution_count": 33,
   "metadata": {},
   "outputs": [
    {
     "data": {
      "image/png": "[encoded data removed]",
      "text/plain": [
       "<matplotlib.figure.Figure at 0x1a1befe358>"
      ]
     },
     "metadata": {},
     "output_type": "display_data"
    }
   ],
   "source": [
    "# Bar graph of length of post, by Judging - Perceiving axis\n",
    "JPcolors = sns.xkcd_palette([\"purple\", \"lavender\"])\n",
    "sns.set_palette(JPcolors)\n",
    "sns.barplot(x=\"J-P\", y=\"avg_words_per_post\", data=df_working, order=[\"Judging\", \"Perceiving\"])\n",
    "plt.title(\"Avg. # of Words per Post, by Judging vs. Perceiving Axis\", fontsize=16)\n",
    "plt.xticks(fontsize=12)\n",
    "plt.yticks(fontsize=12);"
   ]
  },
  {
   "cell_type": "markdown",
   "metadata": {},
   "source": [
    "The bar graph above and corresponding t-test show that subjects with the Judging trait tend to use significantly more words per post than their Perceiving counterparts."
   ]
  },
  {
   "cell_type": "markdown",
   "metadata": {},
   "source": [
    "<a id='polarity'></a>\n",
    "#### Polarity\n",
    "\n",
    "polarity (-1 to 1): scores closer to -1 are more negative in tone, closer to 0 are more neutral, and closer to 1 are more positive in tone."
   ]
  },
  {
   "cell_type": "code",
   "execution_count": 34,
   "metadata": {
    "collapsed": true
   },
   "outputs": [],
   "source": [
    "def polarity(text):\n",
    "    text = TextBlob(text)\n",
    "    return text.sentiment.polarity"
   ]
  },
  {
   "cell_type": "code",
   "execution_count": 35,
   "metadata": {
    "scrolled": true
   },
   "outputs": [
    {
     "data": {
      "text/html": [
       "<div>\n",
       "<style>\n",
       "    .dataframe thead tr:only-child th {\n",
       "        text-align: right;\n",
       "    }\n",
       "\n",
       "    .dataframe thead th {\n",
       "        text-align: left;\n",
       "    }\n",
       "\n",
       "    .dataframe tbody tr th {\n",
       "        vertical-align: top;\n",
       "    }\n",
       "</style>\n",
       "<table border=\"1\" class=\"dataframe\">\n",
       "  <thead>\n",
       "    <tr style=\"text-align: right;\">\n",
       "      <th></th>\n",
       "      <th>type</th>\n",
       "      <th>posts</th>\n",
       "      <th>I-E</th>\n",
       "      <th>N-S</th>\n",
       "      <th>T-F</th>\n",
       "      <th>J-P</th>\n",
       "      <th>posts_r</th>\n",
       "      <th>total_words</th>\n",
       "      <th>avg_words_per_post</th>\n",
       "      <th>polarity</th>\n",
       "    </tr>\n",
       "  </thead>\n",
       "  <tbody>\n",
       "    <tr>\n",
       "      <th>0</th>\n",
       "      <td>INFJ</td>\n",
       "      <td>'http://www.youtube.com/watch?v=qsXHcwe3krw|||...</td>\n",
       "      <td>Introversion</td>\n",
       "      <td>Intuition</td>\n",
       "      <td>Feeling</td>\n",
       "      <td>Judging</td>\n",
       "      <td>'URL and intj moments  URL  sportscenter not t...</td>\n",
       "      <td>608</td>\n",
       "      <td>12.16</td>\n",
       "      <td>0.145127</td>\n",
       "    </tr>\n",
       "    <tr>\n",
       "      <th>1</th>\n",
       "      <td>ENTP</td>\n",
       "      <td>'I'm finding the lack of me in these posts ver...</td>\n",
       "      <td>Extroversion</td>\n",
       "      <td>Intuition</td>\n",
       "      <td>Thinking</td>\n",
       "      <td>Perceiving</td>\n",
       "      <td>'I'm finding the lack of me in these posts ver...</td>\n",
       "      <td>1263</td>\n",
       "      <td>25.26</td>\n",
       "      <td>0.163282</td>\n",
       "    </tr>\n",
       "    <tr>\n",
       "      <th>2</th>\n",
       "      <td>INTP</td>\n",
       "      <td>'Good one  _____   https://www.youtube.com/wat...</td>\n",
       "      <td>Introversion</td>\n",
       "      <td>Intuition</td>\n",
       "      <td>Thinking</td>\n",
       "      <td>Perceiving</td>\n",
       "      <td>'Good one  _____   URL course, to which I say ...</td>\n",
       "      <td>908</td>\n",
       "      <td>18.16</td>\n",
       "      <td>0.174137</td>\n",
       "    </tr>\n",
       "    <tr>\n",
       "      <th>3</th>\n",
       "      <td>INTJ</td>\n",
       "      <td>'Dear INTP,   I enjoyed our conversation the o...</td>\n",
       "      <td>Introversion</td>\n",
       "      <td>Intuition</td>\n",
       "      <td>Thinking</td>\n",
       "      <td>Judging</td>\n",
       "      <td>'Dear INTP,   I enjoyed our conversation the o...</td>\n",
       "      <td>1162</td>\n",
       "      <td>23.24</td>\n",
       "      <td>0.114959</td>\n",
       "    </tr>\n",
       "    <tr>\n",
       "      <th>4</th>\n",
       "      <td>ENTJ</td>\n",
       "      <td>'You're fired.|||That's another silly misconce...</td>\n",
       "      <td>Extroversion</td>\n",
       "      <td>Intuition</td>\n",
       "      <td>Thinking</td>\n",
       "      <td>Judging</td>\n",
       "      <td>'You're fired.|||That's another silly misconce...</td>\n",
       "      <td>1043</td>\n",
       "      <td>20.86</td>\n",
       "      <td>0.056805</td>\n",
       "    </tr>\n",
       "  </tbody>\n",
       "</table>\n",
       "</div>"
      ],
      "text/plain": [
       "   type                                              posts           I-E  \\\n",
       "0  INFJ  'http://www.youtube.com/watch?v=qsXHcwe3krw|||...  Introversion   \n",
       "1  ENTP  'I'm finding the lack of me in these posts ver...  Extroversion   \n",
       "2  INTP  'Good one  _____   https://www.youtube.com/wat...  Introversion   \n",
       "3  INTJ  'Dear INTP,   I enjoyed our conversation the o...  Introversion   \n",
       "4  ENTJ  'You're fired.|||That's another silly misconce...  Extroversion   \n",
       "\n",
       "         N-S       T-F         J-P  \\\n",
       "0  Intuition   Feeling     Judging   \n",
       "1  Intuition  Thinking  Perceiving   \n",
       "2  Intuition  Thinking  Perceiving   \n",
       "3  Intuition  Thinking     Judging   \n",
       "4  Intuition  Thinking     Judging   \n",
       "\n",
       "                                             posts_r  total_words  \\\n",
       "0  'URL and intj moments  URL  sportscenter not t...          608   \n",
       "1  'I'm finding the lack of me in these posts ver...         1263   \n",
       "2  'Good one  _____   URL course, to which I say ...          908   \n",
       "3  'Dear INTP,   I enjoyed our conversation the o...         1162   \n",
       "4  'You're fired.|||That's another silly misconce...         1043   \n",
       "\n",
       "   avg_words_per_post  polarity  \n",
       "0               12.16  0.145127  \n",
       "1               25.26  0.163282  \n",
       "2               18.16  0.174137  \n",
       "3               23.24  0.114959  \n",
       "4               20.86  0.056805  "
      ]
     },
     "execution_count": 35,
     "metadata": {},
     "output_type": "execute_result"
    }
   ],
   "source": [
    "df_working['polarity'] = df_working['posts_r'].apply(polarity)\n",
    "df_working.head()"
   ]
  },
  {
   "cell_type": "code",
   "execution_count": 26,
   "metadata": {},
   "outputs": [
    {
     "data": {
      "text/plain": [
       "0.12514124976496832"
      ]
     },
     "execution_count": 26,
     "metadata": {},
     "output_type": "execute_result"
    }
   ],
   "source": [
    "# Average polarity of posts, overall\n",
    "df_working['polarity'].mean()"
   ]
  },
  {
   "cell_type": "code",
   "execution_count": 36,
   "metadata": {},
   "outputs": [
    {
     "data": {
      "text/plain": [
       "type\n",
       "ENFJ    0.159242\n",
       "ENFP    0.150337\n",
       "ENTJ    0.124221\n",
       "ENTP    0.120692\n",
       "ESFJ    0.143700\n",
       "ESFP    0.117940\n",
       "ESTJ    0.120155\n",
       "ESTP    0.120773\n",
       "INFJ    0.133165\n",
       "INFP    0.129265\n",
       "INTJ    0.112047\n",
       "INTP    0.105909\n",
       "ISFJ    0.135647\n",
       "ISFP    0.142539\n",
       "ISTJ    0.119585\n",
       "ISTP    0.109173\n",
       "Name: polarity, dtype: float64"
      ]
     },
     "execution_count": 36,
     "metadata": {},
     "output_type": "execute_result"
    }
   ],
   "source": [
    "# Average polarity of posts, by 16 types\n",
    "df_working['polarity'].groupby(df_working['type']).mean()"
   ]
  },
  {
   "cell_type": "code",
   "execution_count": 37,
   "metadata": {},
   "outputs": [
    {
     "data": {
      "image/png": "[encoded data removed]",
      "text/plain": [
       "<matplotlib.figure.Figure at 0x1a227f9fd0>"
      ]
     },
     "metadata": {},
     "output_type": "display_data"
    }
   ],
   "source": [
    "# Bar graph of polarity, by 16 types\n",
    "dims1 = (15.0, 4.0)\n",
    "fig, ax = plt.subplots(figsize=dims1)\n",
    "coolwarm = sns.color_palette(\"coolwarm\", 16)\n",
    "sns.set_palette(coolwarm)\n",
    "sns.barplot(x=\"type\", y=\"polarity\", data=df_working, \\\n",
    "              order=[\"ENFJ\",\"ENFP\",\"ENTJ\",\"ENTP\",\"ESFJ\",\"ESFP\",\"ESTJ\",\"ESTP\",\\\n",
    "                     \"INFJ\",\"INFP\",\"INTJ\",\"INTP\",\"ISFJ\",\"ISFP\",\"ISTJ\",\"ISTP\"])\n",
    "plt.title(\"Polarity of Posts, by Myers-Briggs Type\", fontsize=16)\n",
    "plt.ylim(-1, 1)\n",
    "plt.xticks(fontsize=12)\n",
    "plt.yticks(fontsize=12);"
   ]
  },
  {
   "cell_type": "code",
   "execution_count": 28,
   "metadata": {},
   "outputs": [
    {
     "data": {
      "text/plain": [
       "I-E\n",
       "Extroversion    0.135184\n",
       "Introversion    0.122134\n",
       "Name: polarity, dtype: float64"
      ]
     },
     "execution_count": 28,
     "metadata": {},
     "output_type": "execute_result"
    }
   ],
   "source": [
    "# Average polarity of posts, by Introversion (I) – Extroversion (E) axis\n",
    "df_working['polarity'].groupby(df_working['I-E']).mean()"
   ]
  },
  {
   "cell_type": "code",
   "execution_count": 76,
   "metadata": {},
   "outputs": [
    {
     "data": {
      "text/plain": [
       "I-E\n",
       "Extroversion    0.060394\n",
       "Introversion    0.060099\n",
       "Name: polarity, dtype: float64"
      ]
     },
     "execution_count": 76,
     "metadata": {},
     "output_type": "execute_result"
    }
   ],
   "source": [
    "# Calculate standard deviation\n",
    "df_working['polarity'].groupby(df_working['I-E']).std()"
   ]
  },
  {
   "cell_type": "code",
   "execution_count": 80,
   "metadata": {},
   "outputs": [
    {
     "data": {
      "text/plain": [
       "Ttest_indResult(statistic=8.5070961724423508, pvalue=2.0809156083855346e-17)"
      ]
     },
     "execution_count": 80,
     "metadata": {},
     "output_type": "execute_result"
    }
   ],
   "source": [
    "# T-test on Introversion - Extroversion axis for polarity\n",
    "stats.ttest_ind_from_stats(mean1=0.135184, std1=0.060394, nobs1=1999, \n",
    "                           mean2=0.122134, std2=0.060099, nobs2=6676)"
   ]
  },
  {
   "cell_type": "markdown",
   "metadata": {},
   "source": [
    "The p-value is lower than 0.05, thus the difference is significant."
   ]
  },
  {
   "cell_type": "code",
   "execution_count": 38,
   "metadata": {},
   "outputs": [
    {
     "data": {
      "image/png": "[encoded data removed]",
      "text/plain": [
       "<matplotlib.figure.Figure at 0x1a2373fd30>"
      ]
     },
     "metadata": {},
     "output_type": "display_data"
    }
   ],
   "source": [
    "# Bar graph of polarity of posts, by Introversion - Extroversion axis\n",
    "IEcolors = sns.xkcd_palette([\"red\", \"soft pink\"])\n",
    "sns.set_palette(IEcolors)\n",
    "sns.barplot(x=\"I-E\", y=\"polarity\", data=df_working, order=[\"Introversion\", \"Extroversion\"])\n",
    "plt.title(\"Polarity of Posts, by Introversion - Extroversion Axis\", fontsize=16)\n",
    "plt.ylim(-1, 1)\n",
    "plt.xticks(fontsize=12)\n",
    "plt.yticks(fontsize=12);"
   ]
  },
  {
   "cell_type": "markdown",
   "metadata": {},
   "source": [
    "The bar graph above and corresponding t-test show that Extroverts have a significantly higher positive polarity in tone compared to Introverts, but for both groups the tone is relatively neutral."
   ]
  },
  {
   "cell_type": "code",
   "execution_count": 39,
   "metadata": {},
   "outputs": [
    {
     "data": {
      "text/plain": [
       "N-S\n",
       "Intuition    0.125169\n",
       "Sensing      0.124965\n",
       "Name: polarity, dtype: float64"
      ]
     },
     "execution_count": 39,
     "metadata": {},
     "output_type": "execute_result"
    }
   ],
   "source": [
    "# Average polarity of posts, by Intuition (N) – Sensing (S) axis\n",
    "df_working['polarity'].groupby(df_working['N-S']).mean()"
   ]
  },
  {
   "cell_type": "code",
   "execution_count": 77,
   "metadata": {},
   "outputs": [
    {
     "data": {
      "text/plain": [
       "N-S\n",
       "Intuition    0.058632\n",
       "Sensing      0.070561\n",
       "Name: polarity, dtype: float64"
      ]
     },
     "execution_count": 77,
     "metadata": {},
     "output_type": "execute_result"
    }
   ],
   "source": [
    "# Calculate standard deviation\n",
    "df_working['polarity'].groupby(df_working['N-S']).std()"
   ]
  },
  {
   "cell_type": "code",
   "execution_count": 81,
   "metadata": {},
   "outputs": [
    {
     "data": {
      "text/plain": [
       "Ttest_indResult(statistic=0.10846131975162131, pvalue=0.91363227084567633)"
      ]
     },
     "execution_count": 81,
     "metadata": {},
     "output_type": "execute_result"
    }
   ],
   "source": [
    "# T-test on Intuition - Sensing axis for polarity\n",
    "stats.ttest_ind_from_stats(mean1=0.125169, std1=0.058632, nobs1=7478, \n",
    "                           mean2=0.124965, std2=0.070561, nobs2=1197)"
   ]
  },
  {
   "cell_type": "markdown",
   "metadata": {},
   "source": [
    "The p-value is greater than 0.05, thus the difference is not significant."
   ]
  },
  {
   "cell_type": "code",
   "execution_count": 40,
   "metadata": {},
   "outputs": [
    {
     "data": {
      "image/png": "[encoded data removed]",
      "text/plain": [
       "<matplotlib.figure.Figure at 0x1174db550>"
      ]
     },
     "metadata": {},
     "output_type": "display_data"
    }
   ],
   "source": [
    "# Bar graph of polarity of posts, by Intuition - Sensing axis\n",
    "NScolors = sns.xkcd_palette([\"blue\", \"light blue\"])\n",
    "sns.set_palette(NScolors)\n",
    "sns.barplot(x=\"N-S\", y=\"polarity\", data=df_working, order=[\"Intuition\", \"Sensing\"])\n",
    "plt.title(\"Polarity of Posts, by Intuition vs. Sensing Axis\", fontsize=16)\n",
    "plt.ylim(-1, 1)\n",
    "plt.xticks(fontsize=12)\n",
    "plt.yticks(fontsize=12);"
   ]
  },
  {
   "cell_type": "markdown",
   "metadata": {},
   "source": [
    "The bar graph above and corresponding t-test show no significant difference in polarity between subjects higher in Intuition vs. Sensing, and for both groups the tone is relatively neutral."
   ]
  },
  {
   "cell_type": "code",
   "execution_count": 41,
   "metadata": {},
   "outputs": [
    {
     "data": {
      "text/plain": [
       "T-F\n",
       "Feeling     0.135736\n",
       "Thinking    0.112649\n",
       "Name: polarity, dtype: float64"
      ]
     },
     "execution_count": 41,
     "metadata": {},
     "output_type": "execute_result"
    }
   ],
   "source": [
    "# Average polarity of posts, by Thinking (T) – Feeling (F) axis\n",
    "df_working['polarity'].groupby(df_working['T-F']).mean()"
   ]
  },
  {
   "cell_type": "code",
   "execution_count": 78,
   "metadata": {},
   "outputs": [
    {
     "data": {
      "text/plain": [
       "T-F\n",
       "Feeling     0.061302\n",
       "Thinking    0.056876\n",
       "Name: polarity, dtype: float64"
      ]
     },
     "execution_count": 78,
     "metadata": {},
     "output_type": "execute_result"
    }
   ],
   "source": [
    "# Calculate standard deviation\n",
    "df_working['polarity'].groupby(df_working['T-F']).std()"
   ]
  },
  {
   "cell_type": "code",
   "execution_count": 82,
   "metadata": {},
   "outputs": [
    {
     "data": {
      "text/plain": [
       "Ttest_indResult(statistic=18.065841611756031, pvalue=1.2060525809690623e-71)"
      ]
     },
     "execution_count": 82,
     "metadata": {},
     "output_type": "execute_result"
    }
   ],
   "source": [
    "# T-test on Thinking-Feeling axis for polarity\n",
    "stats.ttest_ind_from_stats(mean1=0.135736, std1=0.061302, nobs1=4694, \n",
    "                           mean2=0.112649, std2=0.056876, nobs2=3981)"
   ]
  },
  {
   "cell_type": "markdown",
   "metadata": {},
   "source": [
    "The p-value is less than 0.05, thus the difference is significant."
   ]
  },
  {
   "cell_type": "code",
   "execution_count": 42,
   "metadata": {},
   "outputs": [
    {
     "data": {
      "image/png": "[encoded data removed]",
      "text/plain": [
       "<matplotlib.figure.Figure at 0x1174db5c0>"
      ]
     },
     "metadata": {},
     "output_type": "display_data"
    }
   ],
   "source": [
    "# Bar graph of polarity of posts, by Thinking vs. Feeling axis\n",
    "TFcolors = sns.xkcd_palette([\"green\", \"pale green\"])\n",
    "sns.set_palette(TFcolors)\n",
    "sns.barplot(x=\"T-F\", y=\"polarity\", data=df_working, order=[\"Thinking\", \"Feeling\"])\n",
    "plt.title(\"Polarity of Posts, by Thinking vs. Feeling Axis\", fontsize=16)\n",
    "plt.ylim(-1, 1)\n",
    "plt.xticks(fontsize=12)\n",
    "plt.yticks(fontsize=12);"
   ]
  },
  {
   "cell_type": "markdown",
   "metadata": {},
   "source": [
    "The bar graph above and corresponding t-test show that subjects on the Feeling side of the axis have a significantly higher positive polarity in tone compared to those on the Thinking side, but for both groups the tone is relatively neutral."
   ]
  },
  {
   "cell_type": "code",
   "execution_count": 43,
   "metadata": {},
   "outputs": [
    {
     "data": {
      "text/plain": [
       "J-P\n",
       "Judging       0.126587\n",
       "Perceiving    0.124194\n",
       "Name: polarity, dtype: float64"
      ]
     },
     "execution_count": 43,
     "metadata": {},
     "output_type": "execute_result"
    }
   ],
   "source": [
    "# Average polarity of posts, by Judging (J) – Perceiving (P) axis\n",
    "df_working['polarity'].groupby(df_working['J-P']).mean()"
   ]
  },
  {
   "cell_type": "code",
   "execution_count": 79,
   "metadata": {},
   "outputs": [
    {
     "data": {
      "text/plain": [
       "J-P\n",
       "Judging       0.060256\n",
       "Perceiving    0.060504\n",
       "Name: polarity, dtype: float64"
      ]
     },
     "execution_count": 79,
     "metadata": {},
     "output_type": "execute_result"
    }
   ],
   "source": [
    "# Calculate standard deviation\n",
    "df_working['polarity'].groupby(df_working['J-P']).std()"
   ]
  },
  {
   "cell_type": "code",
   "execution_count": 83,
   "metadata": {},
   "outputs": [
    {
     "data": {
      "text/plain": [
       "Ttest_indResult(statistic=1.8059555647452703, pvalue=0.070959935414583591)"
      ]
     },
     "execution_count": 83,
     "metadata": {},
     "output_type": "execute_result"
    }
   ],
   "source": [
    "# T-test on Judging-Perceiving axis for polarity\n",
    "stats.ttest_ind_from_stats(mean1=0.126587, std1=0.060256, nobs1=5241, \n",
    "                           mean2=0.124194, std2=0.060504, nobs2=3434)"
   ]
  },
  {
   "cell_type": "markdown",
   "metadata": {},
   "source": [
    "The p-value is larger than 0.05, thus the difference is not significant."
   ]
  },
  {
   "cell_type": "code",
   "execution_count": 44,
   "metadata": {},
   "outputs": [
    {
     "data": {
      "image/png": "[encoded data removed]",
      "text/plain": [
       "<matplotlib.figure.Figure at 0x1a229ad198>"
      ]
     },
     "metadata": {},
     "output_type": "display_data"
    }
   ],
   "source": [
    "# Bar graph of polarity of posts, by Judging - Perceiving axis\n",
    "JPcolors = sns.xkcd_palette([\"purple\", \"lavender\"])\n",
    "sns.set_palette(JPcolors)\n",
    "sns.barplot(x=\"J-P\", y=\"polarity\", data=df_working, order=[\"Judging\", \"Perceiving\"])\n",
    "plt.title(\"Polarity of Posts, by Judging vs. Perceiving Axis\", fontsize=16)\n",
    "plt.ylim(-1, 1)\n",
    "plt.xticks(fontsize=12)\n",
    "plt.yticks(fontsize=12);"
   ]
  },
  {
   "cell_type": "markdown",
   "metadata": {},
   "source": [
    "The bar graph above and corresponding t-test show no significant differences in terms of polarity for Judgers or Perceivers."
   ]
  },
  {
   "cell_type": "markdown",
   "metadata": {},
   "source": [
    "<a id='subjectivity'></a>\n",
    "#### Subjectivity\n",
    "\n",
    "subjectivity (0 to 1): scores closer to 0 are more objective in tone, scores closer to 1 are more subjective in tone"
   ]
  },
  {
   "cell_type": "code",
   "execution_count": 45,
   "metadata": {
    "collapsed": true
   },
   "outputs": [],
   "source": [
    "def subjectivity(text):\n",
    "    text = TextBlob(text)\n",
    "    return text.sentiment.subjectivity"
   ]
  },
  {
   "cell_type": "code",
   "execution_count": 46,
   "metadata": {
    "collapsed": true
   },
   "outputs": [
    {
     "data": {
      "text/html": [
       "<div>\n",
       "<style>\n",
       "    .dataframe thead tr:only-child th {\n",
       "        text-align: right;\n",
       "    }\n",
       "\n",
       "    .dataframe thead th {\n",
       "        text-align: left;\n",
       "    }\n",
       "\n",
       "    .dataframe tbody tr th {\n",
       "        vertical-align: top;\n",
       "    }\n",
       "</style>\n",
       "<table border=\"1\" class=\"dataframe\">\n",
       "  <thead>\n",
       "    <tr style=\"text-align: right;\">\n",
       "      <th></th>\n",
       "      <th>type</th>\n",
       "      <th>posts</th>\n",
       "      <th>I-E</th>\n",
       "      <th>N-S</th>\n",
       "      <th>T-F</th>\n",
       "      <th>J-P</th>\n",
       "      <th>posts_r</th>\n",
       "      <th>total_words</th>\n",
       "      <th>avg_words_per_post</th>\n",
       "      <th>polarity</th>\n",
       "      <th>subjectivity</th>\n",
       "    </tr>\n",
       "  </thead>\n",
       "  <tbody>\n",
       "    <tr>\n",
       "      <th>0</th>\n",
       "      <td>INFJ</td>\n",
       "      <td>'http://www.youtube.com/watch?v=qsXHcwe3krw|||...</td>\n",
       "      <td>Introversion</td>\n",
       "      <td>Intuition</td>\n",
       "      <td>Feeling</td>\n",
       "      <td>Judging</td>\n",
       "      <td>'URL and intj moments  URL  sportscenter not t...</td>\n",
       "      <td>608</td>\n",
       "      <td>12.16</td>\n",
       "      <td>0.145127</td>\n",
       "      <td>0.469713</td>\n",
       "    </tr>\n",
       "    <tr>\n",
       "      <th>1</th>\n",
       "      <td>ENTP</td>\n",
       "      <td>'I'm finding the lack of me in these posts ver...</td>\n",
       "      <td>Extroversion</td>\n",
       "      <td>Intuition</td>\n",
       "      <td>Thinking</td>\n",
       "      <td>Perceiving</td>\n",
       "      <td>'I'm finding the lack of me in these posts ver...</td>\n",
       "      <td>1263</td>\n",
       "      <td>25.26</td>\n",
       "      <td>0.163282</td>\n",
       "      <td>0.545346</td>\n",
       "    </tr>\n",
       "    <tr>\n",
       "      <th>2</th>\n",
       "      <td>INTP</td>\n",
       "      <td>'Good one  _____   https://www.youtube.com/wat...</td>\n",
       "      <td>Introversion</td>\n",
       "      <td>Intuition</td>\n",
       "      <td>Thinking</td>\n",
       "      <td>Perceiving</td>\n",
       "      <td>'Good one  _____   URL course, to which I say ...</td>\n",
       "      <td>908</td>\n",
       "      <td>18.16</td>\n",
       "      <td>0.174137</td>\n",
       "      <td>0.618252</td>\n",
       "    </tr>\n",
       "    <tr>\n",
       "      <th>3</th>\n",
       "      <td>INTJ</td>\n",
       "      <td>'Dear INTP,   I enjoyed our conversation the o...</td>\n",
       "      <td>Introversion</td>\n",
       "      <td>Intuition</td>\n",
       "      <td>Thinking</td>\n",
       "      <td>Judging</td>\n",
       "      <td>'Dear INTP,   I enjoyed our conversation the o...</td>\n",
       "      <td>1162</td>\n",
       "      <td>23.24</td>\n",
       "      <td>0.114959</td>\n",
       "      <td>0.524975</td>\n",
       "    </tr>\n",
       "    <tr>\n",
       "      <th>4</th>\n",
       "      <td>ENTJ</td>\n",
       "      <td>'You're fired.|||That's another silly misconce...</td>\n",
       "      <td>Extroversion</td>\n",
       "      <td>Intuition</td>\n",
       "      <td>Thinking</td>\n",
       "      <td>Judging</td>\n",
       "      <td>'You're fired.|||That's another silly misconce...</td>\n",
       "      <td>1043</td>\n",
       "      <td>20.86</td>\n",
       "      <td>0.056805</td>\n",
       "      <td>0.526430</td>\n",
       "    </tr>\n",
       "  </tbody>\n",
       "</table>\n",
       "</div>"
      ],
      "text/plain": [
       "   type                                              posts           I-E  \\\n",
       "0  INFJ  'http://www.youtube.com/watch?v=qsXHcwe3krw|||...  Introversion   \n",
       "1  ENTP  'I'm finding the lack of me in these posts ver...  Extroversion   \n",
       "2  INTP  'Good one  _____   https://www.youtube.com/wat...  Introversion   \n",
       "3  INTJ  'Dear INTP,   I enjoyed our conversation the o...  Introversion   \n",
       "4  ENTJ  'You're fired.|||That's another silly misconce...  Extroversion   \n",
       "\n",
       "         N-S       T-F         J-P  \\\n",
       "0  Intuition   Feeling     Judging   \n",
       "1  Intuition  Thinking  Perceiving   \n",
       "2  Intuition  Thinking  Perceiving   \n",
       "3  Intuition  Thinking     Judging   \n",
       "4  Intuition  Thinking     Judging   \n",
       "\n",
       "                                             posts_r  total_words  \\\n",
       "0  'URL and intj moments  URL  sportscenter not t...          608   \n",
       "1  'I'm finding the lack of me in these posts ver...         1263   \n",
       "2  'Good one  _____   URL course, to which I say ...          908   \n",
       "3  'Dear INTP,   I enjoyed our conversation the o...         1162   \n",
       "4  'You're fired.|||That's another silly misconce...         1043   \n",
       "\n",
       "   avg_words_per_post  polarity  subjectivity  \n",
       "0               12.16  0.145127      0.469713  \n",
       "1               25.26  0.163282      0.545346  \n",
       "2               18.16  0.174137      0.618252  \n",
       "3               23.24  0.114959      0.524975  \n",
       "4               20.86  0.056805      0.526430  "
      ]
     },
     "execution_count": 46,
     "metadata": {},
     "output_type": "execute_result"
    }
   ],
   "source": [
    "df_working['subjectivity'] = df_working['posts_r'].apply(subjectivity)\n",
    "df_working.head()"
   ]
  },
  {
   "cell_type": "code",
   "execution_count": 47,
   "metadata": {},
   "outputs": [
    {
     "data": {
      "text/plain": [
       "0.5350261671156729"
      ]
     },
     "execution_count": 47,
     "metadata": {},
     "output_type": "execute_result"
    }
   ],
   "source": [
    "# Average subjectivity of posts, overall\n",
    "df_working['subjectivity'].mean()"
   ]
  },
  {
   "cell_type": "code",
   "execution_count": 48,
   "metadata": {},
   "outputs": [
    {
     "data": {
      "text/plain": [
       "type\n",
       "ENFJ    0.550689\n",
       "ENFP    0.553359\n",
       "ENTJ    0.531874\n",
       "ENTP    0.535292\n",
       "ESFJ    0.540216\n",
       "ESFP    0.545247\n",
       "ESTJ    0.526994\n",
       "ESTP    0.533286\n",
       "INFJ    0.536921\n",
       "INFP    0.541401\n",
       "INTJ    0.524498\n",
       "INTP    0.523982\n",
       "ISFJ    0.546143\n",
       "ISFP    0.542608\n",
       "ISTJ    0.518897\n",
       "ISTP    0.522522\n",
       "Name: subjectivity, dtype: float64"
      ]
     },
     "execution_count": 48,
     "metadata": {},
     "output_type": "execute_result"
    }
   ],
   "source": [
    "# Average subjectivity of posts, by 16 types\n",
    "df_working['subjectivity'].groupby(df_working['type']).mean()"
   ]
  },
  {
   "cell_type": "code",
   "execution_count": 49,
   "metadata": {},
   "outputs": [
    {
     "data": {
      "image/png": "[encoded data removed]",
      "text/plain": [
       "<matplotlib.figure.Figure at 0x117d2c1d0>"
      ]
     },
     "metadata": {},
     "output_type": "display_data"
    }
   ],
   "source": [
    "# Bar graph of subjectivity, by 16 types\n",
    "dims1 = (15.0, 4.0)\n",
    "fig, ax = plt.subplots(figsize=dims1)\n",
    "coolwarm = sns.color_palette(\"coolwarm\", 16)\n",
    "sns.set_palette(coolwarm)\n",
    "sns.barplot(x=\"type\", y=\"subjectivity\", data=df_working, \\\n",
    "              order=[\"ENFJ\",\"ENFP\",\"ENTJ\",\"ENTP\",\"ESFJ\",\"ESFP\",\"ESTJ\",\"ESTP\",\\\n",
    "                     \"INFJ\",\"INFP\",\"INTJ\",\"INTP\",\"ISFJ\",\"ISFP\",\"ISTJ\",\"ISTP\"])\n",
    "plt.title(\"Subjectivity of Posts, by Myers-Briggs Type\", fontsize=16)\n",
    "plt.ylim(0, 1)\n",
    "plt.xticks(fontsize=12)\n",
    "plt.yticks(fontsize=12);"
   ]
  },
  {
   "cell_type": "code",
   "execution_count": 50,
   "metadata": {},
   "outputs": [
    {
     "data": {
      "text/plain": [
       "I-E\n",
       "Extroversion    0.542552\n",
       "Introversion    0.532773\n",
       "Name: subjectivity, dtype: float64"
      ]
     },
     "execution_count": 50,
     "metadata": {},
     "output_type": "execute_result"
    }
   ],
   "source": [
    "# Average subjectivity of posts, by Introversion (I) – Extroversion (E) axis\n",
    "df_working['subjectivity'].groupby(df_working['I-E']).mean()"
   ]
  },
  {
   "cell_type": "code",
   "execution_count": 84,
   "metadata": {},
   "outputs": [
    {
     "data": {
      "text/plain": [
       "I-E\n",
       "Extroversion    0.044716\n",
       "Introversion    0.045620\n",
       "Name: subjectivity, dtype: float64"
      ]
     },
     "execution_count": 84,
     "metadata": {},
     "output_type": "execute_result"
    }
   ],
   "source": [
    "# Calculate standard deviation\n",
    "df_working['subjectivity'].groupby(df_working['I-E']).std()"
   ]
  },
  {
   "cell_type": "code",
   "execution_count": 88,
   "metadata": {},
   "outputs": [
    {
     "data": {
      "text/plain": [
       "Ttest_indResult(statistic=8.445800423762277, pvalue=3.5081633540844689e-17)"
      ]
     },
     "execution_count": 88,
     "metadata": {},
     "output_type": "execute_result"
    }
   ],
   "source": [
    "# T-test on Introversion - Extroversion axis for subjectivity\n",
    "stats.ttest_ind_from_stats(mean1=0.542552, std1=0.044716, nobs1=1999, \n",
    "                           mean2=0.532773, std2=0.045620, nobs2=6676)"
   ]
  },
  {
   "cell_type": "markdown",
   "metadata": {},
   "source": [
    "The p-value is lower than 0.05, thus the difference is significant."
   ]
  },
  {
   "cell_type": "code",
   "execution_count": 51,
   "metadata": {},
   "outputs": [
    {
     "data": {
      "image/png": "[encoded data removed]",
      "text/plain": [
       "<matplotlib.figure.Figure at 0x117d2ceb8>"
      ]
     },
     "metadata": {},
     "output_type": "display_data"
    }
   ],
   "source": [
    "# Bar graph of subjectivity of posts, by Introversion - Extroversion axis\n",
    "IEcolors = sns.xkcd_palette([\"red\", \"soft pink\"])\n",
    "sns.set_palette(IEcolors)\n",
    "sns.barplot(x=\"I-E\", y=\"subjectivity\", data=df_working, order=[\"Introversion\", \"Extroversion\"])\n",
    "plt.title(\"Subjectivity of Posts, by Introversion - Extroversion Axis\", fontsize=16)\n",
    "plt.ylim(0, 1)\n",
    "plt.xticks(fontsize=12)\n",
    "plt.yticks(fontsize=12);"
   ]
  },
  {
   "cell_type": "markdown",
   "metadata": {},
   "source": [
    "The bar graph and associated t-test show that the posts of Introverts have a significantly higher subjectivity than those of Extroverts, but both groups are relatively moderate."
   ]
  },
  {
   "cell_type": "code",
   "execution_count": 52,
   "metadata": {},
   "outputs": [
    {
     "data": {
      "text/plain": [
       "N-S\n",
       "Intuition    0.535478\n",
       "Sensing      0.532202\n",
       "Name: subjectivity, dtype: float64"
      ]
     },
     "execution_count": 52,
     "metadata": {},
     "output_type": "execute_result"
    }
   ],
   "source": [
    "# Average subjectivity of posts, by Intuition (N) – Sensing (S) axis\n",
    "df_working['subjectivity'].groupby(df_working['N-S']).mean()"
   ]
  },
  {
   "cell_type": "code",
   "execution_count": 85,
   "metadata": {},
   "outputs": [
    {
     "data": {
      "text/plain": [
       "N-S\n",
       "Intuition    0.04455\n",
       "Sensing      0.05159\n",
       "Name: subjectivity, dtype: float64"
      ]
     },
     "execution_count": 85,
     "metadata": {},
     "output_type": "execute_result"
    }
   ],
   "source": [
    "# Calculate standard deviation\n",
    "df_working['subjectivity'].groupby(df_working['N-S']).std()"
   ]
  },
  {
   "cell_type": "code",
   "execution_count": 89,
   "metadata": {},
   "outputs": [
    {
     "data": {
      "text/plain": [
       "Ttest_indResult(statistic=2.3084602445672062, pvalue=0.020996954292557331)"
      ]
     },
     "execution_count": 89,
     "metadata": {},
     "output_type": "execute_result"
    }
   ],
   "source": [
    "# T-test on Intuition - Sensing axis for subjectivity\n",
    "stats.ttest_ind_from_stats(mean1=0.535478, std1=0.04455, nobs1=7478, \n",
    "                           mean2=0.532202, std2=0.05159, nobs2=1197)"
   ]
  },
  {
   "cell_type": "markdown",
   "metadata": {},
   "source": [
    "The p-value is lower than 0.05, thus the difference is significant."
   ]
  },
  {
   "cell_type": "code",
   "execution_count": 53,
   "metadata": {},
   "outputs": [
    {
     "data": {
      "image/png": "[encoded data removed]",
      "text/plain": [
       "<matplotlib.figure.Figure at 0x1a1d61c588>"
      ]
     },
     "metadata": {},
     "output_type": "display_data"
    }
   ],
   "source": [
    "# Bar graph of subjectivity of posts, by Intuition - Sensing axis\n",
    "NScolors = sns.xkcd_palette([\"blue\", \"light blue\"])\n",
    "sns.set_palette(NScolors)\n",
    "sns.barplot(x=\"N-S\", y=\"subjectivity\", data=df_working, order=[\"Intuition\", \"Sensing\"])\n",
    "plt.title(\"Subjectivity of Posts, by Intuition vs. Sensing Axis\", fontsize=16)\n",
    "plt.ylim(0, 1)\n",
    "plt.xticks(fontsize=12)\n",
    "plt.yticks(fontsize=12);"
   ]
  },
  {
   "cell_type": "markdown",
   "metadata": {},
   "source": [
    "The bar graph and corresponding t-test show that subjects classified at the Intuition end of the axis are not significantly different from their Sensing counterparts in terms of subjectivity of their posts. Overall, both groups are fairly moderate in their subjectivity."
   ]
  },
  {
   "cell_type": "code",
   "execution_count": 54,
   "metadata": {},
   "outputs": [
    {
     "data": {
      "text/plain": [
       "T-F\n",
       "Feeling     0.542360\n",
       "Thinking    0.526379\n",
       "Name: subjectivity, dtype: float64"
      ]
     },
     "execution_count": 54,
     "metadata": {},
     "output_type": "execute_result"
    }
   ],
   "source": [
    "# Average subjectivity of posts, by Thinking (T) – Feeling (F) axis\n",
    "df_working['subjectivity'].groupby(df_working['T-F']).mean()"
   ]
  },
  {
   "cell_type": "code",
   "execution_count": 86,
   "metadata": {},
   "outputs": [
    {
     "data": {
      "text/plain": [
       "T-F\n",
       "Feeling     0.045917\n",
       "Thinking    0.043668\n",
       "Name: subjectivity, dtype: float64"
      ]
     },
     "execution_count": 86,
     "metadata": {},
     "output_type": "execute_result"
    }
   ],
   "source": [
    "# Calculate standard deviation\n",
    "df_working['subjectivity'].groupby(df_working['T-F']).std()"
   ]
  },
  {
   "cell_type": "code",
   "execution_count": 91,
   "metadata": {},
   "outputs": [
    {
     "data": {
      "text/plain": [
       "Ttest_indResult(statistic=-3.9389613943525532, pvalue=8.2476370045141286e-05)"
      ]
     },
     "execution_count": 91,
     "metadata": {},
     "output_type": "execute_result"
    }
   ],
   "source": [
    "# T-test on Thinking-Feeling axis for subjectivity\n",
    "stats.ttest_ind_from_stats(mean1=0.532694, std1=0.045282, nobs1=4694, \n",
    "                           mean2=0.536555, std2=0.045742, nobs2=3981)"
   ]
  },
  {
   "cell_type": "markdown",
   "metadata": {},
   "source": [
    "The p-value is lower than 0.05, thus the difference is significant."
   ]
  },
  {
   "cell_type": "code",
   "execution_count": 55,
   "metadata": {},
   "outputs": [
    {
     "data": {
      "image/png": "[encoded data removed]",
      "text/plain": [
       "<matplotlib.figure.Figure at 0x1a1c51b748>"
      ]
     },
     "metadata": {},
     "output_type": "display_data"
    }
   ],
   "source": [
    "# Bar graph of subjectivity of posts, by Thinking vs. Feeling axis\n",
    "TFcolors = sns.xkcd_palette([\"green\", \"pale green\"])\n",
    "sns.set_palette(TFcolors)\n",
    "sns.barplot(x=\"T-F\", y=\"subjectivity\", data=df_working, order=[\"Thinking\", \"Feeling\"])\n",
    "plt.title(\"Subjectivity of Posts, by Thinking vs. Feeling Axis\", fontsize=16)\n",
    "plt.ylim(0, 1)\n",
    "plt.xticks(fontsize=12)\n",
    "plt.yticks(fontsize=12);"
   ]
  },
  {
   "cell_type": "markdown",
   "metadata": {},
   "source": [
    "The bar graph and corresponding t-test show that subjects at the Feeling end of the axis have a significantly higher subjectivity to their posts than their Thinking counterparts, but both groups are fairly moderate."
   ]
  },
  {
   "cell_type": "code",
   "execution_count": 56,
   "metadata": {},
   "outputs": [
    {
     "data": {
      "text/plain": [
       "J-P\n",
       "Judging       0.532694\n",
       "Perceiving    0.536555\n",
       "Name: subjectivity, dtype: float64"
      ]
     },
     "execution_count": 56,
     "metadata": {},
     "output_type": "execute_result"
    }
   ],
   "source": [
    "# Average subjectivity of posts, by Judging (J) – Perceiving (P) axis\n",
    "df_working['subjectivity'].groupby(df_working['J-P']).mean()"
   ]
  },
  {
   "cell_type": "code",
   "execution_count": 92,
   "metadata": {},
   "outputs": [
    {
     "data": {
      "text/plain": [
       "J-P\n",
       "Judging       0.045282\n",
       "Perceiving    0.045742\n",
       "Name: subjectivity, dtype: float64"
      ]
     },
     "execution_count": 92,
     "metadata": {},
     "output_type": "execute_result"
    }
   ],
   "source": [
    "# Calculate standard deviation\n",
    "df_working['subjectivity'].groupby(df_working['J-P']).std()"
   ]
  },
  {
   "cell_type": "code",
   "execution_count": 93,
   "metadata": {},
   "outputs": [
    {
     "data": {
      "text/plain": [
       "Ttest_indResult(statistic=-3.8681077352664333, pvalue=0.00011048560170015395)"
      ]
     },
     "execution_count": 93,
     "metadata": {},
     "output_type": "execute_result"
    }
   ],
   "source": [
    "# T-test on Judging-Perceiving axis for subjectivity\n",
    "stats.ttest_ind_from_stats(mean1=0.532694, std1=0.045282, nobs1=5241, \n",
    "                           mean2=0.536555, std2=0.045742, nobs2=3434)"
   ]
  },
  {
   "cell_type": "markdown",
   "metadata": {},
   "source": [
    "The p-value is lower than 0.05, thus the difference is significant."
   ]
  },
  {
   "cell_type": "code",
   "execution_count": 57,
   "metadata": {},
   "outputs": [
    {
     "data": {
      "image/png": "[encoded data removed]",
      "text/plain": [
       "<matplotlib.figure.Figure at 0x1a1c0f52b0>"
      ]
     },
     "metadata": {},
     "output_type": "display_data"
    }
   ],
   "source": [
    "# Bar graph of subjectivity of posts, by Judging - Perceiving axis\n",
    "JPcolors = sns.xkcd_palette([\"purple\", \"lavender\"])\n",
    "sns.set_palette(JPcolors)\n",
    "sns.barplot(x=\"J-P\", y=\"subjectivity\", data=df_working, order=[\"Judging\", \"Perceiving\"])\n",
    "plt.title(\"Subjectivity of Posts, by Judging vs. Perceiving Axis\", fontsize=16)\n",
    "plt.ylim(0, 1)\n",
    "plt.xticks(fontsize=12)\n",
    "plt.yticks(fontsize=12);"
   ]
  },
  {
   "cell_type": "markdown",
   "metadata": {},
   "source": [
    "The bar graph and corresponding t-test show that those at the Perceiving end of the spectrum show significantly higher subjectivity to their posts than their Judging counterparts, yet both groups are relatively moderate."
   ]
  },
  {
   "cell_type": "markdown",
   "metadata": {},
   "source": [
    "---"
   ]
  },
  {
   "cell_type": "markdown",
   "metadata": {
    "collapsed": true
   },
   "source": [
    "<a id='conclusion'></a>\n",
    "### Conclusion\n",
    "\n",
    "While all three models surpassed the baseline of 0.211 in predicting the sixteen classes, they did not all perform similarly. While the *Random Forest Classifier* had the highest accuracy at 0.270, its predictions were limited entirely to the four Introvert-Intuition (IN-) classes, the most abundant classes in the dataset. The *K-Neighbors Classifier* had a much lower accuracy at 0.217, just barely clearing the baseline, but unlike the prior model it posted predictions across the full set of classes. The third model attempted, *One-Vs-The-Rest Classifier*, at 0.265 did not have as high an accuracy score as Random Forest, but it did make predictions across the full range of classes.\n",
    "\n",
    "At first glance, the *One-Vs-The-Rest Classifier* appears to have a large amount of mismatches in the confusion matrix. However, it is notable that many of the predictions differ from the actual class by only one letter of the type code. Recall that the Myers-Briggs personality types are comprised of four axes which make up the four-letter code. In many cases, if not predicting exactly, the model is able to attribute codes that match on three of the four axes. For example, there are several ENTPs in which Introversion/Intuitive classes were misattributed as ENTP.\n",
    "\n",
    "In terms of the sentiment analysis and word count, subjects across the axes tended to be fairly moderate in the subjectivity and neutral in polarity of their posts. However, there was a significantly higher subjectivity seen at the Introversion, Sensing, Feeling, and Perceiving ends of the respective axes. Likewise, a significantly higher polarity occurred among subjects at the Extrovert and Feeling ends of those axes. Overall the subjects averaged about 26.4 words per post, with those at the Intuition, Feeling, and Judging poles of their axes having a significantly higher average length. "
   ]
  },
  {
   "cell_type": "markdown",
   "metadata": {},
   "source": [
    "---"
   ]
  },
  {
   "cell_type": "markdown",
   "metadata": {},
   "source": [
    "<a id='next-steps'></a>\n",
    "### Next Steps\n",
    "\n",
    "An interesting project for further research can be done using different social media sites, to analyze subjects’ writing style in different contexts. The PersonalityCafe forum, while providing excellent information for the dataset including MBTI personality type, can be a bit limited in scope of the conversation that occurs there. It is also possibly a self-selecting sample, perhaps because Introverts may be more drawn to the topic of personality types than their Extroverted counterparts. A site like Facebook would be a rich source for information, both because the topic of discussion is broadened, and because it may draw a wider diversity of personality types due to its ubiquity. While Facebook does not inherently contain the information regarding personality type, this can be obtained by administering surveys incorporating the MBTI assessment to site users who have consented to participate in research."
   ]
  }
 ],
 "metadata": {
  "kernelspec": {
   "display_name": "Python 3",
   "language": "python",
   "name": "python3"
  },
  "language_info": {
   "codemirror_mode": {
    "name": "ipython",
    "version": 3
   },
   "file_extension": ".py",
   "mimetype": "text/x-python",
   "name": "python",
   "nbconvert_exporter": "python",
   "pygments_lexer": "ipython3",
   "version": "3.6.1"
  }
 },
 "nbformat": 4,
 "nbformat_minor": 2
}
